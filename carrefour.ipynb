{
 "cells": [
  {
   "cell_type": "code",
   "execution_count": 2,
   "metadata": {
    "ExecuteTime": {
     "end_time": "2020-03-26T23:17:58.207276Z",
     "start_time": "2020-03-26T23:17:58.141Z"
    }
   },
   "outputs": [],
   "source": [
    "# loading the dataset\n",
    "sales <-read.csv(\"C:/Users/I//Downloads/Supermarket_Dataset_1 - Sales Data.csv\")"
   ]
  },
  {
   "cell_type": "markdown",
   "metadata": {
    "ExecuteTime": {
     "end_time": "2020-03-17T03:37:46.238155Z",
     "start_time": "2020-03-17T03:37:46.004Z"
    }
   },
   "source": [
    "## checking the data"
   ]
  },
  {
   "cell_type": "code",
   "execution_count": 3,
   "metadata": {
    "ExecuteTime": {
     "end_time": "2020-03-26T23:18:07.199140Z",
     "start_time": "2020-03-26T23:18:00.062Z"
    }
   },
   "outputs": [
    {
     "name": "stdout",
     "output_type": "stream",
     "text": [
      "'data.frame':\t1000 obs. of  16 variables:\n",
      " $ Invoice.ID             : Factor w/ 1000 levels \"101-17-6199\",..: 815 143 654 19 340 734 316 265 703 727 ...\n",
      " $ Branch                 : Factor w/ 3 levels \"A\",\"B\",\"C\": 1 3 1 1 1 3 1 3 1 2 ...\n",
      " $ Customer.type          : Factor w/ 2 levels \"Member\",\"Normal\": 1 2 2 1 2 2 1 2 1 1 ...\n",
      " $ Gender                 : Factor w/ 2 levels \"Female\",\"Male\": 1 1 2 2 2 2 1 1 1 1 ...\n",
      " $ Product.line           : Factor w/ 6 levels \"Electronic accessories\",..: 4 1 5 4 6 1 1 5 4 3 ...\n",
      " $ Unit.price             : num  74.7 15.3 46.3 58.2 86.3 ...\n",
      " $ Quantity               : int  7 5 7 8 7 7 6 10 2 3 ...\n",
      " $ Tax                    : num  26.14 3.82 16.22 23.29 30.21 ...\n",
      " $ Date                   : Factor w/ 89 levels \"1/1/2019\",\"1/10/2019\",..: 27 88 82 20 58 77 49 48 2 44 ...\n",
      " $ Time                   : Factor w/ 506 levels \"10:00\",\"10:01\",..: 147 24 156 486 30 394 215 78 342 160 ...\n",
      " $ Payment                : Factor w/ 3 levels \"Cash\",\"Credit card\",..: 3 1 2 3 3 3 3 3 2 2 ...\n",
      " $ cogs                   : num  522.8 76.4 324.3 465.8 604.2 ...\n",
      " $ gross.margin.percentage: num  4.76 4.76 4.76 4.76 4.76 ...\n",
      " $ gross.income           : num  26.14 3.82 16.22 23.29 30.21 ...\n",
      " $ Rating                 : num  9.1 9.6 7.4 8.4 5.3 4.1 5.8 8 7.2 5.9 ...\n",
      " $ Total                  : num  549 80.2 340.5 489 634.4 ...\n"
     ]
    }
   ],
   "source": [
    "# checking for the structure of the dataset\n",
    "str(sales)"
   ]
  },
  {
   "cell_type": "markdown",
   "metadata": {},
   "source": [
    "there are 8 categorical data and 8 numerical data"
   ]
  },
  {
   "cell_type": "code",
   "execution_count": 4,
   "metadata": {
    "ExecuteTime": {
     "end_time": "2020-03-26T23:18:10.662912Z",
     "start_time": "2020-03-26T23:18:01.488Z"
    }
   },
   "outputs": [
    {
     "data": {
      "text/html": [
       "<ol class=list-inline>\n",
       "\t<li>1000</li>\n",
       "\t<li>16</li>\n",
       "</ol>\n"
      ],
      "text/latex": [
       "\\begin{enumerate*}\n",
       "\\item 1000\n",
       "\\item 16\n",
       "\\end{enumerate*}\n"
      ],
      "text/markdown": [
       "1. 1000\n",
       "2. 16\n",
       "\n",
       "\n"
      ],
      "text/plain": [
       "[1] 1000   16"
      ]
     },
     "metadata": {},
     "output_type": "display_data"
    }
   ],
   "source": [
    "#checking for the size of the dataset\n",
    "dim(sales)"
   ]
  },
  {
   "cell_type": "markdown",
   "metadata": {},
   "source": [
    "there are 1000 rows and 16 columns"
   ]
  },
  {
   "cell_type": "code",
   "execution_count": 5,
   "metadata": {
    "ExecuteTime": {
     "end_time": "2020-03-26T23:18:10.805823Z",
     "start_time": "2020-03-26T23:18:02.913Z"
    }
   },
   "outputs": [
    {
     "data": {
      "text/html": [
       "<table>\n",
       "<thead><tr><th scope=col>Invoice.ID</th><th scope=col>Branch</th><th scope=col>Customer.type</th><th scope=col>Gender</th><th scope=col>Product.line</th><th scope=col>Unit.price</th><th scope=col>Quantity</th><th scope=col>Tax</th><th scope=col>Date</th><th scope=col>Time</th><th scope=col>Payment</th><th scope=col>cogs</th><th scope=col>gross.margin.percentage</th><th scope=col>gross.income</th><th scope=col>Rating</th><th scope=col>Total</th></tr></thead>\n",
       "<tbody>\n",
       "\t<tr><td>750-67-8428           </td><td>A                     </td><td>Member                </td><td>Female                </td><td>Health and beauty     </td><td>74.69                 </td><td>7                     </td><td>26.1415               </td><td>1/5/2019              </td><td>13:08                 </td><td>Ewallet               </td><td>522.83                </td><td>4.761905              </td><td>26.1415               </td><td>9.1                   </td><td>548.9715              </td></tr>\n",
       "\t<tr><td>226-31-3081           </td><td>C                     </td><td>Normal                </td><td>Female                </td><td>Electronic accessories</td><td>15.28                 </td><td>5                     </td><td> 3.8200               </td><td>3/8/2019              </td><td>10:29                 </td><td>Cash                  </td><td> 76.40                </td><td>4.761905              </td><td> 3.8200               </td><td>9.6                   </td><td> 80.2200              </td></tr>\n",
       "\t<tr><td>631-41-3108           </td><td>A                     </td><td>Normal                </td><td>Male                  </td><td>Home and lifestyle    </td><td>46.33                 </td><td>7                     </td><td>16.2155               </td><td>3/3/2019              </td><td>13:23                 </td><td>Credit card           </td><td>324.31                </td><td>4.761905              </td><td>16.2155               </td><td>7.4                   </td><td>340.5255              </td></tr>\n",
       "\t<tr><td>123-19-1176           </td><td>A                     </td><td>Member                </td><td>Male                  </td><td>Health and beauty     </td><td>58.22                 </td><td>8                     </td><td>23.2880               </td><td>1/27/2019             </td><td>20:33                 </td><td>Ewallet               </td><td>465.76                </td><td>4.761905              </td><td>23.2880               </td><td>8.4                   </td><td>489.0480              </td></tr>\n",
       "\t<tr><td>373-73-7910           </td><td>A                     </td><td>Normal                </td><td>Male                  </td><td>Sports and travel     </td><td>86.31                 </td><td>7                     </td><td>30.2085               </td><td>2/8/2019              </td><td>10:37                 </td><td>Ewallet               </td><td>604.17                </td><td>4.761905              </td><td>30.2085               </td><td>5.3                   </td><td>634.3785              </td></tr>\n",
       "\t<tr><td>699-14-3026           </td><td>C                     </td><td>Normal                </td><td>Male                  </td><td>Electronic accessories</td><td>85.39                 </td><td>7                     </td><td>29.8865               </td><td>3/25/2019             </td><td>18:30                 </td><td>Ewallet               </td><td>597.73                </td><td>4.761905              </td><td>29.8865               </td><td>4.1                   </td><td>627.6165              </td></tr>\n",
       "</tbody>\n",
       "</table>\n"
      ],
      "text/latex": [
       "\\begin{tabular}{r|llllllllllllllll}\n",
       " Invoice.ID & Branch & Customer.type & Gender & Product.line & Unit.price & Quantity & Tax & Date & Time & Payment & cogs & gross.margin.percentage & gross.income & Rating & Total\\\\\n",
       "\\hline\n",
       "\t 750-67-8428            & A                      & Member                 & Female                 & Health and beauty      & 74.69                  & 7                      & 26.1415                & 1/5/2019               & 13:08                  & Ewallet                & 522.83                 & 4.761905               & 26.1415                & 9.1                    & 548.9715              \\\\\n",
       "\t 226-31-3081            & C                      & Normal                 & Female                 & Electronic accessories & 15.28                  & 5                      &  3.8200                & 3/8/2019               & 10:29                  & Cash                   &  76.40                 & 4.761905               &  3.8200                & 9.6                    &  80.2200              \\\\\n",
       "\t 631-41-3108            & A                      & Normal                 & Male                   & Home and lifestyle     & 46.33                  & 7                      & 16.2155                & 3/3/2019               & 13:23                  & Credit card            & 324.31                 & 4.761905               & 16.2155                & 7.4                    & 340.5255              \\\\\n",
       "\t 123-19-1176            & A                      & Member                 & Male                   & Health and beauty      & 58.22                  & 8                      & 23.2880                & 1/27/2019              & 20:33                  & Ewallet                & 465.76                 & 4.761905               & 23.2880                & 8.4                    & 489.0480              \\\\\n",
       "\t 373-73-7910            & A                      & Normal                 & Male                   & Sports and travel      & 86.31                  & 7                      & 30.2085                & 2/8/2019               & 10:37                  & Ewallet                & 604.17                 & 4.761905               & 30.2085                & 5.3                    & 634.3785              \\\\\n",
       "\t 699-14-3026            & C                      & Normal                 & Male                   & Electronic accessories & 85.39                  & 7                      & 29.8865                & 3/25/2019              & 18:30                  & Ewallet                & 597.73                 & 4.761905               & 29.8865                & 4.1                    & 627.6165              \\\\\n",
       "\\end{tabular}\n"
      ],
      "text/markdown": [
       "\n",
       "| Invoice.ID | Branch | Customer.type | Gender | Product.line | Unit.price | Quantity | Tax | Date | Time | Payment | cogs | gross.margin.percentage | gross.income | Rating | Total |\n",
       "|---|---|---|---|---|---|---|---|---|---|---|---|---|---|---|---|\n",
       "| 750-67-8428            | A                      | Member                 | Female                 | Health and beauty      | 74.69                  | 7                      | 26.1415                | 1/5/2019               | 13:08                  | Ewallet                | 522.83                 | 4.761905               | 26.1415                | 9.1                    | 548.9715               |\n",
       "| 226-31-3081            | C                      | Normal                 | Female                 | Electronic accessories | 15.28                  | 5                      |  3.8200                | 3/8/2019               | 10:29                  | Cash                   |  76.40                 | 4.761905               |  3.8200                | 9.6                    |  80.2200               |\n",
       "| 631-41-3108            | A                      | Normal                 | Male                   | Home and lifestyle     | 46.33                  | 7                      | 16.2155                | 3/3/2019               | 13:23                  | Credit card            | 324.31                 | 4.761905               | 16.2155                | 7.4                    | 340.5255               |\n",
       "| 123-19-1176            | A                      | Member                 | Male                   | Health and beauty      | 58.22                  | 8                      | 23.2880                | 1/27/2019              | 20:33                  | Ewallet                | 465.76                 | 4.761905               | 23.2880                | 8.4                    | 489.0480               |\n",
       "| 373-73-7910            | A                      | Normal                 | Male                   | Sports and travel      | 86.31                  | 7                      | 30.2085                | 2/8/2019               | 10:37                  | Ewallet                | 604.17                 | 4.761905               | 30.2085                | 5.3                    | 634.3785               |\n",
       "| 699-14-3026            | C                      | Normal                 | Male                   | Electronic accessories | 85.39                  | 7                      | 29.8865                | 3/25/2019              | 18:30                  | Ewallet                | 597.73                 | 4.761905               | 29.8865                | 4.1                    | 627.6165               |\n",
       "\n"
      ],
      "text/plain": [
       "  Invoice.ID  Branch Customer.type Gender Product.line           Unit.price\n",
       "1 750-67-8428 A      Member        Female Health and beauty      74.69     \n",
       "2 226-31-3081 C      Normal        Female Electronic accessories 15.28     \n",
       "3 631-41-3108 A      Normal        Male   Home and lifestyle     46.33     \n",
       "4 123-19-1176 A      Member        Male   Health and beauty      58.22     \n",
       "5 373-73-7910 A      Normal        Male   Sports and travel      86.31     \n",
       "6 699-14-3026 C      Normal        Male   Electronic accessories 85.39     \n",
       "  Quantity Tax     Date      Time  Payment     cogs   gross.margin.percentage\n",
       "1 7        26.1415 1/5/2019  13:08 Ewallet     522.83 4.761905               \n",
       "2 5         3.8200 3/8/2019  10:29 Cash         76.40 4.761905               \n",
       "3 7        16.2155 3/3/2019  13:23 Credit card 324.31 4.761905               \n",
       "4 8        23.2880 1/27/2019 20:33 Ewallet     465.76 4.761905               \n",
       "5 7        30.2085 2/8/2019  10:37 Ewallet     604.17 4.761905               \n",
       "6 7        29.8865 3/25/2019 18:30 Ewallet     597.73 4.761905               \n",
       "  gross.income Rating Total   \n",
       "1 26.1415      9.1    548.9715\n",
       "2  3.8200      9.6     80.2200\n",
       "3 16.2155      7.4    340.5255\n",
       "4 23.2880      8.4    489.0480\n",
       "5 30.2085      5.3    634.3785\n",
       "6 29.8865      4.1    627.6165"
      ]
     },
     "metadata": {},
     "output_type": "display_data"
    }
   ],
   "source": [
    "# previewing the top of the dataset\n",
    "head(sales)"
   ]
  },
  {
   "cell_type": "code",
   "execution_count": 6,
   "metadata": {
    "ExecuteTime": {
     "end_time": "2020-03-26T23:18:10.943738Z",
     "start_time": "2020-03-26T23:18:03.548Z"
    }
   },
   "outputs": [
    {
     "data": {
      "text/html": [
       "<table>\n",
       "<thead><tr><th></th><th scope=col>Invoice.ID</th><th scope=col>Branch</th><th scope=col>Customer.type</th><th scope=col>Gender</th><th scope=col>Product.line</th><th scope=col>Unit.price</th><th scope=col>Quantity</th><th scope=col>Tax</th><th scope=col>Date</th><th scope=col>Time</th><th scope=col>Payment</th><th scope=col>cogs</th><th scope=col>gross.margin.percentage</th><th scope=col>gross.income</th><th scope=col>Rating</th><th scope=col>Total</th></tr></thead>\n",
       "<tbody>\n",
       "\t<tr><th scope=row>995</th><td>652-49-6720           </td><td>C                     </td><td>Member                </td><td>Female                </td><td>Electronic accessories</td><td>60.95                 </td><td> 1                    </td><td> 3.0475               </td><td>2/18/2019             </td><td>11:40                 </td><td>Ewallet               </td><td> 60.95                </td><td>4.761905              </td><td> 3.0475               </td><td>5.9                   </td><td>  63.9975             </td></tr>\n",
       "\t<tr><th scope=row>996</th><td>233-67-5758           </td><td>C                     </td><td>Normal                </td><td>Male                  </td><td>Health and beauty     </td><td>40.35                 </td><td> 1                    </td><td> 2.0175               </td><td>1/29/2019             </td><td>13:46                 </td><td>Ewallet               </td><td> 40.35                </td><td>4.761905              </td><td> 2.0175               </td><td>6.2                   </td><td>  42.3675             </td></tr>\n",
       "\t<tr><th scope=row>997</th><td>303-96-2227           </td><td>B                     </td><td>Normal                </td><td>Female                </td><td>Home and lifestyle    </td><td>97.38                 </td><td>10                    </td><td>48.6900               </td><td>3/2/2019              </td><td>17:16                 </td><td>Ewallet               </td><td>973.80                </td><td>4.761905              </td><td>48.6900               </td><td>4.4                   </td><td>1022.4900             </td></tr>\n",
       "\t<tr><th scope=row>998</th><td>727-02-1313           </td><td>A                     </td><td>Member                </td><td>Male                  </td><td>Food and beverages    </td><td>31.84                 </td><td> 1                    </td><td> 1.5920               </td><td>2/9/2019              </td><td>13:22                 </td><td>Cash                  </td><td> 31.84                </td><td>4.761905              </td><td> 1.5920               </td><td>7.7                   </td><td>  33.4320             </td></tr>\n",
       "\t<tr><th scope=row>999</th><td>347-56-2442           </td><td>A                     </td><td>Normal                </td><td>Male                  </td><td>Home and lifestyle    </td><td>65.82                 </td><td> 1                    </td><td> 3.2910               </td><td>2/22/2019             </td><td>15:33                 </td><td>Cash                  </td><td> 65.82                </td><td>4.761905              </td><td> 3.2910               </td><td>4.1                   </td><td>  69.1110             </td></tr>\n",
       "\t<tr><th scope=row>1000</th><td>849-09-3807           </td><td>A                     </td><td>Member                </td><td>Female                </td><td>Fashion accessories   </td><td>88.34                 </td><td> 7                    </td><td>30.9190               </td><td>2/18/2019             </td><td>13:28                 </td><td>Cash                  </td><td>618.38                </td><td>4.761905              </td><td>30.9190               </td><td>6.6                   </td><td> 649.2990             </td></tr>\n",
       "</tbody>\n",
       "</table>\n"
      ],
      "text/latex": [
       "\\begin{tabular}{r|llllllllllllllll}\n",
       "  & Invoice.ID & Branch & Customer.type & Gender & Product.line & Unit.price & Quantity & Tax & Date & Time & Payment & cogs & gross.margin.percentage & gross.income & Rating & Total\\\\\n",
       "\\hline\n",
       "\t995 & 652-49-6720            & C                      & Member                 & Female                 & Electronic accessories & 60.95                  &  1                     &  3.0475                & 2/18/2019              & 11:40                  & Ewallet                &  60.95                 & 4.761905               &  3.0475                & 5.9                    &   63.9975             \\\\\n",
       "\t996 & 233-67-5758            & C                      & Normal                 & Male                   & Health and beauty      & 40.35                  &  1                     &  2.0175                & 1/29/2019              & 13:46                  & Ewallet                &  40.35                 & 4.761905               &  2.0175                & 6.2                    &   42.3675             \\\\\n",
       "\t997 & 303-96-2227            & B                      & Normal                 & Female                 & Home and lifestyle     & 97.38                  & 10                     & 48.6900                & 3/2/2019               & 17:16                  & Ewallet                & 973.80                 & 4.761905               & 48.6900                & 4.4                    & 1022.4900             \\\\\n",
       "\t998 & 727-02-1313            & A                      & Member                 & Male                   & Food and beverages     & 31.84                  &  1                     &  1.5920                & 2/9/2019               & 13:22                  & Cash                   &  31.84                 & 4.761905               &  1.5920                & 7.7                    &   33.4320             \\\\\n",
       "\t999 & 347-56-2442            & A                      & Normal                 & Male                   & Home and lifestyle     & 65.82                  &  1                     &  3.2910                & 2/22/2019              & 15:33                  & Cash                   &  65.82                 & 4.761905               &  3.2910                & 4.1                    &   69.1110             \\\\\n",
       "\t1000 & 849-09-3807            & A                      & Member                 & Female                 & Fashion accessories    & 88.34                  &  7                     & 30.9190                & 2/18/2019              & 13:28                  & Cash                   & 618.38                 & 4.761905               & 30.9190                & 6.6                    &  649.2990             \\\\\n",
       "\\end{tabular}\n"
      ],
      "text/markdown": [
       "\n",
       "| <!--/--> | Invoice.ID | Branch | Customer.type | Gender | Product.line | Unit.price | Quantity | Tax | Date | Time | Payment | cogs | gross.margin.percentage | gross.income | Rating | Total |\n",
       "|---|---|---|---|---|---|---|---|---|---|---|---|---|---|---|---|---|\n",
       "| 995 | 652-49-6720            | C                      | Member                 | Female                 | Electronic accessories | 60.95                  |  1                     |  3.0475                | 2/18/2019              | 11:40                  | Ewallet                |  60.95                 | 4.761905               |  3.0475                | 5.9                    |   63.9975              |\n",
       "| 996 | 233-67-5758            | C                      | Normal                 | Male                   | Health and beauty      | 40.35                  |  1                     |  2.0175                | 1/29/2019              | 13:46                  | Ewallet                |  40.35                 | 4.761905               |  2.0175                | 6.2                    |   42.3675              |\n",
       "| 997 | 303-96-2227            | B                      | Normal                 | Female                 | Home and lifestyle     | 97.38                  | 10                     | 48.6900                | 3/2/2019               | 17:16                  | Ewallet                | 973.80                 | 4.761905               | 48.6900                | 4.4                    | 1022.4900              |\n",
       "| 998 | 727-02-1313            | A                      | Member                 | Male                   | Food and beverages     | 31.84                  |  1                     |  1.5920                | 2/9/2019               | 13:22                  | Cash                   |  31.84                 | 4.761905               |  1.5920                | 7.7                    |   33.4320              |\n",
       "| 999 | 347-56-2442            | A                      | Normal                 | Male                   | Home and lifestyle     | 65.82                  |  1                     |  3.2910                | 2/22/2019              | 15:33                  | Cash                   |  65.82                 | 4.761905               |  3.2910                | 4.1                    |   69.1110              |\n",
       "| 1000 | 849-09-3807            | A                      | Member                 | Female                 | Fashion accessories    | 88.34                  |  7                     | 30.9190                | 2/18/2019              | 13:28                  | Cash                   | 618.38                 | 4.761905               | 30.9190                | 6.6                    |  649.2990              |\n",
       "\n"
      ],
      "text/plain": [
       "     Invoice.ID  Branch Customer.type Gender Product.line           Unit.price\n",
       "995  652-49-6720 C      Member        Female Electronic accessories 60.95     \n",
       "996  233-67-5758 C      Normal        Male   Health and beauty      40.35     \n",
       "997  303-96-2227 B      Normal        Female Home and lifestyle     97.38     \n",
       "998  727-02-1313 A      Member        Male   Food and beverages     31.84     \n",
       "999  347-56-2442 A      Normal        Male   Home and lifestyle     65.82     \n",
       "1000 849-09-3807 A      Member        Female Fashion accessories    88.34     \n",
       "     Quantity Tax     Date      Time  Payment cogs   gross.margin.percentage\n",
       "995   1        3.0475 2/18/2019 11:40 Ewallet  60.95 4.761905               \n",
       "996   1        2.0175 1/29/2019 13:46 Ewallet  40.35 4.761905               \n",
       "997  10       48.6900 3/2/2019  17:16 Ewallet 973.80 4.761905               \n",
       "998   1        1.5920 2/9/2019  13:22 Cash     31.84 4.761905               \n",
       "999   1        3.2910 2/22/2019 15:33 Cash     65.82 4.761905               \n",
       "1000  7       30.9190 2/18/2019 13:28 Cash    618.38 4.761905               \n",
       "     gross.income Rating Total    \n",
       "995   3.0475      5.9      63.9975\n",
       "996   2.0175      6.2      42.3675\n",
       "997  48.6900      4.4    1022.4900\n",
       "998   1.5920      7.7      33.4320\n",
       "999   3.2910      4.1      69.1110\n",
       "1000 30.9190      6.6     649.2990"
      ]
     },
     "metadata": {},
     "output_type": "display_data"
    }
   ],
   "source": [
    "# previewing the bottom of the data\n",
    "tail(sales)"
   ]
  },
  {
   "cell_type": "code",
   "execution_count": 7,
   "metadata": {
    "ExecuteTime": {
     "end_time": "2020-03-26T23:18:11.083652Z",
     "start_time": "2020-03-26T23:18:04.201Z"
    }
   },
   "outputs": [
    {
     "data": {
      "text/html": [
       "<ol class=list-inline>\n",
       "\t<li>'Invoice.ID'</li>\n",
       "\t<li>'Branch'</li>\n",
       "\t<li>'Customer.type'</li>\n",
       "\t<li>'Gender'</li>\n",
       "\t<li>'Product.line'</li>\n",
       "\t<li>'Unit.price'</li>\n",
       "\t<li>'Quantity'</li>\n",
       "\t<li>'Tax'</li>\n",
       "\t<li>'Date'</li>\n",
       "\t<li>'Time'</li>\n",
       "\t<li>'Payment'</li>\n",
       "\t<li>'cogs'</li>\n",
       "\t<li>'gross.margin.percentage'</li>\n",
       "\t<li>'gross.income'</li>\n",
       "\t<li>'Rating'</li>\n",
       "\t<li>'Total'</li>\n",
       "</ol>\n"
      ],
      "text/latex": [
       "\\begin{enumerate*}\n",
       "\\item 'Invoice.ID'\n",
       "\\item 'Branch'\n",
       "\\item 'Customer.type'\n",
       "\\item 'Gender'\n",
       "\\item 'Product.line'\n",
       "\\item 'Unit.price'\n",
       "\\item 'Quantity'\n",
       "\\item 'Tax'\n",
       "\\item 'Date'\n",
       "\\item 'Time'\n",
       "\\item 'Payment'\n",
       "\\item 'cogs'\n",
       "\\item 'gross.margin.percentage'\n",
       "\\item 'gross.income'\n",
       "\\item 'Rating'\n",
       "\\item 'Total'\n",
       "\\end{enumerate*}\n"
      ],
      "text/markdown": [
       "1. 'Invoice.ID'\n",
       "2. 'Branch'\n",
       "3. 'Customer.type'\n",
       "4. 'Gender'\n",
       "5. 'Product.line'\n",
       "6. 'Unit.price'\n",
       "7. 'Quantity'\n",
       "8. 'Tax'\n",
       "9. 'Date'\n",
       "10. 'Time'\n",
       "11. 'Payment'\n",
       "12. 'cogs'\n",
       "13. 'gross.margin.percentage'\n",
       "14. 'gross.income'\n",
       "15. 'Rating'\n",
       "16. 'Total'\n",
       "\n",
       "\n"
      ],
      "text/plain": [
       " [1] \"Invoice.ID\"              \"Branch\"                 \n",
       " [3] \"Customer.type\"           \"Gender\"                 \n",
       " [5] \"Product.line\"            \"Unit.price\"             \n",
       " [7] \"Quantity\"                \"Tax\"                    \n",
       " [9] \"Date\"                    \"Time\"                   \n",
       "[11] \"Payment\"                 \"cogs\"                   \n",
       "[13] \"gross.margin.percentage\" \"gross.income\"           \n",
       "[15] \"Rating\"                  \"Total\"                  "
      ]
     },
     "metadata": {},
     "output_type": "display_data"
    }
   ],
   "source": [
    "#checking for the names of the columns\n",
    "colnames(sales)"
   ]
  },
  {
   "cell_type": "markdown",
   "metadata": {},
   "source": [
    "there is lack of uniformity in the columns names. we will need to standardise them when we work on data wrangling"
   ]
  },
  {
   "cell_type": "markdown",
   "metadata": {},
   "source": [
    "## Data Wrangling"
   ]
  },
  {
   "cell_type": "code",
   "execution_count": 8,
   "metadata": {
    "ExecuteTime": {
     "end_time": "2020-03-26T23:18:11.213572Z",
     "start_time": "2020-03-26T23:18:05.920Z"
    }
   },
   "outputs": [
    {
     "data": {
      "text/html": [
       "<ol class=list-inline>\n",
       "\t<li>'Invoice.ID'</li>\n",
       "\t<li>'Branch'</li>\n",
       "\t<li>'Customer.type'</li>\n",
       "\t<li>'Gender'</li>\n",
       "\t<li>'Product.line'</li>\n",
       "\t<li>'Unit.price'</li>\n",
       "\t<li>'Quantity'</li>\n",
       "\t<li>'Tax'</li>\n",
       "\t<li>'Date'</li>\n",
       "\t<li>'Time'</li>\n",
       "\t<li>'Payment'</li>\n",
       "\t<li>'cogs'</li>\n",
       "\t<li>'gross.margin.percentage'</li>\n",
       "\t<li>'gross.income'</li>\n",
       "\t<li>'Rating'</li>\n",
       "\t<li>'Total'</li>\n",
       "</ol>\n"
      ],
      "text/latex": [
       "\\begin{enumerate*}\n",
       "\\item 'Invoice.ID'\n",
       "\\item 'Branch'\n",
       "\\item 'Customer.type'\n",
       "\\item 'Gender'\n",
       "\\item 'Product.line'\n",
       "\\item 'Unit.price'\n",
       "\\item 'Quantity'\n",
       "\\item 'Tax'\n",
       "\\item 'Date'\n",
       "\\item 'Time'\n",
       "\\item 'Payment'\n",
       "\\item 'cogs'\n",
       "\\item 'gross.margin.percentage'\n",
       "\\item 'gross.income'\n",
       "\\item 'Rating'\n",
       "\\item 'Total'\n",
       "\\end{enumerate*}\n"
      ],
      "text/markdown": [
       "1. 'Invoice.ID'\n",
       "2. 'Branch'\n",
       "3. 'Customer.type'\n",
       "4. 'Gender'\n",
       "5. 'Product.line'\n",
       "6. 'Unit.price'\n",
       "7. 'Quantity'\n",
       "8. 'Tax'\n",
       "9. 'Date'\n",
       "10. 'Time'\n",
       "11. 'Payment'\n",
       "12. 'cogs'\n",
       "13. 'gross.margin.percentage'\n",
       "14. 'gross.income'\n",
       "15. 'Rating'\n",
       "16. 'Total'\n",
       "\n",
       "\n"
      ],
      "text/plain": [
       " [1] \"Invoice.ID\"              \"Branch\"                 \n",
       " [3] \"Customer.type\"           \"Gender\"                 \n",
       " [5] \"Product.line\"            \"Unit.price\"             \n",
       " [7] \"Quantity\"                \"Tax\"                    \n",
       " [9] \"Date\"                    \"Time\"                   \n",
       "[11] \"Payment\"                 \"cogs\"                   \n",
       "[13] \"gross.margin.percentage\" \"gross.income\"           \n",
       "[15] \"Rating\"                  \"Total\"                  "
      ]
     },
     "metadata": {},
     "output_type": "display_data"
    }
   ],
   "source": [
    "colnames(sales)"
   ]
  },
  {
   "cell_type": "code",
   "execution_count": 46,
   "metadata": {
    "ExecuteTime": {
     "end_time": "2020-03-26T23:28:33.340574Z",
     "start_time": "2020-03-26T23:28:33.302Z"
    }
   },
   "outputs": [],
   "source": [
    "# dropping the invoice id column since it will not assist as in our analysis\n",
    "sales$invoice_id <- NULL"
   ]
  },
  {
   "cell_type": "code",
   "execution_count": 47,
   "metadata": {
    "ExecuteTime": {
     "end_time": "2020-03-26T23:28:52.191239Z",
     "start_time": "2020-03-26T23:28:52.128Z"
    }
   },
   "outputs": [],
   "source": [
    "# making the column names uniform\n",
    "names(sales)[names(sales) == \"Branch\"] <- \"branch\"\n",
    "names(sales)[names(sales) == \"Customer.type\"] <- \"customer_type\"\n",
    "names(sales)[names(sales) == \"Gender\"] <- \"sex\"\n",
    "names(sales)[names(sales) == \"Product.line\"] <- \"product_line\"\n",
    "names(sales)[names(sales) == \"Unit.price\"] <- \"unit_price\"\n",
    "names(sales)[names(sales) == \"Quantity\"] <- \"quantity\"\n",
    "names(sales)[names(sales) == \"Tax\"] <- \"tax\"\n",
    "names(sales)[names(sales) == \"Date\"] <- \"date\"\n",
    "names(sales)[names(sales) == \"Time\"] <- \"time\"\n",
    "names(sales)[names(sales) == \"Payment\"] <- \"payment\"\n",
    "names(sales)[names(sales) == \"gross.margin.percentage\"] <- \"gross_margin_percentage\"\n",
    "names(sales)[names(sales) == \"gross.income\"] <- \"gross_income\"\n",
    "names(sales)[names(sales) == \"Rating\"] <- \"rating\"\n",
    "names(sales)[names(sales) == \"Total\"] <- \"total\""
   ]
  },
  {
   "cell_type": "code",
   "execution_count": 48,
   "metadata": {
    "ExecuteTime": {
     "end_time": "2020-03-26T23:28:53.135315Z",
     "start_time": "2020-03-26T23:28:53.089Z"
    }
   },
   "outputs": [
    {
     "data": {
      "text/html": [
       "<dl class=dl-horizontal>\n",
       "\t<dt>branch</dt>\n",
       "\t\t<dd>0</dd>\n",
       "\t<dt>customer_type</dt>\n",
       "\t\t<dd>0</dd>\n",
       "\t<dt>sex</dt>\n",
       "\t\t<dd>0</dd>\n",
       "\t<dt>product_line</dt>\n",
       "\t\t<dd>0</dd>\n",
       "\t<dt>unit_price</dt>\n",
       "\t\t<dd>0</dd>\n",
       "\t<dt>quantity</dt>\n",
       "\t\t<dd>0</dd>\n",
       "\t<dt>tax</dt>\n",
       "\t\t<dd>0</dd>\n",
       "\t<dt>date</dt>\n",
       "\t\t<dd>0</dd>\n",
       "\t<dt>time</dt>\n",
       "\t\t<dd>0</dd>\n",
       "\t<dt>payment</dt>\n",
       "\t\t<dd>0</dd>\n",
       "\t<dt>cogs</dt>\n",
       "\t\t<dd>0</dd>\n",
       "\t<dt>gross_margin_percentage</dt>\n",
       "\t\t<dd>0</dd>\n",
       "\t<dt>gross_income</dt>\n",
       "\t\t<dd>0</dd>\n",
       "\t<dt>rating</dt>\n",
       "\t\t<dd>0</dd>\n",
       "\t<dt>total</dt>\n",
       "\t\t<dd>0</dd>\n",
       "</dl>\n"
      ],
      "text/latex": [
       "\\begin{description*}\n",
       "\\item[branch] 0\n",
       "\\item[customer\\textbackslash{}\\_type] 0\n",
       "\\item[sex] 0\n",
       "\\item[product\\textbackslash{}\\_line] 0\n",
       "\\item[unit\\textbackslash{}\\_price] 0\n",
       "\\item[quantity] 0\n",
       "\\item[tax] 0\n",
       "\\item[date] 0\n",
       "\\item[time] 0\n",
       "\\item[payment] 0\n",
       "\\item[cogs] 0\n",
       "\\item[gross\\textbackslash{}\\_margin\\textbackslash{}\\_percentage] 0\n",
       "\\item[gross\\textbackslash{}\\_income] 0\n",
       "\\item[rating] 0\n",
       "\\item[total] 0\n",
       "\\end{description*}\n"
      ],
      "text/markdown": [
       "branch\n",
       ":   0customer_type\n",
       ":   0sex\n",
       ":   0product_line\n",
       ":   0unit_price\n",
       ":   0quantity\n",
       ":   0tax\n",
       ":   0date\n",
       ":   0time\n",
       ":   0payment\n",
       ":   0cogs\n",
       ":   0gross_margin_percentage\n",
       ":   0gross_income\n",
       ":   0rating\n",
       ":   0total\n",
       ":   0\n",
       "\n"
      ],
      "text/plain": [
       "                 branch           customer_type                     sex \n",
       "                      0                       0                       0 \n",
       "           product_line              unit_price                quantity \n",
       "                      0                       0                       0 \n",
       "                    tax                    date                    time \n",
       "                      0                       0                       0 \n",
       "                payment                    cogs gross_margin_percentage \n",
       "                      0                       0                       0 \n",
       "           gross_income                  rating                   total \n",
       "                      0                       0                       0 "
      ]
     },
     "metadata": {},
     "output_type": "display_data"
    }
   ],
   "source": [
    "# checking for missing data\n",
    "colSums(is.na(sales))"
   ]
  },
  {
   "cell_type": "markdown",
   "metadata": {},
   "source": [
    "there are no missing data in the dataset"
   ]
  },
  {
   "cell_type": "code",
   "execution_count": 49,
   "metadata": {
    "ExecuteTime": {
     "end_time": "2020-03-26T23:28:54.514641Z",
     "start_time": "2020-03-26T23:28:54.450Z"
    }
   },
   "outputs": [
    {
     "data": {
      "text/html": [
       "<table>\n",
       "<thead><tr><th scope=col>branch</th><th scope=col>customer_type</th><th scope=col>sex</th><th scope=col>product_line</th><th scope=col>unit_price</th><th scope=col>quantity</th><th scope=col>tax</th><th scope=col>date</th><th scope=col>time</th><th scope=col>payment</th><th scope=col>cogs</th><th scope=col>gross_margin_percentage</th><th scope=col>gross_income</th><th scope=col>rating</th><th scope=col>total</th></tr></thead>\n",
       "<tbody>\n",
       "</tbody>\n",
       "</table>\n"
      ],
      "text/latex": [
       "\\begin{tabular}{r|lllllllllllllll}\n",
       " branch & customer\\_type & sex & product\\_line & unit\\_price & quantity & tax & date & time & payment & cogs & gross\\_margin\\_percentage & gross\\_income & rating & total\\\\\n",
       "\\hline\n",
       "\\end{tabular}\n"
      ],
      "text/markdown": [
       "\n",
       "| branch | customer_type | sex | product_line | unit_price | quantity | tax | date | time | payment | cogs | gross_margin_percentage | gross_income | rating | total |\n",
       "|---|---|---|---|---|---|---|---|---|---|---|---|---|---|---|\n",
       "\n"
      ],
      "text/plain": [
       "     branch customer_type sex product_line unit_price quantity tax date time\n",
       "     payment cogs gross_margin_percentage gross_income rating total"
      ]
     },
     "metadata": {},
     "output_type": "display_data"
    }
   ],
   "source": [
    "# checking for duplicates\n",
    "sales[duplicated(sales),]"
   ]
  },
  {
   "cell_type": "markdown",
   "metadata": {},
   "source": [
    "there are no duplicates in the dataset"
   ]
  },
  {
   "cell_type": "code",
   "execution_count": 50,
   "metadata": {
    "ExecuteTime": {
     "end_time": "2020-03-26T23:28:55.915365Z",
     "start_time": "2020-03-26T23:28:55.828Z"
    }
   },
   "outputs": [
    {
     "data": {
      "image/png": "[encoded data removed]",
      "text/plain": [
       "plot without title"
      ]
     },
     "metadata": {},
     "output_type": "display_data"
    }
   ],
   "source": [
    "#checking for outliers\n",
    "boxplot(sales$unit_price)"
   ]
  },
  {
   "cell_type": "markdown",
   "metadata": {},
   "source": [
    "there are no outliers in the unit price dataset"
   ]
  },
  {
   "cell_type": "code",
   "execution_count": 51,
   "metadata": {
    "ExecuteTime": {
     "end_time": "2020-03-26T23:28:57.189941Z",
     "start_time": "2020-03-26T23:28:57.106Z"
    }
   },
   "outputs": [
    {
     "data": {
      "image/png": "[encoded data removed]",
      "text/plain": [
       "plot without title"
      ]
     },
     "metadata": {},
     "output_type": "display_data"
    }
   ],
   "source": [
    "boxplot(sales$quantity)"
   ]
  },
  {
   "cell_type": "markdown",
   "metadata": {},
   "source": [
    "there are no outliers in the quality dataset"
   ]
  },
  {
   "cell_type": "code",
   "execution_count": 52,
   "metadata": {
    "ExecuteTime": {
     "end_time": "2020-03-26T23:28:58.198240Z",
     "start_time": "2020-03-26T23:28:58.107Z"
    }
   },
   "outputs": [
    {
     "data": {
      "image/png": "[encoded data removed]",
      "text/plain": [
       "plot without title"
      ]
     },
     "metadata": {},
     "output_type": "display_data"
    }
   ],
   "source": [
    "boxplot(sales$tax)"
   ]
  },
  {
   "cell_type": "markdown",
   "metadata": {
    "ExecuteTime": {
     "end_time": "2020-03-17T04:05:43.782234Z",
     "start_time": "2020-03-17T04:05:43.749Z"
    }
   },
   "source": [
    "there are some outliers in the tax feature"
   ]
  },
  {
   "cell_type": "code",
   "execution_count": 53,
   "metadata": {
    "ExecuteTime": {
     "end_time": "2020-03-26T23:28:59.223705Z",
     "start_time": "2020-03-26T23:28:59.127Z"
    }
   },
   "outputs": [
    {
     "data": {
      "image/png": "[encoded data removed]",
      "text/plain": [
       "plot without title"
      ]
     },
     "metadata": {},
     "output_type": "display_data"
    }
   ],
   "source": [
    "boxplot(sales$cogs)"
   ]
  },
  {
   "cell_type": "markdown",
   "metadata": {},
   "source": [
    "there are some outliers in the cogs feature"
   ]
  },
  {
   "cell_type": "code",
   "execution_count": null,
   "metadata": {
    "ExecuteTime": {
     "end_time": "2020-03-17T04:07:21.825958Z",
     "start_time": "2020-03-17T04:07:21.774Z"
    }
   },
   "outputs": [],
   "source": []
  },
  {
   "cell_type": "code",
   "execution_count": 54,
   "metadata": {
    "ExecuteTime": {
     "end_time": "2020-03-26T23:29:00.905505Z",
     "start_time": "2020-03-26T23:29:00.821Z"
    }
   },
   "outputs": [
    {
     "data": {
      "image/png": "[encoded data removed]",
      "text/plain": [
       "plot without title"
      ]
     },
     "metadata": {},
     "output_type": "display_data"
    }
   ],
   "source": [
    "boxplot(sales$gross_margin_percentage)"
   ]
  },
  {
   "cell_type": "markdown",
   "metadata": {},
   "source": [
    "there are no outliers in the gross margin percentage feature"
   ]
  },
  {
   "cell_type": "code",
   "execution_count": 55,
   "metadata": {
    "ExecuteTime": {
     "end_time": "2020-03-26T23:29:01.919041Z",
     "start_time": "2020-03-26T23:29:01.832Z"
    }
   },
   "outputs": [
    {
     "data": {
      "image/png": "[encoded data removed]",
      "text/plain": [
       "plot without title"
      ]
     },
     "metadata": {},
     "output_type": "display_data"
    }
   ],
   "source": [
    "boxplot(sales$gross_income)"
   ]
  },
  {
   "cell_type": "markdown",
   "metadata": {},
   "source": [
    "there are some outliers in the gross income feature"
   ]
  },
  {
   "cell_type": "code",
   "execution_count": 56,
   "metadata": {
    "ExecuteTime": {
     "end_time": "2020-03-26T23:29:03.003661Z",
     "start_time": "2020-03-26T23:29:02.915Z"
    }
   },
   "outputs": [
    {
     "data": {
      "image/png": "[encoded data removed]",
      "text/plain": [
       "plot without title"
      ]
     },
     "metadata": {},
     "output_type": "display_data"
    }
   ],
   "source": [
    "boxplot(sales$rating)"
   ]
  },
  {
   "cell_type": "markdown",
   "metadata": {},
   "source": [
    "there are no outliers in the rating feature"
   ]
  },
  {
   "cell_type": "code",
   "execution_count": 57,
   "metadata": {
    "ExecuteTime": {
     "end_time": "2020-03-26T23:29:04.024624Z",
     "start_time": "2020-03-26T23:29:03.936Z"
    }
   },
   "outputs": [
    {
     "data": {
      "image/png": "[encoded data removed]",
      "text/plain": [
       "plot without title"
      ]
     },
     "metadata": {},
     "output_type": "display_data"
    }
   ],
   "source": [
    "boxplot(sales$total)"
   ]
  },
  {
   "cell_type": "markdown",
   "metadata": {},
   "source": [
    "there are no outliers in the total feature"
   ]
  },
  {
   "cell_type": "markdown",
   "metadata": {},
   "source": [
    "## Dealing with outliers"
   ]
  },
  {
   "cell_type": "markdown",
   "metadata": {
    "ExecuteTime": {
     "end_time": "2020-03-17T04:22:03.226301Z",
     "start_time": "2020-03-17T04:22:03.202Z"
    }
   },
   "source": [
    "the outliers in the dataset are valid"
   ]
  },
  {
   "cell_type": "markdown",
   "metadata": {},
   "source": [
    "# Univariate Data Analysis"
   ]
  },
  {
   "cell_type": "code",
   "execution_count": 58,
   "metadata": {
    "ExecuteTime": {
     "end_time": "2020-03-26T23:29:07.803011Z",
     "start_time": "2020-03-26T23:29:07.707Z"
    }
   },
   "outputs": [
    {
     "data": {
      "image/png": "[encoded data removed]",
      "text/plain": [
       "Plot with title \"Branch\""
      ]
     },
     "metadata": {},
     "output_type": "display_data"
    }
   ],
   "source": [
    "barplot(table(sales$branch),\n",
    "       main = \"Branch\",\n",
    "       xlab= \"Branch\",\n",
    "       col= \"blue\")"
   ]
  },
  {
   "cell_type": "markdown",
   "metadata": {},
   "source": [
    "Branch A has makes more sales than than the other branches, B & C."
   ]
  },
  {
   "cell_type": "code",
   "execution_count": 59,
   "metadata": {
    "ExecuteTime": {
     "end_time": "2020-03-26T23:29:08.872029Z",
     "start_time": "2020-03-26T23:29:08.782Z"
    }
   },
   "outputs": [
    {
     "data": {
      "image/png": "[encoded data removed]",
      "text/plain": [
       "Plot with title \"Customer Type\""
      ]
     },
     "metadata": {},
     "output_type": "display_data"
    }
   ],
   "source": [
    "barplot(table(sales$customer_type),\n",
    "       main = \"Customer Type\",\n",
    "       xlab = \"Customer Type\",\n",
    "       col = \"green\")"
   ]
  },
  {
   "cell_type": "markdown",
   "metadata": {},
   "source": [
    "members of Carrefour buy from the company equally to the Normal Customers"
   ]
  },
  {
   "cell_type": "code",
   "execution_count": 60,
   "metadata": {
    "ExecuteTime": {
     "end_time": "2020-03-26T23:29:09.926831Z",
     "start_time": "2020-03-26T23:29:09.841Z"
    }
   },
   "outputs": [
    {
     "data": {
      "image/png": "[encoded data removed]",
      "text/plain": [
       "Plot with title \"Sex\""
      ]
     },
     "metadata": {},
     "output_type": "display_data"
    }
   ],
   "source": [
    "barplot(table(sales$sex),\n",
    "       main = \"Sex\",\n",
    "       xlab = \"Sex\",\n",
    "       col=\"green\")"
   ]
  },
  {
   "cell_type": "markdown",
   "metadata": {},
   "source": [
    "both sexes makes equal sales"
   ]
  },
  {
   "cell_type": "code",
   "execution_count": 61,
   "metadata": {
    "ExecuteTime": {
     "end_time": "2020-03-26T23:29:11.000179Z",
     "start_time": "2020-03-26T23:29:10.901Z"
    }
   },
   "outputs": [
    {
     "data": {
      "text/plain": [
       "\n",
       "  1   2   3   4   5   6 \n",
       "170 178 174 152 160 166 "
      ]
     },
     "metadata": {},
     "output_type": "display_data"
    },
    {
     "data": {
      "image/png": "[encoded data removed]",
      "text/plain": [
       "Plot with title \"Product Line\""
      ]
     },
     "metadata": {},
     "output_type": "display_data"
    }
   ],
   "source": [
    "table(sales$product_line)\n",
    "barplot(table(sales$product_line),\n",
    "       main = \"Product Line\",\n",
    "       xlab = \"Product Line\",\n",
    "       col = \"green\",\n",
    "       horiz=TRUE, \n",
    "       cex.names=0.8)"
   ]
  },
  {
   "cell_type": "markdown",
   "metadata": {},
   "source": [
    "fashion accessories are most bought items from the company than the rest, electronic accessories, food and beverages, e.t.c"
   ]
  },
  {
   "cell_type": "code",
   "execution_count": 62,
   "metadata": {
    "ExecuteTime": {
     "end_time": "2020-03-26T23:29:12.078628Z",
     "start_time": "2020-03-26T23:29:11.984Z"
    }
   },
   "outputs": [
    {
     "data": {
      "image/png": "[encoded data removed]",
      "text/plain": [
       "Plot with title \"Unit Price\""
      ]
     },
     "metadata": {},
     "output_type": "display_data"
    }
   ],
   "source": [
    "hist(sales$unit_price,\n",
    "     main = \"Unit Price\",\n",
    "     xlab = \"Unit Price\",\n",
    "    col=\"green\")"
   ]
  },
  {
   "cell_type": "markdown",
   "metadata": {},
   "source": [
    "data is mostly distributed between 90 and 100"
   ]
  },
  {
   "cell_type": "code",
   "execution_count": 63,
   "metadata": {
    "ExecuteTime": {
     "end_time": "2020-03-26T23:29:13.311524Z",
     "start_time": "2020-03-26T23:29:13.216Z"
    }
   },
   "outputs": [
    {
     "data": {
      "image/png": "[encoded data removed]",
      "text/plain": [
       "Plot with title \"Quantity\""
      ]
     },
     "metadata": {},
     "output_type": "display_data"
    }
   ],
   "source": [
    "hist(sales$quantity,\n",
    "    main = \"Quantity\",\n",
    "    xlab = \"Quantity\",\n",
    "    col = \"green\")"
   ]
  },
  {
   "cell_type": "markdown",
   "metadata": {},
   "source": [
    "most people get themselves a quantity of an item"
   ]
  },
  {
   "cell_type": "code",
   "execution_count": 64,
   "metadata": {
    "ExecuteTime": {
     "end_time": "2020-03-26T23:29:14.520873Z",
     "start_time": "2020-03-26T23:29:14.422Z"
    }
   },
   "outputs": [
    {
     "data": {
      "image/png": "[encoded data removed]",
      "text/plain": [
       "Plot with title \"Tax\""
      ]
     },
     "metadata": {},
     "output_type": "display_data"
    }
   ],
   "source": [
    "hist(sales$tax,\n",
    "    main = \"Tax\",\n",
    "    xlab = \"Tax\",\n",
    "    col = \"green\")"
   ]
  },
  {
   "cell_type": "markdown",
   "metadata": {},
   "source": [
    "the data is skewed to the right and most of the data is distributed between 0  and 10"
   ]
  },
  {
   "cell_type": "code",
   "execution_count": 65,
   "metadata": {
    "ExecuteTime": {
     "end_time": "2020-03-26T23:29:15.587076Z",
     "start_time": "2020-03-26T23:29:15.490Z"
    }
   },
   "outputs": [
    {
     "data": {
      "image/png": "[encoded data removed]",
      "text/plain": [
       "Plot with title \"Payment\""
      ]
     },
     "metadata": {},
     "output_type": "display_data"
    }
   ],
   "source": [
    "barplot(table(sales$payment),\n",
    "       main = \"Payment\",\n",
    "       xlab= \"Payment\",\n",
    "       col = \"green\")"
   ]
  },
  {
   "cell_type": "markdown",
   "metadata": {},
   "source": [
    "most of the customers make payments using Ewallet"
   ]
  },
  {
   "cell_type": "code",
   "execution_count": 66,
   "metadata": {
    "ExecuteTime": {
     "end_time": "2020-03-26T23:29:16.678553Z",
     "start_time": "2020-03-26T23:29:16.589Z"
    }
   },
   "outputs": [
    {
     "data": {
      "image/png": "[encoded data removed]",
      "text/plain": [
       "Plot with title \"Cogs\""
      ]
     },
     "metadata": {},
     "output_type": "display_data"
    }
   ],
   "source": [
    "hist(sales$cogs,\n",
    "    main = \"Cogs\",\n",
    "    xlab = \"Cogs\",\n",
    "    col = \"green\")"
   ]
  },
  {
   "cell_type": "markdown",
   "metadata": {},
   "source": [
    "data is skewed to the right and its mostly distributed between 0 and 200"
   ]
  },
  {
   "cell_type": "code",
   "execution_count": 67,
   "metadata": {
    "ExecuteTime": {
     "end_time": "2020-03-26T23:29:17.860240Z",
     "start_time": "2020-03-26T23:29:17.776Z"
    }
   },
   "outputs": [
    {
     "data": {
      "image/png": "[encoded data removed]",
      "text/plain": [
       "Plot with title \"Gross Margin Percentage\""
      ]
     },
     "metadata": {},
     "output_type": "display_data"
    }
   ],
   "source": [
    "hist(sales$gross_margin_percentage,\n",
    "    main = \"Gross Margin Percentage\",\n",
    "    xlab = \"Gross Margin Percentage\",\n",
    "    col = \"green\")"
   ]
  },
  {
   "cell_type": "markdown",
   "metadata": {},
   "source": [
    "There is equal distributrion of data in Gross Margin Percentage"
   ]
  },
  {
   "cell_type": "code",
   "execution_count": 68,
   "metadata": {
    "ExecuteTime": {
     "end_time": "2020-03-26T23:29:19.048076Z",
     "start_time": "2020-03-26T23:29:18.952Z"
    }
   },
   "outputs": [
    {
     "data": {
      "image/png": "[encoded data removed]",
      "text/plain": [
       "Plot with title \"Gross Income\""
      ]
     },
     "metadata": {},
     "output_type": "display_data"
    }
   ],
   "source": [
    "hist(sales$gross_income,\n",
    "    main = \"Gross Income\",\n",
    "    xlab = \"Gross Income\",\n",
    "    col = \"green\")"
   ]
  },
  {
   "cell_type": "markdown",
   "metadata": {},
   "source": [
    "data is skewed to the right and its mostly distributed between 0 and 10"
   ]
  },
  {
   "cell_type": "code",
   "execution_count": 69,
   "metadata": {
    "ExecuteTime": {
     "end_time": "2020-03-26T23:29:20.148666Z",
     "start_time": "2020-03-26T23:29:20.056Z"
    }
   },
   "outputs": [
    {
     "data": {
      "image/png": "[encoded data removed]",
      "text/plain": [
       "Plot with title \"Rating\""
      ]
     },
     "metadata": {},
     "output_type": "display_data"
    }
   ],
   "source": [
    "hist(sales$rating,\n",
    "    col = \"green\",\n",
    "    main = \"Rating\",\n",
    "    xlab = \"Rating\")"
   ]
  },
  {
   "cell_type": "markdown",
   "metadata": {},
   "source": [
    "most of the sales received a rating of 4"
   ]
  },
  {
   "cell_type": "code",
   "execution_count": 70,
   "metadata": {
    "ExecuteTime": {
     "end_time": "2020-03-26T23:29:21.275268Z",
     "start_time": "2020-03-26T23:29:21.171Z"
    }
   },
   "outputs": [
    {
     "data": {
      "image/png": "[encoded data removed]",
      "text/plain": [
       "Plot with title \"Total\""
      ]
     },
     "metadata": {},
     "output_type": "display_data"
    }
   ],
   "source": [
    "hist(sales$total,\n",
    "    main = \"Total\",\n",
    "    xlab = \"Total\",\n",
    "    col = \"green\")"
   ]
  },
  {
   "cell_type": "markdown",
   "metadata": {
    "ExecuteTime": {
     "end_time": "2020-03-17T04:23:09.650545Z",
     "start_time": "2020-03-17T04:23:09.605Z"
    }
   },
   "source": [
    "data is skewed to the right and its mostly distributed between 0 and 200"
   ]
  },
  {
   "cell_type": "markdown",
   "metadata": {},
   "source": [
    "# PCA"
   ]
  },
  {
   "cell_type": "code",
   "execution_count": 71,
   "metadata": {
    "ExecuteTime": {
     "end_time": "2020-03-26T23:29:23.992552Z",
     "start_time": "2020-03-26T23:29:23.940Z"
    }
   },
   "outputs": [
    {
     "name": "stdout",
     "output_type": "stream",
     "text": [
      "'data.frame':\t1000 obs. of  15 variables:\n",
      " $ branch                 : int  1 3 1 1 1 3 1 3 1 2 ...\n",
      " $ customer_type          : int  1 2 2 1 2 2 1 2 1 1 ...\n",
      " $ sex                    : int  1 1 2 2 2 2 1 1 1 1 ...\n",
      " $ product_line           : int  4 1 5 4 6 1 1 5 4 3 ...\n",
      " $ unit_price             : num  74.7 15.3 46.3 58.2 86.3 ...\n",
      " $ quantity               : int  7 5 7 8 7 7 6 10 2 3 ...\n",
      " $ tax                    : num  26.14 3.82 16.22 23.29 30.21 ...\n",
      " $ date                   : int  3 1 2 3 3 3 3 3 2 2 ...\n",
      " $ time                   : int  147 24 156 486 30 394 215 78 342 160 ...\n",
      " $ payment                : int  3 1 2 3 3 3 3 3 2 2 ...\n",
      " $ cogs                   : num  522.8 76.4 324.3 465.8 604.2 ...\n",
      " $ gross_margin_percentage: num  4.76 4.76 4.76 4.76 4.76 ...\n",
      " $ gross_income           : num  26.14 3.82 16.22 23.29 30.21 ...\n",
      " $ rating                 : num  9.1 9.6 7.4 8.4 5.3 4.1 5.8 8 7.2 5.9 ...\n",
      " $ total                  : num  549 80.2 340.5 489 634.4 ...\n"
     ]
    }
   ],
   "source": [
    "str(sales)"
   ]
  },
  {
   "cell_type": "code",
   "execution_count": 72,
   "metadata": {
    "ExecuteTime": {
     "end_time": "2020-03-26T23:29:31.279021Z",
     "start_time": "2020-03-26T23:29:31.225Z"
    }
   },
   "outputs": [],
   "source": [
    "#encoding the categorical features\n",
    "sales$branch <- as.integer(sales$branch)\n",
    "sales$customer_type <- as.integer(sales$customer_type)\n",
    "sales$sex <- as.integer(sales$sex)\n",
    "sales$product_line  <- as.integer(sales$product_line)\n",
    "sales$payment <- as.integer(sales$payment)\n",
    "sales$date <- as.integer(sales$payment)\n",
    "sales$time <- as.integer(sales$time)"
   ]
  },
  {
   "cell_type": "code",
   "execution_count": 45,
   "metadata": {
    "ExecuteTime": {
     "end_time": "2020-03-26T23:28:03.267579Z",
     "start_time": "2020-03-26T23:28:03.219Z"
    }
   },
   "outputs": [
    {
     "name": "stdout",
     "output_type": "stream",
     "text": [
      "'data.frame':\t1000 obs. of  16 variables:\n",
      " $ invoice_id             : Factor w/ 1000 levels \"101-17-6199\",..: 815 143 654 19 340 734 316 265 703 727 ...\n",
      " $ branch                 : int  1 3 1 1 1 3 1 3 1 2 ...\n",
      " $ customer_type          : int  1 2 2 1 2 2 1 2 1 1 ...\n",
      " $ sex                    : int  1 1 2 2 2 2 1 1 1 1 ...\n",
      " $ product_line           : int  4 1 5 4 6 1 1 5 4 3 ...\n",
      " $ unit_price             : num  74.7 15.3 46.3 58.2 86.3 ...\n",
      " $ quantity               : int  7 5 7 8 7 7 6 10 2 3 ...\n",
      " $ tax                    : num  26.14 3.82 16.22 23.29 30.21 ...\n",
      " $ date                   : int  3 1 2 3 3 3 3 3 2 2 ...\n",
      " $ time                   : int  147 24 156 486 30 394 215 78 342 160 ...\n",
      " $ payment                : int  3 1 2 3 3 3 3 3 2 2 ...\n",
      " $ cogs                   : num  522.8 76.4 324.3 465.8 604.2 ...\n",
      " $ gross_margin_percentage: num  4.76 4.76 4.76 4.76 4.76 ...\n",
      " $ gross_income           : num  26.14 3.82 16.22 23.29 30.21 ...\n",
      " $ rating                 : num  9.1 9.6 7.4 8.4 5.3 4.1 5.8 8 7.2 5.9 ...\n",
      " $ total                  : num  549 80.2 340.5 489 634.4 ...\n"
     ]
    }
   ],
   "source": [
    "str(sales)"
   ]
  },
  {
   "cell_type": "code",
   "execution_count": 74,
   "metadata": {
    "ExecuteTime": {
     "end_time": "2020-03-26T23:36:57.456089Z",
     "start_time": "2020-03-26T23:36:57.378Z"
    }
   },
   "outputs": [
    {
     "data": {
      "text/plain": [
       "NULL"
      ]
     },
     "metadata": {},
     "output_type": "display_data"
    }
   ],
   "source": [
    "# we have to remove constant/zero column to avoid an error which comes by including them\n",
    "names(sales[, sapply(sales, function(v) var(v, na.rm=TRUE)==0)])"
   ]
  },
  {
   "cell_type": "code",
   "execution_count": 76,
   "metadata": {
    "ExecuteTime": {
     "end_time": "2020-03-26T23:38:42.343975Z",
     "start_time": "2020-03-26T23:38:42.307Z"
    }
   },
   "outputs": [],
   "source": [
    "# Drop the columns as they result to error \"stop(\"cannot rescale a constant/zero column to unit variance\")\"\n",
    "sales <- subset(sales, select = -c(gross_margin_percentage, date))"
   ]
  },
  {
   "cell_type": "code",
   "execution_count": 77,
   "metadata": {
    "ExecuteTime": {
     "end_time": "2020-03-26T23:38:45.761640Z",
     "start_time": "2020-03-26T23:38:45.462Z"
    }
   },
   "outputs": [
    {
     "data": {
      "text/plain": [
       "Importance of components:\n",
       "                          PC1     PC2     PC3     PC4     PC5     PC6     PC7\n",
       "Standard deviation     2.2201 1.06992 1.05218 1.02137 1.00654 0.98907 0.96687\n",
       "Proportion of Variance 0.3791 0.08806 0.08516 0.08025 0.07793 0.07525 0.07191\n",
       "Cumulative Proportion  0.3791 0.46720 0.55236 0.63261 0.71054 0.78579 0.85770\n",
       "                           PC8     PC9    PC10      PC11      PC12      PC13\n",
       "Standard deviation     0.95422 0.92171 0.29974 2.893e-16 2.233e-16 7.432e-17\n",
       "Proportion of Variance 0.07004 0.06535 0.00691 0.000e+00 0.000e+00 0.000e+00\n",
       "Cumulative Proportion  0.92774 0.99309 1.00000 1.000e+00 1.000e+00 1.000e+00"
      ]
     },
     "metadata": {},
     "output_type": "display_data"
    }
   ],
   "source": [
    "#The prcomp() function also provides the facility to compute standard deviation of each principal component\n",
    "# We then pass sales.pca to the prcomp(). We also set two arguments, center and scale, \n",
    "# to be TRUE then preview our object with summary\n",
    "sales.pca <- prcomp(sales, center = TRUE, scale. = TRUE)\n",
    "summary(sales.pca)"
   ]
  },
  {
   "cell_type": "code",
   "execution_count": 78,
   "metadata": {
    "ExecuteTime": {
     "end_time": "2020-03-26T23:41:40.450339Z",
     "start_time": "2020-03-26T23:41:40.393Z"
    }
   },
   "outputs": [
    {
     "name": "stdout",
     "output_type": "stream",
     "text": [
      "List of 5\n",
      " $ sdev    : num [1:13] 2.22 1.07 1.05 1.02 1.01 ...\n",
      " $ rotation: num [1:13, 1:13] 0.0224 -0.0126 -0.0282 0.0174 0.2912 ...\n",
      "  ..- attr(*, \"dimnames\")=List of 2\n",
      "  .. ..$ : chr [1:13] \"branch\" \"customer_type\" \"sex\" \"product_line\" ...\n",
      "  .. ..$ : chr [1:13] \"PC1\" \"PC2\" \"PC3\" \"PC4\" ...\n",
      " $ center  : Named num [1:13] 1.99 1.5 1.5 3.45 55.67 ...\n",
      "  ..- attr(*, \"names\")= chr [1:13] \"branch\" \"customer_type\" \"sex\" \"product_line\" ...\n",
      " $ scale   : Named num [1:13] 0.818 0.5 0.5 1.715 26.495 ...\n",
      "  ..- attr(*, \"names\")= chr [1:13] \"branch\" \"customer_type\" \"sex\" \"product_line\" ...\n",
      " $ x       : num [1:1000, 1:13] 2.015 -2.271 0.136 1.451 2.75 ...\n",
      "  ..- attr(*, \"dimnames\")=List of 2\n",
      "  .. ..$ : chr [1:1000] \"1\" \"2\" \"3\" \"4\" ...\n",
      "  .. ..$ : chr [1:13] \"PC1\" \"PC2\" \"PC3\" \"PC4\" ...\n",
      " - attr(*, \"class\")= chr \"prcomp\"\n"
     ]
    }
   ],
   "source": [
    "# Calling str() to have a look at your PCA object\n",
    "\n",
    "str(sales.pca)"
   ]
  },
  {
   "cell_type": "code",
   "execution_count": 83,
   "metadata": {
    "ExecuteTime": {
     "end_time": "2020-03-26T23:49:52.113336Z",
     "start_time": "2020-03-26T23:49:47.780Z"
    }
   },
   "outputs": [
    {
     "name": "stdout",
     "output_type": "stream",
     "text": [
      "package 'devtools' successfully unpacked and MD5 sums checked\n",
      "\n",
      "The downloaded binary packages are in\n",
      "\tC:\\Users\\I\\AppData\\Local\\Temp\\RtmpqYY6AQ\\downloaded_packages\n"
     ]
    },
    {
     "name": "stderr",
     "output_type": "stream",
     "text": [
      "Warning message:\n",
      "\"package 'devtools' was built under R version 3.6.3\""
     ]
    },
    {
     "ename": "ERROR",
     "evalue": "Error: package or namespace load failed for 'devtools':\n .onLoad failed in loadNamespace() for 'pkgload', details:\n  call: loadNamespace(i, c(lib.loc, .libPaths()), versionCheck = vI[[i]])\n  error: namespace 'rlang' 0.3.4 is already loaded, but >= 0.4.1 is required\n",
     "output_type": "error",
     "traceback": [
      "Error: package or namespace load failed for 'devtools':\n .onLoad failed in loadNamespace() for 'pkgload', details:\n  call: loadNamespace(i, c(lib.loc, .libPaths()), versionCheck = vI[[i]])\n  error: namespace 'rlang' 0.3.4 is already loaded, but >= 0.4.1 is required\nTraceback:\n",
      "1. library(devtools)",
      "2. tryCatch({\n .     attr(package, \"LibPath\") <- which.lib.loc\n .     ns <- loadNamespace(package, lib.loc)\n .     env <- attachNamespace(ns, pos = pos, deps, exclude, include.only)\n . }, error = function(e) {\n .     P <- if (!is.null(cc <- conditionCall(e))) \n .         paste(\" in\", deparse(cc)[1L])\n .     else \"\"\n .     msg <- gettextf(\"package or namespace load failed for %s%s:\\n %s\", \n .         sQuote(package), P, conditionMessage(e))\n .     if (logical.return) \n .         message(paste(\"Error:\", msg), domain = NA)\n .     else stop(msg, call. = FALSE, domain = NA)\n . })",
      "3. tryCatchList(expr, classes, parentenv, handlers)",
      "4. tryCatchOne(expr, names, parentenv, handlers[[1L]])",
      "5. value[[3L]](cond)",
      "6. stop(msg, call. = FALSE, domain = NA)"
     ]
    }
   ],
   "source": [
    "# We will now plot our pca. This will provide us with some very useful insights i.e. \n",
    "# which cars are most similar to each other \n",
    "# ---\n",
    "# \n",
    "\n",
    "# Installing our ggbiplot visualisation package\n",
    "install.packages(\"devtools\",dependencies=TRUE)\n",
    "library(devtools) #Load devtools before running ggbiplot otherwise will encounter install_github error\n",
    "install_github(\"vqv/ggbiplot\", force = TRUE) #For plotting PCA\n"
   ]
  },
  {
   "cell_type": "code",
   "execution_count": 141,
   "metadata": {
    "ExecuteTime": {
     "end_time": "2020-03-27T00:31:20.462554Z",
     "start_time": "2020-03-27T00:31:19.839Z"
    }
   },
   "outputs": [
    {
     "data": {
      "image/png": "[encoded data removed]",
      "text/plain": [
       "plot without title"
      ]
     },
     "metadata": {},
     "output_type": "display_data"
    }
   ],
   "source": [
    "# Then Loading our biplot library\n",
    "\n",
    "biplot(sales.pca)"
   ]
  },
  {
   "cell_type": "code",
   "execution_count": 142,
   "metadata": {
    "ExecuteTime": {
     "end_time": "2020-03-27T00:31:45.248663Z",
     "start_time": "2020-03-27T00:31:44.566Z"
    }
   },
   "outputs": [
    {
     "name": "stderr",
     "output_type": "stream",
     "text": [
      "Warning message in plot.window(...):\n",
      "\"\"obs.scale\" is not a graphical parameter\"Warning message in plot.window(...):\n",
      "\"\"var.scale\" is not a graphical parameter\"Warning message in plot.xy(xy, type, ...):\n",
      "\"\"obs.scale\" is not a graphical parameter\"Warning message in plot.xy(xy, type, ...):\n",
      "\"\"var.scale\" is not a graphical parameter\"Warning message in axis(side = side, at = at, labels = labels, ...):\n",
      "\"\"obs.scale\" is not a graphical parameter\"Warning message in axis(side = side, at = at, labels = labels, ...):\n",
      "\"\"var.scale\" is not a graphical parameter\"Warning message in axis(side = side, at = at, labels = labels, ...):\n",
      "\"\"obs.scale\" is not a graphical parameter\"Warning message in axis(side = side, at = at, labels = labels, ...):\n",
      "\"\"var.scale\" is not a graphical parameter\"Warning message in box(...):\n",
      "\"\"obs.scale\" is not a graphical parameter\"Warning message in box(...):\n",
      "\"\"var.scale\" is not a graphical parameter\"Warning message in title(...):\n",
      "\"\"obs.scale\" is not a graphical parameter\"Warning message in title(...):\n",
      "\"\"var.scale\" is not a graphical parameter\"Warning message in text.default(x, xlabs, cex = cex[1L], col = col[1L], ...):\n",
      "\"\"obs.scale\" is not a graphical parameter\"Warning message in text.default(x, xlabs, cex = cex[1L], col = col[1L], ...):\n",
      "\"\"var.scale\" is not a graphical parameter\"Warning message in plot.window(...):\n",
      "\"\"obs.scale\" is not a graphical parameter\"Warning message in plot.window(...):\n",
      "\"\"var.scale\" is not a graphical parameter\"Warning message in plot.xy(xy, type, ...):\n",
      "\"\"obs.scale\" is not a graphical parameter\"Warning message in plot.xy(xy, type, ...):\n",
      "\"\"var.scale\" is not a graphical parameter\"Warning message in title(...):\n",
      "\"\"obs.scale\" is not a graphical parameter\"Warning message in title(...):\n",
      "\"\"var.scale\" is not a graphical parameter\"Warning message in axis(3, col = col[2L], ...):\n",
      "\"\"obs.scale\" is not a graphical parameter\"Warning message in axis(3, col = col[2L], ...):\n",
      "\"\"var.scale\" is not a graphical parameter\"Warning message in axis(4, col = col[2L], ...):\n",
      "\"\"obs.scale\" is not a graphical parameter\"Warning message in axis(4, col = col[2L], ...):\n",
      "\"\"var.scale\" is not a graphical parameter\""
     ]
    },
    {
     "ename": "ERROR",
     "evalue": "Error in text.default(y, labels = ylabs, cex = cex[2L], col = col[2L], : formal argument \"labels\" matched by multiple actual arguments\n",
     "output_type": "error",
     "traceback": [
      "Error in text.default(y, labels = ylabs, cex = cex[2L], col = col[2L], : formal argument \"labels\" matched by multiple actual arguments\nTraceback:\n",
      "1. biplot(sales.pca, labels = rownames(sales.pca), obs.scale = 1, \n .     var.scale = 1)",
      "2. biplot.prcomp(sales.pca, labels = rownames(sales.pca), obs.scale = 1, \n .     var.scale = 1)",
      "3. biplot.default(t(t(scores[, choices])/lam), t(t(x$rotation[, \n .     choices]) * lam), ...)",
      "4. text(y, labels = ylabs, cex = cex[2L], col = col[2L], ...)"
     ]
    },
    {
     "data": {
      "image/png": "[encoded data removed]",
      "text/plain": [
       "plot without title"
      ]
     },
     "metadata": {},
     "output_type": "display_data"
    }
   ],
   "source": [
    "biplot(sales.pca, labels=rownames(sales.pca), obs.scale = 1, var.scale = 1)"
   ]
  },
  {
   "cell_type": "markdown",
   "metadata": {},
   "source": [
    "# Feature Selection"
   ]
  },
  {
   "cell_type": "code",
   "execution_count": 85,
   "metadata": {
    "ExecuteTime": {
     "end_time": "2020-03-26T23:53:04.205624Z",
     "start_time": "2020-03-26T23:52:55.382Z"
    }
   },
   "outputs": [],
   "source": [
    "# Installing and loading our caret package\n",
    "# ---\n",
    "# \n",
    "suppressWarnings(\n",
    "        suppressMessages(if\n",
    "                         (!require(caret, quietly=TRUE))\n",
    "                install.packages(\"caret\")))\n",
    "library(caret)\n"
   ]
  },
  {
   "cell_type": "code",
   "execution_count": 86,
   "metadata": {
    "ExecuteTime": {
     "end_time": "2020-03-26T23:53:32.379336Z",
     "start_time": "2020-03-26T23:53:19.247Z"
    }
   },
   "outputs": [
    {
     "name": "stdout",
     "output_type": "stream",
     "text": [
      "package 'corrplot' successfully unpacked and MD5 sums checked\n",
      "\n",
      "The downloaded binary packages are in\n",
      "\tC:\\Users\\I\\AppData\\Local\\Temp\\RtmpqYY6AQ\\downloaded_packages\n"
     ]
    },
    {
     "name": "stderr",
     "output_type": "stream",
     "text": [
      "Warning message:\n",
      "\"package 'corrplot' was built under R version 3.6.3\"corrplot 0.84 loaded\n"
     ]
    }
   ],
   "source": [
    "# Installing and loading the corrplot package for plotting\n",
    "# ---\n",
    "# \n",
    "suppressWarnings(\n",
    "        suppressMessages(if\n",
    "                         (!require(corrplot, quietly=TRUE))\n",
    "                install.packages(\"corrplot\")))\n",
    "library(corrplot)\n"
   ]
  },
  {
   "cell_type": "code",
   "execution_count": 87,
   "metadata": {
    "ExecuteTime": {
     "end_time": "2020-03-26T23:54:42.621769Z",
     "start_time": "2020-03-26T23:54:42.562Z"
    }
   },
   "outputs": [
    {
     "data": {
      "text/html": [
       "<ol class=list-inline>\n",
       "\t<li>7</li>\n",
       "\t<li>10</li>\n",
       "\t<li>11</li>\n",
       "</ol>\n"
      ],
      "text/latex": [
       "\\begin{enumerate*}\n",
       "\\item 7\n",
       "\\item 10\n",
       "\\item 11\n",
       "\\end{enumerate*}\n"
      ],
      "text/markdown": [
       "1. 7\n",
       "2. 10\n",
       "3. 11\n",
       "\n",
       "\n"
      ],
      "text/plain": [
       "[1]  7 10 11"
      ]
     },
     "metadata": {},
     "output_type": "display_data"
    },
    {
     "data": {
      "text/html": [
       "<ol class=list-inline>\n",
       "\t<li>'tax'</li>\n",
       "\t<li>'cogs'</li>\n",
       "\t<li>'gross_income'</li>\n",
       "</ol>\n"
      ],
      "text/latex": [
       "\\begin{enumerate*}\n",
       "\\item 'tax'\n",
       "\\item 'cogs'\n",
       "\\item 'gross\\_income'\n",
       "\\end{enumerate*}\n"
      ],
      "text/markdown": [
       "1. 'tax'\n",
       "2. 'cogs'\n",
       "3. 'gross_income'\n",
       "\n",
       "\n"
      ],
      "text/plain": [
       "[1] \"tax\"          \"cogs\"         \"gross_income\""
      ]
     },
     "metadata": {},
     "output_type": "display_data"
    }
   ],
   "source": [
    "# Calculating the correlation matrix\n",
    "# ---\n",
    "#\n",
    "correlationMatrix <- cor(sales)\n",
    "\n",
    "# Find attributes that are highly correlated\n",
    "# ---\n",
    "#\n",
    "highlyCorrelated <- findCorrelation(correlationMatrix, cutoff=0.75)\n",
    "\n",
    "# Highly correlated attributes\n",
    "# ---\n",
    "# \n",
    "highlyCorrelated\n",
    "\n",
    "names(sales[,highlyCorrelated])\n"
   ]
  },
  {
   "cell_type": "code",
   "execution_count": 88,
   "metadata": {
    "ExecuteTime": {
     "end_time": "2020-03-26T23:56:09.816473Z",
     "start_time": "2020-03-26T23:56:09.493Z"
    }
   },
   "outputs": [
    {
     "data": {
      "image/png": "[encoded data removed]",
      "text/plain": [
       "Plot with title \"\""
      ]
     },
     "metadata": {},
     "output_type": "display_data"
    }
   ],
   "source": [
    "# We can remove the variables with a higher correlation \n",
    "# and comparing the results graphically as shown below\n",
    "# ---\n",
    "# \n",
    "# Removing Redundant Features \n",
    "# ---\n",
    "# \n",
    "sales2<-sales[-highlyCorrelated]\n",
    "\n",
    "# Performing our graphical comparison\n",
    "# ---\n",
    "# \n",
    "par(mfrow = c(1, 2))\n",
    "corrplot(correlationMatrix, order = \"hclust\")\n",
    "corrplot(cor(sales2), order = \"hclust\")"
   ]
  },
  {
   "cell_type": "markdown",
   "metadata": {},
   "source": [
    "# Associative Analysis"
   ]
  },
  {
   "cell_type": "code",
   "execution_count": 90,
   "metadata": {
    "ExecuteTime": {
     "end_time": "2020-03-26T23:57:20.278726Z",
     "start_time": "2020-03-26T23:57:20.241Z"
    }
   },
   "outputs": [],
   "source": [
    "suppressWarnings(\n",
    "        suppressMessages(if\n",
    "                         (!require(arules, quietly=TRUE))\n",
    "                install.packages(\"arules\")))\n",
    "library(arules)"
   ]
  },
  {
   "cell_type": "code",
   "execution_count": 145,
   "metadata": {
    "ExecuteTime": {
     "end_time": "2020-03-27T00:33:16.041565Z",
     "start_time": "2020-03-27T00:33:14.589Z"
    }
   },
   "outputs": [
    {
     "name": "stderr",
     "output_type": "stream",
     "text": [
      "Warning message in asMethod(object):\n",
      "\"removing duplicated items in transactions\""
     ]
    },
    {
     "data": {
      "text/html": [
       "<table>\n",
       "<thead><tr><th scope=col>shrimp</th><th scope=col>almonds</th><th scope=col>avocado</th><th scope=col>vegetables.mix</th><th scope=col>green.grapes</th><th scope=col>whole.weat.flour</th><th scope=col>yams</th><th scope=col>cottage.cheese</th><th scope=col>energy.drink</th><th scope=col>tomato.juice</th><th scope=col>low.fat.yogurt</th><th scope=col>green.tea</th><th scope=col>honey</th><th scope=col>salad</th><th scope=col>mineral.water</th><th scope=col>salmon</th><th scope=col>antioxydant.juice</th><th scope=col>frozen.smoothie</th><th scope=col>spinach</th></tr></thead>\n",
       "<tbody>\n",
       "\t<tr><td>burgers             </td><td>meatballs           </td><td>eggs                </td><td>                    </td><td>                    </td><td>                    </td><td>                    </td><td>                    </td><td>                    </td><td>                    </td><td>                    </td><td>                    </td><td>                    </td><td>                    </td><td>                    </td><td>                    </td><td>                    </td><td>                    </td><td>                    </td></tr>\n",
       "\t<tr><td>chutney             </td><td>                    </td><td>                    </td><td>                    </td><td>                    </td><td>                    </td><td>                    </td><td>                    </td><td>                    </td><td>                    </td><td>                    </td><td>                    </td><td>                    </td><td>                    </td><td>                    </td><td>                    </td><td>                    </td><td>                    </td><td>                    </td></tr>\n",
       "\t<tr><td>turkey              </td><td>avocado             </td><td>                    </td><td>                    </td><td>                    </td><td>                    </td><td>                    </td><td>                    </td><td>                    </td><td>                    </td><td>                    </td><td>                    </td><td>                    </td><td>                    </td><td>                    </td><td>                    </td><td>                    </td><td>                    </td><td>                    </td></tr>\n",
       "\t<tr><td>mineral water       </td><td>milk                </td><td>energy bar          </td><td>whole wheat rice    </td><td>green tea           </td><td>                    </td><td>                    </td><td>                    </td><td>                    </td><td>                    </td><td>                    </td><td>                    </td><td>                    </td><td>                    </td><td>                    </td><td>                    </td><td>                    </td><td>                    </td><td>                    </td></tr>\n",
       "\t<tr><td>low fat yogurt      </td><td>                    </td><td>                    </td><td>                    </td><td>                    </td><td>                    </td><td>                    </td><td>                    </td><td>                    </td><td>                    </td><td>                    </td><td>                    </td><td>                    </td><td>                    </td><td>                    </td><td>                    </td><td>                    </td><td>                    </td><td>                    </td></tr>\n",
       "\t<tr><td>whole wheat pasta   </td><td>french fries        </td><td>                    </td><td>                    </td><td>                    </td><td>                    </td><td>                    </td><td>                    </td><td>                    </td><td>                    </td><td>                    </td><td>                    </td><td>                    </td><td>                    </td><td>                    </td><td>                    </td><td>                    </td><td>                    </td><td>                    </td></tr>\n",
       "\t<tr><td>soup                </td><td>light cream         </td><td>shallot             </td><td>                    </td><td>                    </td><td>                    </td><td>                    </td><td>                    </td><td>                    </td><td>                    </td><td>                    </td><td>                    </td><td>                    </td><td>                    </td><td>                    </td><td>                    </td><td>                    </td><td>                    </td><td>                    </td></tr>\n",
       "\t<tr><td>frozen vegetables   </td><td>spaghetti           </td><td>green tea           </td><td>                    </td><td>                    </td><td>                    </td><td>                    </td><td>                    </td><td>                    </td><td>                    </td><td>                    </td><td>                    </td><td>                    </td><td>                    </td><td>                    </td><td>                    </td><td>                    </td><td>                    </td><td>                    </td></tr>\n",
       "\t<tr><td>french fries        </td><td>                    </td><td>                    </td><td>                    </td><td>                    </td><td>                    </td><td>                    </td><td>                    </td><td>                    </td><td>                    </td><td>                    </td><td>                    </td><td>                    </td><td>                    </td><td>                    </td><td>                    </td><td>                    </td><td>                    </td><td>                    </td></tr>\n",
       "\t<tr><td>eggs                </td><td>pet food            </td><td>                    </td><td>                    </td><td>                    </td><td>                    </td><td>                    </td><td>                    </td><td>                    </td><td>                    </td><td>                    </td><td>                    </td><td>                    </td><td>                    </td><td>                    </td><td>                    </td><td>                    </td><td>                    </td><td>                    </td></tr>\n",
       "\t<tr><td>cookies             </td><td>                    </td><td>                    </td><td>                    </td><td>                    </td><td>                    </td><td>                    </td><td>                    </td><td>                    </td><td>                    </td><td>                    </td><td>                    </td><td>                    </td><td>                    </td><td>                    </td><td>                    </td><td>                    </td><td>                    </td><td>                    </td></tr>\n",
       "\t<tr><td>turkey              </td><td>burgers             </td><td>mineral water       </td><td>eggs                </td><td>cooking oil         </td><td>                    </td><td>                    </td><td>                    </td><td>                    </td><td>                    </td><td>                    </td><td>                    </td><td>                    </td><td>                    </td><td>                    </td><td>                    </td><td>                    </td><td>                    </td><td>                    </td></tr>\n",
       "\t<tr><td>spaghetti           </td><td>champagne           </td><td>cookies             </td><td>                    </td><td>                    </td><td>                    </td><td>                    </td><td>                    </td><td>                    </td><td>                    </td><td>                    </td><td>                    </td><td>                    </td><td>                    </td><td>                    </td><td>                    </td><td>                    </td><td>                    </td><td>                    </td></tr>\n",
       "\t<tr><td>mineral water       </td><td>salmon              </td><td>                    </td><td>                    </td><td>                    </td><td>                    </td><td>                    </td><td>                    </td><td>                    </td><td>                    </td><td>                    </td><td>                    </td><td>                    </td><td>                    </td><td>                    </td><td>                    </td><td>                    </td><td>                    </td><td>                    </td></tr>\n",
       "\t<tr><td>mineral water       </td><td>                    </td><td>                    </td><td>                    </td><td>                    </td><td>                    </td><td>                    </td><td>                    </td><td>                    </td><td>                    </td><td>                    </td><td>                    </td><td>                    </td><td>                    </td><td>                    </td><td>                    </td><td>                    </td><td>                    </td><td>                    </td></tr>\n",
       "\t<tr><td>shrimp              </td><td>chocolate           </td><td>chicken             </td><td>honey               </td><td>oil                 </td><td>cooking oil         </td><td>low fat yogurt      </td><td>                    </td><td>                    </td><td>                    </td><td>                    </td><td>                    </td><td>                    </td><td>                    </td><td>                    </td><td>                    </td><td>                    </td><td>                    </td><td>                    </td></tr>\n",
       "\t<tr><td>turkey              </td><td>eggs                </td><td>                    </td><td>                    </td><td>                    </td><td>                    </td><td>                    </td><td>                    </td><td>                    </td><td>                    </td><td>                    </td><td>                    </td><td>                    </td><td>                    </td><td>                    </td><td>                    </td><td>                    </td><td>                    </td><td>                    </td></tr>\n",
       "\t<tr><td>turkey              </td><td>fresh tuna          </td><td>tomatoes            </td><td>spaghetti           </td><td>mineral water       </td><td>black tea           </td><td>salmon              </td><td>eggs                </td><td>chicken             </td><td>extra dark chocolate</td><td>                    </td><td>                    </td><td>                    </td><td>                    </td><td>                    </td><td>                    </td><td>                    </td><td>                    </td><td>                    </td></tr>\n",
       "\t<tr><td>meatballs           </td><td>milk                </td><td>honey               </td><td>french fries        </td><td>protein bar         </td><td>                    </td><td>                    </td><td>                    </td><td>                    </td><td>                    </td><td>                    </td><td>                    </td><td>                    </td><td>                    </td><td>                    </td><td>                    </td><td>                    </td><td>                    </td><td>                    </td></tr>\n",
       "\t<tr><td>red wine            </td><td>shrimp              </td><td>pasta               </td><td>pepper              </td><td>eggs                </td><td>chocolate           </td><td>shampoo             </td><td>                    </td><td>                    </td><td>                    </td><td>                    </td><td>                    </td><td>                    </td><td>                    </td><td>                    </td><td>                    </td><td>                    </td><td>                    </td><td>                    </td></tr>\n",
       "\t<tr><td>rice                </td><td>sparkling water     </td><td>                    </td><td>                    </td><td>                    </td><td>                    </td><td>                    </td><td>                    </td><td>                    </td><td>                    </td><td>                    </td><td>                    </td><td>                    </td><td>                    </td><td>                    </td><td>                    </td><td>                    </td><td>                    </td><td>                    </td></tr>\n",
       "\t<tr><td>spaghetti           </td><td>mineral water       </td><td>ham                 </td><td>body spray          </td><td>pancakes            </td><td>green tea           </td><td>                    </td><td>                    </td><td>                    </td><td>                    </td><td>                    </td><td>                    </td><td>                    </td><td>                    </td><td>                    </td><td>                    </td><td>                    </td><td>                    </td><td>                    </td></tr>\n",
       "\t<tr><td>burgers             </td><td>grated cheese       </td><td>shrimp              </td><td>pasta               </td><td>avocado             </td><td>honey               </td><td>white wine          </td><td>toothpaste          </td><td>                    </td><td>                    </td><td>                    </td><td>                    </td><td>                    </td><td>                    </td><td>                    </td><td>                    </td><td>                    </td><td>                    </td><td>                    </td></tr>\n",
       "\t<tr><td>eggs                </td><td>                    </td><td>                    </td><td>                    </td><td>                    </td><td>                    </td><td>                    </td><td>                    </td><td>                    </td><td>                    </td><td>                    </td><td>                    </td><td>                    </td><td>                    </td><td>                    </td><td>                    </td><td>                    </td><td>                    </td><td>                    </td></tr>\n",
       "\t<tr><td>parmesan cheese     </td><td>spaghetti           </td><td>soup                </td><td>avocado             </td><td>milk                </td><td>fresh bread         </td><td>                    </td><td>                    </td><td>                    </td><td>                    </td><td>                    </td><td>                    </td><td>                    </td><td>                    </td><td>                    </td><td>                    </td><td>                    </td><td>                    </td><td>                    </td></tr>\n",
       "\t<tr><td>ground beef         </td><td>spaghetti           </td><td>mineral water       </td><td>milk                </td><td>energy bar          </td><td>black tea           </td><td>salmon              </td><td>frozen smoothie     </td><td>escalope            </td><td>                    </td><td>                    </td><td>                    </td><td>                    </td><td>                    </td><td>                    </td><td>                    </td><td>                    </td><td>                    </td><td>                    </td></tr>\n",
       "\t<tr><td>sparkling water     </td><td>                    </td><td>                    </td><td>                    </td><td>                    </td><td>                    </td><td>                    </td><td>                    </td><td>                    </td><td>                    </td><td>                    </td><td>                    </td><td>                    </td><td>                    </td><td>                    </td><td>                    </td><td>                    </td><td>                    </td><td>                    </td></tr>\n",
       "\t<tr><td>mineral water       </td><td>eggs                </td><td>chicken             </td><td>chocolate           </td><td>french fries        </td><td>                    </td><td>                    </td><td>                    </td><td>                    </td><td>                    </td><td>                    </td><td>                    </td><td>                    </td><td>                    </td><td>                    </td><td>                    </td><td>                    </td><td>                    </td><td>                    </td></tr>\n",
       "\t<tr><td>frozen vegetables   </td><td>spaghetti           </td><td>yams                </td><td>mineral water       </td><td>                    </td><td>                    </td><td>                    </td><td>                    </td><td>                    </td><td>                    </td><td>                    </td><td>                    </td><td>                    </td><td>                    </td><td>                    </td><td>                    </td><td>                    </td><td>                    </td><td>                    </td></tr>\n",
       "\t<tr><td><span style=white-space:pre-wrap>herb &amp; pepper    </span></td><td><span style=white-space:pre-wrap>tomato sauce   </span>      </td><td><span style=white-space:pre-wrap>light cream  </span>        </td><td><span style=white-space:pre-wrap>magazines       </span>     </td><td><span style=white-space:pre-wrap>             </span>        </td><td><span style=white-space:pre-wrap>           </span>          </td><td><span style=white-space:pre-wrap>              </span>       </td><td><span style=white-space:pre-wrap>               </span>      </td><td><span style=white-space:pre-wrap>        </span>             </td><td><span style=white-space:pre-wrap>                    </span> </td><td>                                                             </td><td>                                                             </td><td>                                                             </td><td>                                                             </td><td>                                                             </td><td>                                                             </td><td>                                                             </td><td>                                                             </td><td>                                                             </td></tr>\n",
       "\t<tr><td>...</td><td>...</td><td>...</td><td>...</td><td>...</td><td>...</td><td>...</td><td>...</td><td>...</td><td>...</td><td>...</td><td>...</td><td>...</td><td>...</td><td>...</td><td>...</td><td>...</td><td>...</td><td>...</td></tr>\n",
       "\t<tr><td>mineral water    </td><td>chocolate        </td><td>                 </td><td>                 </td><td>                 </td><td>                 </td><td>                 </td><td>                 </td><td>                 </td><td>                 </td><td>                 </td><td>                 </td><td>                 </td><td>                 </td><td>                 </td><td>                 </td><td>                 </td><td>                 </td><td>                 </td></tr>\n",
       "\t<tr><td>chocolate        </td><td>grated cheese    </td><td>mineral water    </td><td>olive oil        </td><td>green tea        </td><td>                 </td><td>                 </td><td>                 </td><td>                 </td><td>                 </td><td>                 </td><td>                 </td><td>                 </td><td>                 </td><td>                 </td><td>                 </td><td>                 </td><td>                 </td><td>                 </td></tr>\n",
       "\t<tr><td>whole wheat rice </td><td>cake             </td><td>cottage cheese   </td><td>                 </td><td>                 </td><td>                 </td><td>                 </td><td>                 </td><td>                 </td><td>                 </td><td>                 </td><td>                 </td><td>                 </td><td>                 </td><td>                 </td><td>                 </td><td>                 </td><td>                 </td><td>                 </td></tr>\n",
       "\t<tr><td>turkey           </td><td>shrimp           </td><td>pasta            </td><td>mineral water    </td><td>chocolate        </td><td>milk             </td><td>salmon           </td><td>vegetables mix   </td><td>muffins          </td><td>eggs             </td><td>sparkling water  </td><td>gluten free bar  </td><td>                 </td><td>                 </td><td>                 </td><td>                 </td><td>                 </td><td>                 </td><td>                 </td></tr>\n",
       "\t<tr><td>turkey           </td><td>mineral water    </td><td>cooking oil      </td><td>chocolate        </td><td>french fries     </td><td>protein bar      </td><td>                 </td><td>                 </td><td>                 </td><td>                 </td><td>                 </td><td>                 </td><td>                 </td><td>                 </td><td>                 </td><td>                 </td><td>                 </td><td>                 </td><td>                 </td></tr>\n",
       "\t<tr><td>tomatoes         </td><td>tomato sauce     </td><td>spaghetti        </td><td>mineral water    </td><td>soup             </td><td>olive oil        </td><td>mashed potato    </td><td>fresh bread      </td><td>mayonnaise       </td><td>green tea        </td><td>                 </td><td>                 </td><td>                 </td><td>                 </td><td>                 </td><td>                 </td><td>                 </td><td>                 </td><td>                 </td></tr>\n",
       "\t<tr><td>tomato juice     </td><td>                 </td><td>                 </td><td>                 </td><td>                 </td><td>                 </td><td>                 </td><td>                 </td><td>                 </td><td>                 </td><td>                 </td><td>                 </td><td>                 </td><td>                 </td><td>                 </td><td>                 </td><td>                 </td><td>                 </td><td>                 </td></tr>\n",
       "\t<tr><td>turkey           </td><td>ground beef      </td><td>mineral water    </td><td>chocolate        </td><td>soup             </td><td>pancakes         </td><td>whole wheat rice </td><td>light cream      </td><td>carrots          </td><td>mayonnaise       </td><td>                 </td><td>                 </td><td>                 </td><td>                 </td><td>                 </td><td>                 </td><td>                 </td><td>                 </td><td>                 </td></tr>\n",
       "\t<tr><td>shrimp           </td><td>pasta            </td><td>mineral water    </td><td>olive oil        </td><td>pancakes         </td><td>bug spray        </td><td>low fat yogurt   </td><td>                 </td><td>                 </td><td>                 </td><td>                 </td><td>                 </td><td>                 </td><td>                 </td><td>                 </td><td>                 </td><td>                 </td><td>                 </td><td>                 </td></tr>\n",
       "\t<tr><td>frozen vegetables</td><td>french wine      </td><td>pancakes         </td><td>french fries     </td><td>champagne        </td><td>strawberries     </td><td>                 </td><td>                 </td><td>                 </td><td>                 </td><td>                 </td><td>                 </td><td>                 </td><td>                 </td><td>                 </td><td>                 </td><td>                 </td><td>                 </td><td>                 </td></tr>\n",
       "\t<tr><td>chocolate        </td><td>shrimp           </td><td>pasta            </td><td>spaghetti        </td><td>                 </td><td>                 </td><td>                 </td><td>                 </td><td>                 </td><td>                 </td><td>                 </td><td>                 </td><td>                 </td><td>                 </td><td>                 </td><td>                 </td><td>                 </td><td>                 </td><td>                 </td></tr>\n",
       "\t<tr><td>chocolate        </td><td>                 </td><td>                 </td><td>                 </td><td>                 </td><td>                 </td><td>                 </td><td>                 </td><td>                 </td><td>                 </td><td>                 </td><td>                 </td><td>                 </td><td>                 </td><td>                 </td><td>                 </td><td>                 </td><td>                 </td><td>                 </td></tr>\n",
       "\t<tr><td>fresh tuna       </td><td>parmesan cheese  </td><td>whole wheat pasta</td><td>french wine      </td><td>fromage blanc    </td><td>cottage cheese   </td><td>brownies         </td><td>salad            </td><td>mint             </td><td>green tea        </td><td>                 </td><td>                 </td><td>                 </td><td>                 </td><td>                 </td><td>                 </td><td>                 </td><td>                 </td><td>                 </td></tr>\n",
       "\t<tr><td>cookies          </td><td>energy drink     </td><td>                 </td><td>                 </td><td>                 </td><td>                 </td><td>                 </td><td>                 </td><td>                 </td><td>                 </td><td>                 </td><td>                 </td><td>                 </td><td>                 </td><td>                 </td><td>                 </td><td>                 </td><td>                 </td><td>                 </td></tr>\n",
       "\t<tr><td>parmesan cheese  </td><td>champagne        </td><td>white wine       </td><td>                 </td><td>                 </td><td>                 </td><td>                 </td><td>                 </td><td>                 </td><td>                 </td><td>                 </td><td>                 </td><td>                 </td><td>                 </td><td>                 </td><td>                 </td><td>                 </td><td>                 </td><td>                 </td></tr>\n",
       "\t<tr><td>red wine         </td><td>tomato sauce     </td><td>spaghetti        </td><td>chocolate        </td><td>olive oil        </td><td>french fries     </td><td>salt             </td><td>asparagus        </td><td>                 </td><td>                 </td><td>                 </td><td>                 </td><td>                 </td><td>                 </td><td>                 </td><td>                 </td><td>                 </td><td>                 </td><td>                 </td></tr>\n",
       "\t<tr><td>soup             </td><td>milk             </td><td>                 </td><td>                 </td><td>                 </td><td>                 </td><td>                 </td><td>                 </td><td>                 </td><td>                 </td><td>                 </td><td>                 </td><td>                 </td><td>                 </td><td>                 </td><td>                 </td><td>                 </td><td>                 </td><td>                 </td></tr>\n",
       "\t<tr><td>eggs             </td><td>whole wheat rice </td><td>                 </td><td>                 </td><td>                 </td><td>                 </td><td>                 </td><td>                 </td><td>                 </td><td>                 </td><td>                 </td><td>                 </td><td>                 </td><td>                 </td><td>                 </td><td>                 </td><td>                 </td><td>                 </td><td>                 </td></tr>\n",
       "\t<tr><td>brownies         </td><td>                 </td><td>                 </td><td>                 </td><td>                 </td><td>                 </td><td>                 </td><td>                 </td><td>                 </td><td>                 </td><td>                 </td><td>                 </td><td>                 </td><td>                 </td><td>                 </td><td>                 </td><td>                 </td><td>                 </td><td>                 </td></tr>\n",
       "\t<tr><td><span style=white-space:pre-wrap>herb &amp; pepper    </span></td><td><span style=white-space:pre-wrap>spaghetti        </span>    </td><td><span style=white-space:pre-wrap>low fat yogurt   </span>    </td><td><span style=white-space:pre-wrap>              </span>       </td><td><span style=white-space:pre-wrap>               </span>      </td><td><span style=white-space:pre-wrap>              </span>       </td><td><span style=white-space:pre-wrap>                </span>     </td><td><span style=white-space:pre-wrap>              </span>       </td><td><span style=white-space:pre-wrap>          </span>           </td><td><span style=white-space:pre-wrap>                </span>     </td><td><span style=white-space:pre-wrap>               </span>      </td><td><span style=white-space:pre-wrap>               </span>      </td><td>                                                             </td><td>                                                             </td><td>                                                             </td><td>                                                             </td><td>                                                             </td><td>                                                             </td><td>                                                             </td></tr>\n",
       "\t<tr><td><span style=white-space:pre-wrap>herb &amp; pepper    </span></td><td><span style=white-space:pre-wrap>                 </span>    </td><td><span style=white-space:pre-wrap>                 </span>    </td><td><span style=white-space:pre-wrap>              </span>       </td><td><span style=white-space:pre-wrap>               </span>      </td><td><span style=white-space:pre-wrap>              </span>       </td><td><span style=white-space:pre-wrap>                </span>     </td><td><span style=white-space:pre-wrap>              </span>       </td><td><span style=white-space:pre-wrap>          </span>           </td><td><span style=white-space:pre-wrap>                </span>     </td><td><span style=white-space:pre-wrap>               </span>      </td><td><span style=white-space:pre-wrap>               </span>      </td><td>                                                             </td><td>                                                             </td><td>                                                             </td><td>                                                             </td><td>                                                             </td><td>                                                             </td><td>                                                             </td></tr>\n",
       "\t<tr><td>chocolate        </td><td>escalope         </td><td>                 </td><td>                 </td><td>                 </td><td>                 </td><td>                 </td><td>                 </td><td>                 </td><td>                 </td><td>                 </td><td>                 </td><td>                 </td><td>                 </td><td>                 </td><td>                 </td><td>                 </td><td>                 </td><td>                 </td></tr>\n",
       "\t<tr><td>burgers          </td><td>salmon           </td><td>pancakes         </td><td>french fries     </td><td>frozen smoothie  </td><td>fresh bread      </td><td>mint             </td><td>                 </td><td>                 </td><td>                 </td><td>                 </td><td>                 </td><td>                 </td><td>                 </td><td>                 </td><td>                 </td><td>                 </td><td>                 </td><td>                 </td></tr>\n",
       "\t<tr><td>turkey           </td><td>burgers          </td><td>dessert wine     </td><td>shrimp           </td><td>pasta            </td><td>tomatoes         </td><td>pepper           </td><td>milk             </td><td>pancakes         </td><td>whole wheat rice </td><td>oil              </td><td>frozen smoothie  </td><td>                 </td><td>                 </td><td>                 </td><td>                 </td><td>                 </td><td>                 </td><td>                 </td></tr>\n",
       "\t<tr><td>pancakes         </td><td>light mayo       </td><td>                 </td><td>                 </td><td>                 </td><td>                 </td><td>                 </td><td>                 </td><td>                 </td><td>                 </td><td>                 </td><td>                 </td><td>                 </td><td>                 </td><td>                 </td><td>                 </td><td>                 </td><td>                 </td><td>                 </td></tr>\n",
       "\t<tr><td>butter           </td><td>light mayo       </td><td>fresh bread      </td><td>                 </td><td>                 </td><td>                 </td><td>                 </td><td>                 </td><td>                 </td><td>                 </td><td>                 </td><td>                 </td><td>                 </td><td>                 </td><td>                 </td><td>                 </td><td>                 </td><td>                 </td><td>                 </td></tr>\n",
       "\t<tr><td>burgers          </td><td>frozen vegetables</td><td>eggs             </td><td>french fries     </td><td>magazines        </td><td>green tea        </td><td>                 </td><td>                 </td><td>                 </td><td>                 </td><td>                 </td><td>                 </td><td>                 </td><td>                 </td><td>                 </td><td>                 </td><td>                 </td><td>                 </td><td>                 </td></tr>\n",
       "\t<tr><td>chicken          </td><td>                 </td><td>                 </td><td>                 </td><td>                 </td><td>                 </td><td>                 </td><td>                 </td><td>                 </td><td>                 </td><td>                 </td><td>                 </td><td>                 </td><td>                 </td><td>                 </td><td>                 </td><td>                 </td><td>                 </td><td>                 </td></tr>\n",
       "\t<tr><td>escalope         </td><td>green tea        </td><td>                 </td><td>                 </td><td>                 </td><td>                 </td><td>                 </td><td>                 </td><td>                 </td><td>                 </td><td>                 </td><td>                 </td><td>                 </td><td>                 </td><td>                 </td><td>                 </td><td>                 </td><td>                 </td><td>                 </td></tr>\n",
       "\t<tr><td>eggs             </td><td>frozen smoothie  </td><td>yogurt cake      </td><td>low fat yogurt   </td><td>                 </td><td>                 </td><td>                 </td><td>                 </td><td>                 </td><td>                 </td><td>                 </td><td>                 </td><td>                 </td><td>                 </td><td>                 </td><td>                 </td><td>                 </td><td>                 </td><td>                 </td></tr>\n",
       "</tbody>\n",
       "</table>\n"
      ],
      "text/latex": [
       "\\begin{tabular}{r|lllllllllllllllllll}\n",
       " shrimp & almonds & avocado & vegetables.mix & green.grapes & whole.weat.flour & yams & cottage.cheese & energy.drink & tomato.juice & low.fat.yogurt & green.tea & honey & salad & mineral.water & salmon & antioxydant.juice & frozen.smoothie & spinach\\\\\n",
       "\\hline\n",
       "\t burgers              & meatballs            & eggs                 &                      &                      &                      &                      &                      &                      &                      &                      &                      &                      &                      &                      &                      &                      &                      &                     \\\\\n",
       "\t chutney              &                      &                      &                      &                      &                      &                      &                      &                      &                      &                      &                      &                      &                      &                      &                      &                      &                      &                     \\\\\n",
       "\t turkey               & avocado              &                      &                      &                      &                      &                      &                      &                      &                      &                      &                      &                      &                      &                      &                      &                      &                      &                     \\\\\n",
       "\t mineral water        & milk                 & energy bar           & whole wheat rice     & green tea            &                      &                      &                      &                      &                      &                      &                      &                      &                      &                      &                      &                      &                      &                     \\\\\n",
       "\t low fat yogurt       &                      &                      &                      &                      &                      &                      &                      &                      &                      &                      &                      &                      &                      &                      &                      &                      &                      &                     \\\\\n",
       "\t whole wheat pasta    & french fries         &                      &                      &                      &                      &                      &                      &                      &                      &                      &                      &                      &                      &                      &                      &                      &                      &                     \\\\\n",
       "\t soup                 & light cream          & shallot              &                      &                      &                      &                      &                      &                      &                      &                      &                      &                      &                      &                      &                      &                      &                      &                     \\\\\n",
       "\t frozen vegetables    & spaghetti            & green tea            &                      &                      &                      &                      &                      &                      &                      &                      &                      &                      &                      &                      &                      &                      &                      &                     \\\\\n",
       "\t french fries         &                      &                      &                      &                      &                      &                      &                      &                      &                      &                      &                      &                      &                      &                      &                      &                      &                      &                     \\\\\n",
       "\t eggs                 & pet food             &                      &                      &                      &                      &                      &                      &                      &                      &                      &                      &                      &                      &                      &                      &                      &                      &                     \\\\\n",
       "\t cookies              &                      &                      &                      &                      &                      &                      &                      &                      &                      &                      &                      &                      &                      &                      &                      &                      &                      &                     \\\\\n",
       "\t turkey               & burgers              & mineral water        & eggs                 & cooking oil          &                      &                      &                      &                      &                      &                      &                      &                      &                      &                      &                      &                      &                      &                     \\\\\n",
       "\t spaghetti            & champagne            & cookies              &                      &                      &                      &                      &                      &                      &                      &                      &                      &                      &                      &                      &                      &                      &                      &                     \\\\\n",
       "\t mineral water        & salmon               &                      &                      &                      &                      &                      &                      &                      &                      &                      &                      &                      &                      &                      &                      &                      &                      &                     \\\\\n",
       "\t mineral water        &                      &                      &                      &                      &                      &                      &                      &                      &                      &                      &                      &                      &                      &                      &                      &                      &                      &                     \\\\\n",
       "\t shrimp               & chocolate            & chicken              & honey                & oil                  & cooking oil          & low fat yogurt       &                      &                      &                      &                      &                      &                      &                      &                      &                      &                      &                      &                     \\\\\n",
       "\t turkey               & eggs                 &                      &                      &                      &                      &                      &                      &                      &                      &                      &                      &                      &                      &                      &                      &                      &                      &                     \\\\\n",
       "\t turkey               & fresh tuna           & tomatoes             & spaghetti            & mineral water        & black tea            & salmon               & eggs                 & chicken              & extra dark chocolate &                      &                      &                      &                      &                      &                      &                      &                      &                     \\\\\n",
       "\t meatballs            & milk                 & honey                & french fries         & protein bar          &                      &                      &                      &                      &                      &                      &                      &                      &                      &                      &                      &                      &                      &                     \\\\\n",
       "\t red wine             & shrimp               & pasta                & pepper               & eggs                 & chocolate            & shampoo              &                      &                      &                      &                      &                      &                      &                      &                      &                      &                      &                      &                     \\\\\n",
       "\t rice                 & sparkling water      &                      &                      &                      &                      &                      &                      &                      &                      &                      &                      &                      &                      &                      &                      &                      &                      &                     \\\\\n",
       "\t spaghetti            & mineral water        & ham                  & body spray           & pancakes             & green tea            &                      &                      &                      &                      &                      &                      &                      &                      &                      &                      &                      &                      &                     \\\\\n",
       "\t burgers              & grated cheese        & shrimp               & pasta                & avocado              & honey                & white wine           & toothpaste           &                      &                      &                      &                      &                      &                      &                      &                      &                      &                      &                     \\\\\n",
       "\t eggs                 &                      &                      &                      &                      &                      &                      &                      &                      &                      &                      &                      &                      &                      &                      &                      &                      &                      &                     \\\\\n",
       "\t parmesan cheese      & spaghetti            & soup                 & avocado              & milk                 & fresh bread          &                      &                      &                      &                      &                      &                      &                      &                      &                      &                      &                      &                      &                     \\\\\n",
       "\t ground beef          & spaghetti            & mineral water        & milk                 & energy bar           & black tea            & salmon               & frozen smoothie      & escalope             &                      &                      &                      &                      &                      &                      &                      &                      &                      &                     \\\\\n",
       "\t sparkling water      &                      &                      &                      &                      &                      &                      &                      &                      &                      &                      &                      &                      &                      &                      &                      &                      &                      &                     \\\\\n",
       "\t mineral water        & eggs                 & chicken              & chocolate            & french fries         &                      &                      &                      &                      &                      &                      &                      &                      &                      &                      &                      &                      &                      &                     \\\\\n",
       "\t frozen vegetables    & spaghetti            & yams                 & mineral water        &                      &                      &                      &                      &                      &                      &                      &                      &                      &                      &                      &                      &                      &                      &                     \\\\\n",
       "\t herb \\& pepper      & tomato sauce         & light cream          & magazines            &                      &                      &                      &                      &                      &                      &                      &                      &                      &                      &                      &                      &                      &                      &                     \\\\\n",
       "\t ... & ... & ... & ... & ... & ... & ... & ... & ... & ... & ... & ... & ... & ... & ... & ... & ... & ... & ...\\\\\n",
       "\t mineral water     & chocolate         &                   &                   &                   &                   &                   &                   &                   &                   &                   &                   &                   &                   &                   &                   &                   &                   &                  \\\\\n",
       "\t chocolate         & grated cheese     & mineral water     & olive oil         & green tea         &                   &                   &                   &                   &                   &                   &                   &                   &                   &                   &                   &                   &                   &                  \\\\\n",
       "\t whole wheat rice  & cake              & cottage cheese    &                   &                   &                   &                   &                   &                   &                   &                   &                   &                   &                   &                   &                   &                   &                   &                  \\\\\n",
       "\t turkey            & shrimp            & pasta             & mineral water     & chocolate         & milk              & salmon            & vegetables mix    & muffins           & eggs              & sparkling water   & gluten free bar   &                   &                   &                   &                   &                   &                   &                  \\\\\n",
       "\t turkey            & mineral water     & cooking oil       & chocolate         & french fries      & protein bar       &                   &                   &                   &                   &                   &                   &                   &                   &                   &                   &                   &                   &                  \\\\\n",
       "\t tomatoes          & tomato sauce      & spaghetti         & mineral water     & soup              & olive oil         & mashed potato     & fresh bread       & mayonnaise        & green tea         &                   &                   &                   &                   &                   &                   &                   &                   &                  \\\\\n",
       "\t tomato juice      &                   &                   &                   &                   &                   &                   &                   &                   &                   &                   &                   &                   &                   &                   &                   &                   &                   &                  \\\\\n",
       "\t turkey            & ground beef       & mineral water     & chocolate         & soup              & pancakes          & whole wheat rice  & light cream       & carrots           & mayonnaise        &                   &                   &                   &                   &                   &                   &                   &                   &                  \\\\\n",
       "\t shrimp            & pasta             & mineral water     & olive oil         & pancakes          & bug spray         & low fat yogurt    &                   &                   &                   &                   &                   &                   &                   &                   &                   &                   &                   &                  \\\\\n",
       "\t frozen vegetables & french wine       & pancakes          & french fries      & champagne         & strawberries      &                   &                   &                   &                   &                   &                   &                   &                   &                   &                   &                   &                   &                  \\\\\n",
       "\t chocolate         & shrimp            & pasta             & spaghetti         &                   &                   &                   &                   &                   &                   &                   &                   &                   &                   &                   &                   &                   &                   &                  \\\\\n",
       "\t chocolate         &                   &                   &                   &                   &                   &                   &                   &                   &                   &                   &                   &                   &                   &                   &                   &                   &                   &                  \\\\\n",
       "\t fresh tuna        & parmesan cheese   & whole wheat pasta & french wine       & fromage blanc     & cottage cheese    & brownies          & salad             & mint              & green tea         &                   &                   &                   &                   &                   &                   &                   &                   &                  \\\\\n",
       "\t cookies           & energy drink      &                   &                   &                   &                   &                   &                   &                   &                   &                   &                   &                   &                   &                   &                   &                   &                   &                  \\\\\n",
       "\t parmesan cheese   & champagne         & white wine        &                   &                   &                   &                   &                   &                   &                   &                   &                   &                   &                   &                   &                   &                   &                   &                  \\\\\n",
       "\t red wine          & tomato sauce      & spaghetti         & chocolate         & olive oil         & french fries      & salt              & asparagus         &                   &                   &                   &                   &                   &                   &                   &                   &                   &                   &                  \\\\\n",
       "\t soup              & milk              &                   &                   &                   &                   &                   &                   &                   &                   &                   &                   &                   &                   &                   &                   &                   &                   &                  \\\\\n",
       "\t eggs              & whole wheat rice  &                   &                   &                   &                   &                   &                   &                   &                   &                   &                   &                   &                   &                   &                   &                   &                   &                  \\\\\n",
       "\t brownies          &                   &                   &                   &                   &                   &                   &                   &                   &                   &                   &                   &                   &                   &                   &                   &                   &                   &                  \\\\\n",
       "\t herb \\& pepper     & spaghetti           & low fat yogurt      &                     &                     &                     &                     &                     &                     &                     &                     &                     &                     &                     &                     &                     &                     &                     &                    \\\\\n",
       "\t herb \\& pepper     &                     &                     &                     &                     &                     &                     &                     &                     &                     &                     &                     &                     &                     &                     &                     &                     &                     &                    \\\\\n",
       "\t chocolate         & escalope          &                   &                   &                   &                   &                   &                   &                   &                   &                   &                   &                   &                   &                   &                   &                   &                   &                  \\\\\n",
       "\t burgers           & salmon            & pancakes          & french fries      & frozen smoothie   & fresh bread       & mint              &                   &                   &                   &                   &                   &                   &                   &                   &                   &                   &                   &                  \\\\\n",
       "\t turkey            & burgers           & dessert wine      & shrimp            & pasta             & tomatoes          & pepper            & milk              & pancakes          & whole wheat rice  & oil               & frozen smoothie   &                   &                   &                   &                   &                   &                   &                  \\\\\n",
       "\t pancakes          & light mayo        &                   &                   &                   &                   &                   &                   &                   &                   &                   &                   &                   &                   &                   &                   &                   &                   &                  \\\\\n",
       "\t butter            & light mayo        & fresh bread       &                   &                   &                   &                   &                   &                   &                   &                   &                   &                   &                   &                   &                   &                   &                   &                  \\\\\n",
       "\t burgers           & frozen vegetables & eggs              & french fries      & magazines         & green tea         &                   &                   &                   &                   &                   &                   &                   &                   &                   &                   &                   &                   &                  \\\\\n",
       "\t chicken           &                   &                   &                   &                   &                   &                   &                   &                   &                   &                   &                   &                   &                   &                   &                   &                   &                   &                  \\\\\n",
       "\t escalope          & green tea         &                   &                   &                   &                   &                   &                   &                   &                   &                   &                   &                   &                   &                   &                   &                   &                   &                  \\\\\n",
       "\t eggs              & frozen smoothie   & yogurt cake       & low fat yogurt    &                   &                   &                   &                   &                   &                   &                   &                   &                   &                   &                   &                   &                   &                   &                  \\\\\n",
       "\\end{tabular}\n"
      ],
      "text/markdown": [
       "\n",
       "| shrimp | almonds | avocado | vegetables.mix | green.grapes | whole.weat.flour | yams | cottage.cheese | energy.drink | tomato.juice | low.fat.yogurt | green.tea | honey | salad | mineral.water | salmon | antioxydant.juice | frozen.smoothie | spinach |\n",
       "|---|---|---|---|---|---|---|---|---|---|---|---|---|---|---|---|---|---|---|\n",
       "| burgers              | meatballs            | eggs                 |                      |                      |                      |                      |                      |                      |                      |                      |                      |                      |                      |                      |                      |                      |                      |                      |\n",
       "| chutney              |                      |                      |                      |                      |                      |                      |                      |                      |                      |                      |                      |                      |                      |                      |                      |                      |                      |                      |\n",
       "| turkey               | avocado              |                      |                      |                      |                      |                      |                      |                      |                      |                      |                      |                      |                      |                      |                      |                      |                      |                      |\n",
       "| mineral water        | milk                 | energy bar           | whole wheat rice     | green tea            |                      |                      |                      |                      |                      |                      |                      |                      |                      |                      |                      |                      |                      |                      |\n",
       "| low fat yogurt       |                      |                      |                      |                      |                      |                      |                      |                      |                      |                      |                      |                      |                      |                      |                      |                      |                      |                      |\n",
       "| whole wheat pasta    | french fries         |                      |                      |                      |                      |                      |                      |                      |                      |                      |                      |                      |                      |                      |                      |                      |                      |                      |\n",
       "| soup                 | light cream          | shallot              |                      |                      |                      |                      |                      |                      |                      |                      |                      |                      |                      |                      |                      |                      |                      |                      |\n",
       "| frozen vegetables    | spaghetti            | green tea            |                      |                      |                      |                      |                      |                      |                      |                      |                      |                      |                      |                      |                      |                      |                      |                      |\n",
       "| french fries         |                      |                      |                      |                      |                      |                      |                      |                      |                      |                      |                      |                      |                      |                      |                      |                      |                      |                      |\n",
       "| eggs                 | pet food             |                      |                      |                      |                      |                      |                      |                      |                      |                      |                      |                      |                      |                      |                      |                      |                      |                      |\n",
       "| cookies              |                      |                      |                      |                      |                      |                      |                      |                      |                      |                      |                      |                      |                      |                      |                      |                      |                      |                      |\n",
       "| turkey               | burgers              | mineral water        | eggs                 | cooking oil          |                      |                      |                      |                      |                      |                      |                      |                      |                      |                      |                      |                      |                      |                      |\n",
       "| spaghetti            | champagne            | cookies              |                      |                      |                      |                      |                      |                      |                      |                      |                      |                      |                      |                      |                      |                      |                      |                      |\n",
       "| mineral water        | salmon               |                      |                      |                      |                      |                      |                      |                      |                      |                      |                      |                      |                      |                      |                      |                      |                      |                      |\n",
       "| mineral water        |                      |                      |                      |                      |                      |                      |                      |                      |                      |                      |                      |                      |                      |                      |                      |                      |                      |                      |\n",
       "| shrimp               | chocolate            | chicken              | honey                | oil                  | cooking oil          | low fat yogurt       |                      |                      |                      |                      |                      |                      |                      |                      |                      |                      |                      |                      |\n",
       "| turkey               | eggs                 |                      |                      |                      |                      |                      |                      |                      |                      |                      |                      |                      |                      |                      |                      |                      |                      |                      |\n",
       "| turkey               | fresh tuna           | tomatoes             | spaghetti            | mineral water        | black tea            | salmon               | eggs                 | chicken              | extra dark chocolate |                      |                      |                      |                      |                      |                      |                      |                      |                      |\n",
       "| meatballs            | milk                 | honey                | french fries         | protein bar          |                      |                      |                      |                      |                      |                      |                      |                      |                      |                      |                      |                      |                      |                      |\n",
       "| red wine             | shrimp               | pasta                | pepper               | eggs                 | chocolate            | shampoo              |                      |                      |                      |                      |                      |                      |                      |                      |                      |                      |                      |                      |\n",
       "| rice                 | sparkling water      |                      |                      |                      |                      |                      |                      |                      |                      |                      |                      |                      |                      |                      |                      |                      |                      |                      |\n",
       "| spaghetti            | mineral water        | ham                  | body spray           | pancakes             | green tea            |                      |                      |                      |                      |                      |                      |                      |                      |                      |                      |                      |                      |                      |\n",
       "| burgers              | grated cheese        | shrimp               | pasta                | avocado              | honey                | white wine           | toothpaste           |                      |                      |                      |                      |                      |                      |                      |                      |                      |                      |                      |\n",
       "| eggs                 |                      |                      |                      |                      |                      |                      |                      |                      |                      |                      |                      |                      |                      |                      |                      |                      |                      |                      |\n",
       "| parmesan cheese      | spaghetti            | soup                 | avocado              | milk                 | fresh bread          |                      |                      |                      |                      |                      |                      |                      |                      |                      |                      |                      |                      |                      |\n",
       "| ground beef          | spaghetti            | mineral water        | milk                 | energy bar           | black tea            | salmon               | frozen smoothie      | escalope             |                      |                      |                      |                      |                      |                      |                      |                      |                      |                      |\n",
       "| sparkling water      |                      |                      |                      |                      |                      |                      |                      |                      |                      |                      |                      |                      |                      |                      |                      |                      |                      |                      |\n",
       "| mineral water        | eggs                 | chicken              | chocolate            | french fries         |                      |                      |                      |                      |                      |                      |                      |                      |                      |                      |                      |                      |                      |                      |\n",
       "| frozen vegetables    | spaghetti            | yams                 | mineral water        |                      |                      |                      |                      |                      |                      |                      |                      |                      |                      |                      |                      |                      |                      |                      |\n",
       "| herb & pepper        | tomato sauce         | light cream          | magazines            |                      |                      |                      |                      |                      |                      |                      |                      |                      |                      |                      |                      |                      |                      |                      |\n",
       "| ... | ... | ... | ... | ... | ... | ... | ... | ... | ... | ... | ... | ... | ... | ... | ... | ... | ... | ... |\n",
       "| mineral water     | chocolate         |                   |                   |                   |                   |                   |                   |                   |                   |                   |                   |                   |                   |                   |                   |                   |                   |                   |\n",
       "| chocolate         | grated cheese     | mineral water     | olive oil         | green tea         |                   |                   |                   |                   |                   |                   |                   |                   |                   |                   |                   |                   |                   |                   |\n",
       "| whole wheat rice  | cake              | cottage cheese    |                   |                   |                   |                   |                   |                   |                   |                   |                   |                   |                   |                   |                   |                   |                   |                   |\n",
       "| turkey            | shrimp            | pasta             | mineral water     | chocolate         | milk              | salmon            | vegetables mix    | muffins           | eggs              | sparkling water   | gluten free bar   |                   |                   |                   |                   |                   |                   |                   |\n",
       "| turkey            | mineral water     | cooking oil       | chocolate         | french fries      | protein bar       |                   |                   |                   |                   |                   |                   |                   |                   |                   |                   |                   |                   |                   |\n",
       "| tomatoes          | tomato sauce      | spaghetti         | mineral water     | soup              | olive oil         | mashed potato     | fresh bread       | mayonnaise        | green tea         |                   |                   |                   |                   |                   |                   |                   |                   |                   |\n",
       "| tomato juice      |                   |                   |                   |                   |                   |                   |                   |                   |                   |                   |                   |                   |                   |                   |                   |                   |                   |                   |\n",
       "| turkey            | ground beef       | mineral water     | chocolate         | soup              | pancakes          | whole wheat rice  | light cream       | carrots           | mayonnaise        |                   |                   |                   |                   |                   |                   |                   |                   |                   |\n",
       "| shrimp            | pasta             | mineral water     | olive oil         | pancakes          | bug spray         | low fat yogurt    |                   |                   |                   |                   |                   |                   |                   |                   |                   |                   |                   |                   |\n",
       "| frozen vegetables | french wine       | pancakes          | french fries      | champagne         | strawberries      |                   |                   |                   |                   |                   |                   |                   |                   |                   |                   |                   |                   |                   |\n",
       "| chocolate         | shrimp            | pasta             | spaghetti         |                   |                   |                   |                   |                   |                   |                   |                   |                   |                   |                   |                   |                   |                   |                   |\n",
       "| chocolate         |                   |                   |                   |                   |                   |                   |                   |                   |                   |                   |                   |                   |                   |                   |                   |                   |                   |                   |\n",
       "| fresh tuna        | parmesan cheese   | whole wheat pasta | french wine       | fromage blanc     | cottage cheese    | brownies          | salad             | mint              | green tea         |                   |                   |                   |                   |                   |                   |                   |                   |                   |\n",
       "| cookies           | energy drink      |                   |                   |                   |                   |                   |                   |                   |                   |                   |                   |                   |                   |                   |                   |                   |                   |                   |\n",
       "| parmesan cheese   | champagne         | white wine        |                   |                   |                   |                   |                   |                   |                   |                   |                   |                   |                   |                   |                   |                   |                   |                   |\n",
       "| red wine          | tomato sauce      | spaghetti         | chocolate         | olive oil         | french fries      | salt              | asparagus         |                   |                   |                   |                   |                   |                   |                   |                   |                   |                   |                   |\n",
       "| soup              | milk              |                   |                   |                   |                   |                   |                   |                   |                   |                   |                   |                   |                   |                   |                   |                   |                   |                   |\n",
       "| eggs              | whole wheat rice  |                   |                   |                   |                   |                   |                   |                   |                   |                   |                   |                   |                   |                   |                   |                   |                   |                   |\n",
       "| brownies          |                   |                   |                   |                   |                   |                   |                   |                   |                   |                   |                   |                   |                   |                   |                   |                   |                   |                   |\n",
       "| herb & pepper     | spaghetti         | low fat yogurt    |                   |                   |                   |                   |                   |                   |                   |                   |                   |                   |                   |                   |                   |                   |                   |                   |\n",
       "| herb & pepper     |                   |                   |                   |                   |                   |                   |                   |                   |                   |                   |                   |                   |                   |                   |                   |                   |                   |                   |\n",
       "| chocolate         | escalope          |                   |                   |                   |                   |                   |                   |                   |                   |                   |                   |                   |                   |                   |                   |                   |                   |                   |\n",
       "| burgers           | salmon            | pancakes          | french fries      | frozen smoothie   | fresh bread       | mint              |                   |                   |                   |                   |                   |                   |                   |                   |                   |                   |                   |                   |\n",
       "| turkey            | burgers           | dessert wine      | shrimp            | pasta             | tomatoes          | pepper            | milk              | pancakes          | whole wheat rice  | oil               | frozen smoothie   |                   |                   |                   |                   |                   |                   |                   |\n",
       "| pancakes          | light mayo        |                   |                   |                   |                   |                   |                   |                   |                   |                   |                   |                   |                   |                   |                   |                   |                   |                   |\n",
       "| butter            | light mayo        | fresh bread       |                   |                   |                   |                   |                   |                   |                   |                   |                   |                   |                   |                   |                   |                   |                   |                   |\n",
       "| burgers           | frozen vegetables | eggs              | french fries      | magazines         | green tea         |                   |                   |                   |                   |                   |                   |                   |                   |                   |                   |                   |                   |                   |\n",
       "| chicken           |                   |                   |                   |                   |                   |                   |                   |                   |                   |                   |                   |                   |                   |                   |                   |                   |                   |                   |\n",
       "| escalope          | green tea         |                   |                   |                   |                   |                   |                   |                   |                   |                   |                   |                   |                   |                   |                   |                   |                   |                   |\n",
       "| eggs              | frozen smoothie   | yogurt cake       | low fat yogurt    |                   |                   |                   |                   |                   |                   |                   |                   |                   |                   |                   |                   |                   |                   |                   |\n",
       "\n"
      ],
      "text/plain": [
       "     shrimp            almonds           avocado           vegetables.mix  \n",
       "1    burgers           meatballs         eggs                              \n",
       "2    chutney                                                               \n",
       "3    turkey            avocado                                             \n",
       "4    mineral water     milk              energy bar        whole wheat rice\n",
       "5    low fat yogurt                                                        \n",
       "6    whole wheat pasta french fries                                        \n",
       "7    soup              light cream       shallot                           \n",
       "8    frozen vegetables spaghetti         green tea                         \n",
       "9    french fries                                                          \n",
       "10   eggs              pet food                                            \n",
       "11   cookies                                                               \n",
       "12   turkey            burgers           mineral water     eggs            \n",
       "13   spaghetti         champagne         cookies                           \n",
       "14   mineral water     salmon                                              \n",
       "15   mineral water                                                         \n",
       "16   shrimp            chocolate         chicken           honey           \n",
       "17   turkey            eggs                                                \n",
       "18   turkey            fresh tuna        tomatoes          spaghetti       \n",
       "19   meatballs         milk              honey             french fries    \n",
       "20   red wine          shrimp            pasta             pepper          \n",
       "21   rice              sparkling water                                     \n",
       "22   spaghetti         mineral water     ham               body spray      \n",
       "23   burgers           grated cheese     shrimp            pasta           \n",
       "24   eggs                                                                  \n",
       "25   parmesan cheese   spaghetti         soup              avocado         \n",
       "26   ground beef       spaghetti         mineral water     milk            \n",
       "27   sparkling water                                                       \n",
       "28   mineral water     eggs              chicken           chocolate       \n",
       "29   frozen vegetables spaghetti         yams              mineral water   \n",
       "30   herb & pepper     tomato sauce      light cream       magazines       \n",
       "...  ...               ...               ...               ...             \n",
       "7471 mineral water     chocolate                                           \n",
       "7472 chocolate         grated cheese     mineral water     olive oil       \n",
       "7473 whole wheat rice  cake              cottage cheese                    \n",
       "7474 turkey            shrimp            pasta             mineral water   \n",
       "7475 turkey            mineral water     cooking oil       chocolate       \n",
       "7476 tomatoes          tomato sauce      spaghetti         mineral water   \n",
       "7477 tomato juice                                                          \n",
       "7478 turkey            ground beef       mineral water     chocolate       \n",
       "7479 shrimp            pasta             mineral water     olive oil       \n",
       "7480 frozen vegetables french wine       pancakes          french fries    \n",
       "7481 chocolate         shrimp            pasta             spaghetti       \n",
       "7482 chocolate                                                             \n",
       "7483 fresh tuna        parmesan cheese   whole wheat pasta french wine     \n",
       "7484 cookies           energy drink                                        \n",
       "7485 parmesan cheese   champagne         white wine                        \n",
       "7486 red wine          tomato sauce      spaghetti         chocolate       \n",
       "7487 soup              milk                                                \n",
       "7488 eggs              whole wheat rice                                    \n",
       "7489 brownies                                                              \n",
       "7490 herb & pepper     spaghetti         low fat yogurt                    \n",
       "7491 herb & pepper                                                         \n",
       "7492 chocolate         escalope                                            \n",
       "7493 burgers           salmon            pancakes          french fries    \n",
       "7494 turkey            burgers           dessert wine      shrimp          \n",
       "7495 pancakes          light mayo                                          \n",
       "7496 butter            light mayo        fresh bread                       \n",
       "7497 burgers           frozen vegetables eggs              french fries    \n",
       "7498 chicken                                                               \n",
       "7499 escalope          green tea                                           \n",
       "7500 eggs              frozen smoothie   yogurt cake       low fat yogurt  \n",
       "     green.grapes    whole.weat.flour yams             cottage.cheese \n",
       "1                                                                     \n",
       "2                                                                     \n",
       "3                                                                     \n",
       "4    green tea                                                        \n",
       "5                                                                     \n",
       "6                                                                     \n",
       "7                                                                     \n",
       "8                                                                     \n",
       "9                                                                     \n",
       "10                                                                    \n",
       "11                                                                    \n",
       "12   cooking oil                                                      \n",
       "13                                                                    \n",
       "14                                                                    \n",
       "15                                                                    \n",
       "16   oil             cooking oil      low fat yogurt                  \n",
       "17                                                                    \n",
       "18   mineral water   black tea        salmon           eggs           \n",
       "19   protein bar                                                      \n",
       "20   eggs            chocolate        shampoo                         \n",
       "21                                                                    \n",
       "22   pancakes        green tea                                        \n",
       "23   avocado         honey            white wine       toothpaste     \n",
       "24                                                                    \n",
       "25   milk            fresh bread                                      \n",
       "26   energy bar      black tea        salmon           frozen smoothie\n",
       "27                                                                    \n",
       "28   french fries                                                     \n",
       "29                                                                    \n",
       "30                                                                    \n",
       "...  ...             ...              ...              ...            \n",
       "7471                                                                  \n",
       "7472 green tea                                                        \n",
       "7473                                                                  \n",
       "7474 chocolate       milk             salmon           vegetables mix \n",
       "7475 french fries    protein bar                                      \n",
       "7476 soup            olive oil        mashed potato    fresh bread    \n",
       "7477                                                                  \n",
       "7478 soup            pancakes         whole wheat rice light cream    \n",
       "7479 pancakes        bug spray        low fat yogurt                  \n",
       "7480 champagne       strawberries                                     \n",
       "7481                                                                  \n",
       "7482                                                                  \n",
       "7483 fromage blanc   cottage cheese   brownies         salad          \n",
       "7484                                                                  \n",
       "7485                                                                  \n",
       "7486 olive oil       french fries     salt             asparagus      \n",
       "7487                                                                  \n",
       "7488                                                                  \n",
       "7489                                                                  \n",
       "7490                                                                  \n",
       "7491                                                                  \n",
       "7492                                                                  \n",
       "7493 frozen smoothie fresh bread      mint                            \n",
       "7494 pasta           tomatoes         pepper           milk           \n",
       "7495                                                                  \n",
       "7496                                                                  \n",
       "7497 magazines       green tea                                        \n",
       "7498                                                                  \n",
       "7499                                                                  \n",
       "7500                                                                  \n",
       "     energy.drink tomato.juice         low.fat.yogurt  green.tea       honey\n",
       "1                                                                           \n",
       "2                                                                           \n",
       "3                                                                           \n",
       "4                                                                           \n",
       "5                                                                           \n",
       "6                                                                           \n",
       "7                                                                           \n",
       "8                                                                           \n",
       "9                                                                           \n",
       "10                                                                          \n",
       "11                                                                          \n",
       "12                                                                          \n",
       "13                                                                          \n",
       "14                                                                          \n",
       "15                                                                          \n",
       "16                                                                          \n",
       "17                                                                          \n",
       "18   chicken      extra dark chocolate                                      \n",
       "19                                                                          \n",
       "20                                                                          \n",
       "21                                                                          \n",
       "22                                                                          \n",
       "23                                                                          \n",
       "24                                                                          \n",
       "25                                                                          \n",
       "26   escalope                                                               \n",
       "27                                                                          \n",
       "28                                                                          \n",
       "29                                                                          \n",
       "30                                                                          \n",
       "...  ...          ...                  ...             ...             ...  \n",
       "7471                                                                        \n",
       "7472                                                                        \n",
       "7473                                                                        \n",
       "7474 muffins      eggs                 sparkling water gluten free bar      \n",
       "7475                                                                        \n",
       "7476 mayonnaise   green tea                                                 \n",
       "7477                                                                        \n",
       "7478 carrots      mayonnaise                                                \n",
       "7479                                                                        \n",
       "7480                                                                        \n",
       "7481                                                                        \n",
       "7482                                                                        \n",
       "7483 mint         green tea                                                 \n",
       "7484                                                                        \n",
       "7485                                                                        \n",
       "7486                                                                        \n",
       "7487                                                                        \n",
       "7488                                                                        \n",
       "7489                                                                        \n",
       "7490                                                                        \n",
       "7491                                                                        \n",
       "7492                                                                        \n",
       "7493                                                                        \n",
       "7494 pancakes     whole wheat rice     oil             frozen smoothie      \n",
       "7495                                                                        \n",
       "7496                                                                        \n",
       "7497                                                                        \n",
       "7498                                                                        \n",
       "7499                                                                        \n",
       "7500                                                                        \n",
       "     salad mineral.water salmon antioxydant.juice frozen.smoothie spinach\n",
       "1                                                                        \n",
       "2                                                                        \n",
       "3                                                                        \n",
       "4                                                                        \n",
       "5                                                                        \n",
       "6                                                                        \n",
       "7                                                                        \n",
       "8                                                                        \n",
       "9                                                                        \n",
       "10                                                                       \n",
       "11                                                                       \n",
       "12                                                                       \n",
       "13                                                                       \n",
       "14                                                                       \n",
       "15                                                                       \n",
       "16                                                                       \n",
       "17                                                                       \n",
       "18                                                                       \n",
       "19                                                                       \n",
       "20                                                                       \n",
       "21                                                                       \n",
       "22                                                                       \n",
       "23                                                                       \n",
       "24                                                                       \n",
       "25                                                                       \n",
       "26                                                                       \n",
       "27                                                                       \n",
       "28                                                                       \n",
       "29                                                                       \n",
       "30                                                                       \n",
       "...  ...   ...           ...    ...               ...             ...    \n",
       "7471                                                                     \n",
       "7472                                                                     \n",
       "7473                                                                     \n",
       "7474                                                                     \n",
       "7475                                                                     \n",
       "7476                                                                     \n",
       "7477                                                                     \n",
       "7478                                                                     \n",
       "7479                                                                     \n",
       "7480                                                                     \n",
       "7481                                                                     \n",
       "7482                                                                     \n",
       "7483                                                                     \n",
       "7484                                                                     \n",
       "7485                                                                     \n",
       "7486                                                                     \n",
       "7487                                                                     \n",
       "7488                                                                     \n",
       "7489                                                                     \n",
       "7490                                                                     \n",
       "7491                                                                     \n",
       "7492                                                                     \n",
       "7493                                                                     \n",
       "7494                                                                     \n",
       "7495                                                                     \n",
       "7496                                                                     \n",
       "7497                                                                     \n",
       "7498                                                                     \n",
       "7499                                                                     \n",
       "7500                                                                     "
      ]
     },
     "metadata": {},
     "output_type": "display_data"
    }
   ],
   "source": [
    "# Loading the dataset\n",
    "#\n",
    "# We will use read.transactions fuction which will load data from comma-separated files and convert them to the class transactions, which is the kind of data that we will require while working with models of association rules\n",
    "\n",
    "transaction <- read.transactions(\"C:/Users/I/Downloads/Supermarket_Sales_Dataset II.csv\",sep=\",\")\n",
    "Rules_df\n",
    "\n",
    "path <- \"C:/Users/I//Downloads/\"\n",
    "data <- file.path(path, \"Supermarket_Sales_Dataset II.csv\")"
   ]
  },
  {
   "cell_type": "code",
   "execution_count": 146,
   "metadata": {
    "ExecuteTime": {
     "end_time": "2020-03-27T00:33:20.445974Z",
     "start_time": "2020-03-27T00:33:20.343Z"
    }
   },
   "outputs": [
    {
     "data": {
      "text/html": [
       "<table>\n",
       "<thead><tr><th scope=col>shrimp</th><th scope=col>almonds</th><th scope=col>avocado</th><th scope=col>vegetables.mix</th><th scope=col>green.grapes</th><th scope=col>whole.weat.flour</th><th scope=col>yams</th><th scope=col>cottage.cheese</th><th scope=col>energy.drink</th><th scope=col>tomato.juice</th><th scope=col>low.fat.yogurt</th><th scope=col>green.tea</th><th scope=col>honey</th><th scope=col>salad</th><th scope=col>mineral.water</th><th scope=col>salmon</th><th scope=col>antioxydant.juice</th><th scope=col>frozen.smoothie</th><th scope=col>spinach</th><th scope=col>olive.oil</th></tr></thead>\n",
       "<tbody>\n",
       "\t<tr><td>burgers          </td><td>meatballs        </td><td>eggs             </td><td>                 </td><td>                 </td><td>                 </td><td>                 </td><td>                 </td><td>                 </td><td>                 </td><td>                 </td><td>                 </td><td>                 </td><td>                 </td><td>                 </td><td>                 </td><td>                 </td><td>                 </td><td>                 </td><td>NA               </td></tr>\n",
       "\t<tr><td>chutney          </td><td>                 </td><td>                 </td><td>                 </td><td>                 </td><td>                 </td><td>                 </td><td>                 </td><td>                 </td><td>                 </td><td>                 </td><td>                 </td><td>                 </td><td>                 </td><td>                 </td><td>                 </td><td>                 </td><td>                 </td><td>                 </td><td>NA               </td></tr>\n",
       "\t<tr><td>turkey           </td><td>avocado          </td><td>                 </td><td>                 </td><td>                 </td><td>                 </td><td>                 </td><td>                 </td><td>                 </td><td>                 </td><td>                 </td><td>                 </td><td>                 </td><td>                 </td><td>                 </td><td>                 </td><td>                 </td><td>                 </td><td>                 </td><td>NA               </td></tr>\n",
       "\t<tr><td>mineral water    </td><td>milk             </td><td>energy bar       </td><td>whole wheat rice </td><td>green tea        </td><td>                 </td><td>                 </td><td>                 </td><td>                 </td><td>                 </td><td>                 </td><td>                 </td><td>                 </td><td>                 </td><td>                 </td><td>                 </td><td>                 </td><td>                 </td><td>                 </td><td>NA               </td></tr>\n",
       "\t<tr><td>low fat yogurt   </td><td>                 </td><td>                 </td><td>                 </td><td>                 </td><td>                 </td><td>                 </td><td>                 </td><td>                 </td><td>                 </td><td>                 </td><td>                 </td><td>                 </td><td>                 </td><td>                 </td><td>                 </td><td>                 </td><td>                 </td><td>                 </td><td>NA               </td></tr>\n",
       "\t<tr><td>whole wheat pasta</td><td>french fries     </td><td>                 </td><td>                 </td><td>                 </td><td>                 </td><td>                 </td><td>                 </td><td>                 </td><td>                 </td><td>                 </td><td>                 </td><td>                 </td><td>                 </td><td>                 </td><td>                 </td><td>                 </td><td>                 </td><td>                 </td><td>NA               </td></tr>\n",
       "</tbody>\n",
       "</table>\n"
      ],
      "text/latex": [
       "\\begin{tabular}{r|llllllllllllllllllll}\n",
       " shrimp & almonds & avocado & vegetables.mix & green.grapes & whole.weat.flour & yams & cottage.cheese & energy.drink & tomato.juice & low.fat.yogurt & green.tea & honey & salad & mineral.water & salmon & antioxydant.juice & frozen.smoothie & spinach & olive.oil\\\\\n",
       "\\hline\n",
       "\t burgers           & meatballs         & eggs              &                   &                   &                   &                   &                   &                   &                   &                   &                   &                   &                   &                   &                   &                   &                   &                   & NA               \\\\\n",
       "\t chutney           &                   &                   &                   &                   &                   &                   &                   &                   &                   &                   &                   &                   &                   &                   &                   &                   &                   &                   & NA               \\\\\n",
       "\t turkey            & avocado           &                   &                   &                   &                   &                   &                   &                   &                   &                   &                   &                   &                   &                   &                   &                   &                   &                   & NA               \\\\\n",
       "\t mineral water     & milk              & energy bar        & whole wheat rice  & green tea         &                   &                   &                   &                   &                   &                   &                   &                   &                   &                   &                   &                   &                   &                   & NA               \\\\\n",
       "\t low fat yogurt    &                   &                   &                   &                   &                   &                   &                   &                   &                   &                   &                   &                   &                   &                   &                   &                   &                   &                   & NA               \\\\\n",
       "\t whole wheat pasta & french fries      &                   &                   &                   &                   &                   &                   &                   &                   &                   &                   &                   &                   &                   &                   &                   &                   &                   & NA               \\\\\n",
       "\\end{tabular}\n"
      ],
      "text/markdown": [
       "\n",
       "| shrimp | almonds | avocado | vegetables.mix | green.grapes | whole.weat.flour | yams | cottage.cheese | energy.drink | tomato.juice | low.fat.yogurt | green.tea | honey | salad | mineral.water | salmon | antioxydant.juice | frozen.smoothie | spinach | olive.oil |\n",
       "|---|---|---|---|---|---|---|---|---|---|---|---|---|---|---|---|---|---|---|---|\n",
       "| burgers           | meatballs         | eggs              |                   |                   |                   |                   |                   |                   |                   |                   |                   |                   |                   |                   |                   |                   |                   |                   | NA                |\n",
       "| chutney           |                   |                   |                   |                   |                   |                   |                   |                   |                   |                   |                   |                   |                   |                   |                   |                   |                   |                   | NA                |\n",
       "| turkey            | avocado           |                   |                   |                   |                   |                   |                   |                   |                   |                   |                   |                   |                   |                   |                   |                   |                   |                   | NA                |\n",
       "| mineral water     | milk              | energy bar        | whole wheat rice  | green tea         |                   |                   |                   |                   |                   |                   |                   |                   |                   |                   |                   |                   |                   |                   | NA                |\n",
       "| low fat yogurt    |                   |                   |                   |                   |                   |                   |                   |                   |                   |                   |                   |                   |                   |                   |                   |                   |                   |                   | NA                |\n",
       "| whole wheat pasta | french fries      |                   |                   |                   |                   |                   |                   |                   |                   |                   |                   |                   |                   |                   |                   |                   |                   |                   | NA                |\n",
       "\n"
      ],
      "text/plain": [
       "  shrimp            almonds      avocado    vegetables.mix   green.grapes\n",
       "1 burgers           meatballs    eggs                                    \n",
       "2 chutney                                                                \n",
       "3 turkey            avocado                                              \n",
       "4 mineral water     milk         energy bar whole wheat rice green tea   \n",
       "5 low fat yogurt                                                         \n",
       "6 whole wheat pasta french fries                                         \n",
       "  whole.weat.flour yams cottage.cheese energy.drink tomato.juice low.fat.yogurt\n",
       "1                                                                              \n",
       "2                                                                              \n",
       "3                                                                              \n",
       "4                                                                              \n",
       "5                                                                              \n",
       "6                                                                              \n",
       "  green.tea honey salad mineral.water salmon antioxydant.juice frozen.smoothie\n",
       "1                                                                             \n",
       "2                                                                             \n",
       "3                                                                             \n",
       "4                                                                             \n",
       "5                                                                             \n",
       "6                                                                             \n",
       "  spinach olive.oil\n",
       "1         NA       \n",
       "2         NA       \n",
       "3         NA       \n",
       "4         NA       \n",
       "5         NA       \n",
       "6         NA       "
      ]
     },
     "metadata": {},
     "output_type": "display_data"
    }
   ],
   "source": [
    "transaction <- read.csv(data)\n",
    "head(transaction)"
   ]
  },
  {
   "cell_type": "code",
   "execution_count": 147,
   "metadata": {
    "ExecuteTime": {
     "end_time": "2020-03-27T00:33:30.075542Z",
     "start_time": "2020-03-27T00:33:30.029Z"
    }
   },
   "outputs": [
    {
     "data": {
      "text/html": [
       "<ol class=list-inline>\n",
       "\t<li>7500</li>\n",
       "\t<li>20</li>\n",
       "</ol>\n"
      ],
      "text/latex": [
       "\\begin{enumerate*}\n",
       "\\item 7500\n",
       "\\item 20\n",
       "\\end{enumerate*}\n"
      ],
      "text/markdown": [
       "1. 7500\n",
       "2. 20\n",
       "\n",
       "\n"
      ],
      "text/plain": [
       "[1] 7500   20"
      ]
     },
     "metadata": {},
     "output_type": "display_data"
    }
   ],
   "source": [
    "#Check for number of rows and columns\n",
    "dim(transaction)"
   ]
  },
  {
   "cell_type": "markdown",
   "metadata": {},
   "source": [
    "The data has 7500 data points and 20 features"
   ]
  },
  {
   "cell_type": "code",
   "execution_count": 148,
   "metadata": {
    "ExecuteTime": {
     "end_time": "2020-03-27T00:34:12.533341Z",
     "start_time": "2020-03-27T00:34:12.477Z"
    }
   },
   "outputs": [
    {
     "name": "stdout",
     "output_type": "stream",
     "text": [
      "'data.frame':\t7500 obs. of  20 variables:\n",
      " $ shrimp           : Factor w/ 115 levels \"almonds\",\"antioxydant juice\",..: 15 27 108 72 65 112 98 49 43 37 ...\n",
      " $ almonds          : Factor w/ 118 levels \"\",\"almonds\",\"antioxydant juice\",..: 69 1 5 71 1 43 63 99 1 85 ...\n",
      " $ avocado          : Factor w/ 116 levels \"\",\"almonds\",\"antioxydant juice\",..: 36 1 1 37 1 1 93 53 1 1 ...\n",
      " $ vegetables.mix   : Factor w/ 115 levels \"\",\"almonds\",\"antioxydant juice\",..: 1 1 1 112 1 1 1 1 1 1 ...\n",
      " $ green.grapes     : Factor w/ 111 levels \"\",\"almonds\",\"antioxydant juice\",..: 1 1 1 51 1 1 1 1 1 1 ...\n",
      " $ whole.weat.flour : Factor w/ 107 levels \"\",\"almonds\",\"antioxydant juice\",..: 1 1 1 1 1 1 1 1 1 1 ...\n",
      " $ yams             : Factor w/ 103 levels \"\",\"almonds\",\"antioxydant juice\",..: 1 1 1 1 1 1 1 1 1 1 ...\n",
      " $ cottage.cheese   : Factor w/ 99 levels \"\",\" asparagus\",..: 1 1 1 1 1 1 1 1 1 1 ...\n",
      " $ energy.drink     : Factor w/ 89 levels \"\",\"almonds\",\"antioxydant juice\",..: 1 1 1 1 1 1 1 1 1 1 ...\n",
      " $ tomato.juice     : Factor w/ 81 levels \"\",\"asparagus\",..: 1 1 1 1 1 1 1 1 1 1 ...\n",
      " $ low.fat.yogurt   : Factor w/ 67 levels \"\",\"asparagus\",..: 1 1 1 1 1 1 1 1 1 1 ...\n",
      " $ green.tea        : Factor w/ 51 levels \"\",\"blueberries\",..: 1 1 1 1 1 1 1 1 1 1 ...\n",
      " $ honey            : Factor w/ 43 levels \"\",\"asparagus\",..: 1 1 1 1 1 1 1 1 1 1 ...\n",
      " $ salad            : Factor w/ 29 levels \"\",\"babies food\",..: 1 1 1 1 1 1 1 1 1 1 ...\n",
      " $ mineral.water    : Factor w/ 19 levels \"\",\"candy bars\",..: 1 1 1 1 1 1 1 1 1 1 ...\n",
      " $ salmon           : Factor w/ 8 levels \"\",\"antioxydant juice\",..: 1 1 1 1 1 1 1 1 1 1 ...\n",
      " $ antioxydant.juice: Factor w/ 3 levels \"\",\"french fries\",..: 1 1 1 1 1 1 1 1 1 1 ...\n",
      " $ frozen.smoothie  : Factor w/ 3 levels \"\",\"protein bar\",..: 1 1 1 1 1 1 1 1 1 1 ...\n",
      " $ spinach          : Factor w/ 3 levels \"\",\"cereals\",\"mayonnaise\": 1 1 1 1 1 1 1 1 1 1 ...\n",
      " $ olive.oil        : logi  NA NA NA NA NA NA ...\n"
     ]
    }
   ],
   "source": [
    "# Look at the data structure of the dataset\n",
    "str(transaction)"
   ]
  },
  {
   "cell_type": "code",
   "execution_count": 149,
   "metadata": {
    "ExecuteTime": {
     "end_time": "2020-03-27T00:34:25.685040Z",
     "start_time": "2020-03-27T00:34:25.643Z"
    }
   },
   "outputs": [
    {
     "data": {
      "text/html": [
       "<dl class=dl-horizontal>\n",
       "\t<dt>shrimp</dt>\n",
       "\t\t<dd>0</dd>\n",
       "\t<dt>almonds</dt>\n",
       "\t\t<dd>0</dd>\n",
       "\t<dt>avocado</dt>\n",
       "\t\t<dd>0</dd>\n",
       "\t<dt>vegetables.mix</dt>\n",
       "\t\t<dd>0</dd>\n",
       "\t<dt>green.grapes</dt>\n",
       "\t\t<dd>0</dd>\n",
       "\t<dt>whole.weat.flour</dt>\n",
       "\t\t<dd>0</dd>\n",
       "\t<dt>yams</dt>\n",
       "\t\t<dd>0</dd>\n",
       "\t<dt>cottage.cheese</dt>\n",
       "\t\t<dd>0</dd>\n",
       "\t<dt>energy.drink</dt>\n",
       "\t\t<dd>0</dd>\n",
       "\t<dt>tomato.juice</dt>\n",
       "\t\t<dd>0</dd>\n",
       "\t<dt>low.fat.yogurt</dt>\n",
       "\t\t<dd>0</dd>\n",
       "\t<dt>green.tea</dt>\n",
       "\t\t<dd>0</dd>\n",
       "\t<dt>honey</dt>\n",
       "\t\t<dd>0</dd>\n",
       "\t<dt>salad</dt>\n",
       "\t\t<dd>0</dd>\n",
       "\t<dt>mineral.water</dt>\n",
       "\t\t<dd>0</dd>\n",
       "\t<dt>salmon</dt>\n",
       "\t\t<dd>0</dd>\n",
       "\t<dt>antioxydant.juice</dt>\n",
       "\t\t<dd>0</dd>\n",
       "\t<dt>frozen.smoothie</dt>\n",
       "\t\t<dd>0</dd>\n",
       "\t<dt>spinach</dt>\n",
       "\t\t<dd>0</dd>\n",
       "\t<dt>olive.oil</dt>\n",
       "\t\t<dd>7500</dd>\n",
       "</dl>\n"
      ],
      "text/latex": [
       "\\begin{description*}\n",
       "\\item[shrimp] 0\n",
       "\\item[almonds] 0\n",
       "\\item[avocado] 0\n",
       "\\item[vegetables.mix] 0\n",
       "\\item[green.grapes] 0\n",
       "\\item[whole.weat.flour] 0\n",
       "\\item[yams] 0\n",
       "\\item[cottage.cheese] 0\n",
       "\\item[energy.drink] 0\n",
       "\\item[tomato.juice] 0\n",
       "\\item[low.fat.yogurt] 0\n",
       "\\item[green.tea] 0\n",
       "\\item[honey] 0\n",
       "\\item[salad] 0\n",
       "\\item[mineral.water] 0\n",
       "\\item[salmon] 0\n",
       "\\item[antioxydant.juice] 0\n",
       "\\item[frozen.smoothie] 0\n",
       "\\item[spinach] 0\n",
       "\\item[olive.oil] 7500\n",
       "\\end{description*}\n"
      ],
      "text/markdown": [
       "shrimp\n",
       ":   0almonds\n",
       ":   0avocado\n",
       ":   0vegetables.mix\n",
       ":   0green.grapes\n",
       ":   0whole.weat.flour\n",
       ":   0yams\n",
       ":   0cottage.cheese\n",
       ":   0energy.drink\n",
       ":   0tomato.juice\n",
       ":   0low.fat.yogurt\n",
       ":   0green.tea\n",
       ":   0honey\n",
       ":   0salad\n",
       ":   0mineral.water\n",
       ":   0salmon\n",
       ":   0antioxydant.juice\n",
       ":   0frozen.smoothie\n",
       ":   0spinach\n",
       ":   0olive.oil\n",
       ":   7500\n",
       "\n"
      ],
      "text/plain": [
       "           shrimp           almonds           avocado    vegetables.mix \n",
       "                0                 0                 0                 0 \n",
       "     green.grapes  whole.weat.flour              yams    cottage.cheese \n",
       "                0                 0                 0                 0 \n",
       "     energy.drink      tomato.juice    low.fat.yogurt         green.tea \n",
       "                0                 0                 0                 0 \n",
       "            honey             salad     mineral.water            salmon \n",
       "                0                 0                 0                 0 \n",
       "antioxydant.juice   frozen.smoothie           spinach         olive.oil \n",
       "                0                 0                 0              7500 "
      ]
     },
     "metadata": {},
     "output_type": "display_data"
    }
   ],
   "source": [
    "# Check for null values per column in the dataset\n",
    "colSums(is.na(transaction))"
   ]
  },
  {
   "cell_type": "markdown",
   "metadata": {},
   "source": [
    "Olive.oil is the only item with no entries, we will have to drop it"
   ]
  },
  {
   "cell_type": "code",
   "execution_count": 150,
   "metadata": {
    "ExecuteTime": {
     "end_time": "2020-03-27T00:35:46.470563Z",
     "start_time": "2020-03-27T00:35:46.428Z"
    }
   },
   "outputs": [
    {
     "data": {
      "text/html": [
       "<ol class=list-inline>\n",
       "\t<li>'shrimp'</li>\n",
       "\t<li>'almonds'</li>\n",
       "\t<li>'avocado'</li>\n",
       "\t<li>'vegetables.mix'</li>\n",
       "\t<li>'green.grapes'</li>\n",
       "\t<li>'whole.weat.flour'</li>\n",
       "\t<li>'yams'</li>\n",
       "\t<li>'cottage.cheese'</li>\n",
       "\t<li>'energy.drink'</li>\n",
       "\t<li>'tomato.juice'</li>\n",
       "\t<li>'low.fat.yogurt'</li>\n",
       "\t<li>'green.tea'</li>\n",
       "\t<li>'honey'</li>\n",
       "\t<li>'salad'</li>\n",
       "\t<li>'mineral.water'</li>\n",
       "\t<li>'salmon'</li>\n",
       "\t<li>'antioxydant.juice'</li>\n",
       "\t<li>'frozen.smoothie'</li>\n",
       "\t<li>'spinach'</li>\n",
       "</ol>\n"
      ],
      "text/latex": [
       "\\begin{enumerate*}\n",
       "\\item 'shrimp'\n",
       "\\item 'almonds'\n",
       "\\item 'avocado'\n",
       "\\item 'vegetables.mix'\n",
       "\\item 'green.grapes'\n",
       "\\item 'whole.weat.flour'\n",
       "\\item 'yams'\n",
       "\\item 'cottage.cheese'\n",
       "\\item 'energy.drink'\n",
       "\\item 'tomato.juice'\n",
       "\\item 'low.fat.yogurt'\n",
       "\\item 'green.tea'\n",
       "\\item 'honey'\n",
       "\\item 'salad'\n",
       "\\item 'mineral.water'\n",
       "\\item 'salmon'\n",
       "\\item 'antioxydant.juice'\n",
       "\\item 'frozen.smoothie'\n",
       "\\item 'spinach'\n",
       "\\end{enumerate*}\n"
      ],
      "text/markdown": [
       "1. 'shrimp'\n",
       "2. 'almonds'\n",
       "3. 'avocado'\n",
       "4. 'vegetables.mix'\n",
       "5. 'green.grapes'\n",
       "6. 'whole.weat.flour'\n",
       "7. 'yams'\n",
       "8. 'cottage.cheese'\n",
       "9. 'energy.drink'\n",
       "10. 'tomato.juice'\n",
       "11. 'low.fat.yogurt'\n",
       "12. 'green.tea'\n",
       "13. 'honey'\n",
       "14. 'salad'\n",
       "15. 'mineral.water'\n",
       "16. 'salmon'\n",
       "17. 'antioxydant.juice'\n",
       "18. 'frozen.smoothie'\n",
       "19. 'spinach'\n",
       "\n",
       "\n"
      ],
      "text/plain": [
       " [1] \"shrimp\"            \"almonds\"           \"avocado\"          \n",
       " [4] \"vegetables.mix\"    \"green.grapes\"      \"whole.weat.flour\" \n",
       " [7] \"yams\"              \"cottage.cheese\"    \"energy.drink\"     \n",
       "[10] \"tomato.juice\"      \"low.fat.yogurt\"    \"green.tea\"        \n",
       "[13] \"honey\"             \"salad\"             \"mineral.water\"    \n",
       "[16] \"salmon\"            \"antioxydant.juice\" \"frozen.smoothie\"  \n",
       "[19] \"spinach\"          "
      ]
     },
     "metadata": {},
     "output_type": "display_data"
    }
   ],
   "source": [
    "# Drop olive oil column from the dataframe\n",
    "#\n",
    "transaction$olive.oil <- NULL\n",
    "colnames(transaction)"
   ]
  },
  {
   "cell_type": "code",
   "execution_count": 108,
   "metadata": {
    "ExecuteTime": {
     "end_time": "2020-03-27T00:07:32.301912Z",
     "start_time": "2020-03-27T00:07:32.097Z"
    }
   },
   "outputs": [
    {
     "data": {
      "image/png": "[encoded data removed]",
      "text/plain": [
       "plot without title"
      ]
     },
     "metadata": {},
     "output_type": "display_data"
    }
   ],
   "source": [
    "# Plot a frequency plot to see what items topped the list with more purchases\n",
    "Plot_data <- as(transactions\", \"transactions\")\n",
    "# plot item frequency\n",
    "itemFrequencyPlot(Plot_data,topN=20,type=\"absolute\", col=\"darkgreen\")"
   ]
  },
  {
   "cell_type": "markdown",
   "metadata": {},
   "source": [
    "We observe sales of over 7000 for a couple of items such as Spinach,antioxydant juice, frozen smoothie, salmon, mineral water, salad,honey and green tea respectively. Shrimp mineral water and shrimp burgers were at the bottom of the list regarding the sales."
   ]
  },
  {
   "cell_type": "code",
   "execution_count": 109,
   "metadata": {
    "ExecuteTime": {
     "end_time": "2020-03-27T00:08:16.461037Z",
     "start_time": "2020-03-27T00:08:14.467Z"
    }
   },
   "outputs": [
    {
     "name": "stdout",
     "output_type": "stream",
     "text": [
      "Apriori\n",
      "\n",
      "Parameter specification:\n",
      " confidence minval smax arem  aval originalSupport maxtime support minlen\n",
      "        0.8    0.1    1 none FALSE            TRUE       5     0.5      2\n",
      " maxlen target   ext\n",
      "     10  rules FALSE\n",
      "\n",
      "Algorithmic control:\n",
      " filter tree heap memopt load sort verbose\n",
      "    0.1 TRUE TRUE  FALSE TRUE    2    TRUE\n",
      "\n",
      "Absolute minimum support count: 3750 \n",
      "\n",
      "set item appearances ...[0 item(s)] done [0.00s].\n",
      "set transactions ...[1280 item(s), 7500 transaction(s)] done [0.06s].\n",
      "sorting and recoding items ... [16 item(s)] done [0.00s].\n",
      "creating transaction tree ... done [0.00s].\n",
      "checking subsets of size 1 2 3 4 5 6 7 8 9 10"
     ]
    },
    {
     "name": "stderr",
     "output_type": "stream",
     "text": [
      "Warning message in apriori(Rules_df, parameter = list(supp = 0.5, conf = 0.8, target = \"rules\", :\n",
      "\"Mining stopped (maxlen reached). Only patterns up to a length of 10 returned!\""
     ]
    },
    {
     "name": "stdout",
     "output_type": "stream",
     "text": [
      " done [0.03s].\n",
      "writing ... [425218 rule(s)] done [0.17s].\n",
      "creating S4 object  ... done [0.49s].\n"
     ]
    }
   ],
   "source": [
    "# Build a model based on association rules using the apriori function \n",
    "# We use Min Support as 0.001 and confidence as 0.8\n",
    "# \n",
    "rules <- apriori(Rules_df, parameter = list(supp = 0.5, conf = 0.8, target = \"rules\",minlen=2))"
   ]
  },
  {
   "cell_type": "code",
   "execution_count": 110,
   "metadata": {
    "ExecuteTime": {
     "end_time": "2020-03-27T00:08:28.904224Z",
     "start_time": "2020-03-27T00:08:28.844Z"
    }
   },
   "outputs": [
    {
     "name": "stdout",
     "output_type": "stream",
     "text": [
      "     lhs                  rhs                 support   confidence lift    \n",
      "[1]  {vegetables.mix=} => {green.grapes=}     0.5541333 1.0000000  1.508447\n",
      "[2]  {green.grapes=}   => {vegetables.mix=}   0.5541333 0.8358809  1.508447\n",
      "[3]  {vegetables.mix=} => {whole.weat.flour=} 0.5541333 1.0000000  1.330495\n",
      "[4]  {vegetables.mix=} => {yams=}             0.5541333 1.0000000  1.223092\n",
      "[5]  {vegetables.mix=} => {cottage.cheese=}   0.5541333 1.0000000  1.150307\n",
      "[6]  {vegetables.mix=} => {energy.drink=}     0.5541333 1.0000000  1.095370\n",
      "[7]  {vegetables.mix=} => {tomato.juice=}     0.5541333 1.0000000  1.055446\n",
      "[8]  {vegetables.mix=} => {low.fat.yogurt=}   0.5541333 1.0000000  1.035197\n",
      "[9]  {vegetables.mix=} => {green.tea=}        0.5541333 1.0000000  1.020825\n",
      "[10] {vegetables.mix=} => {honey=}            0.5541333 1.0000000  1.011600\n",
      "     count\n",
      "[1]  4156 \n",
      "[2]  4156 \n",
      "[3]  4156 \n",
      "[4]  4156 \n",
      "[5]  4156 \n",
      "[6]  4156 \n",
      "[7]  4156 \n",
      "[8]  4156 \n",
      "[9]  4156 \n",
      "[10] 4156 \n"
     ]
    }
   ],
   "source": [
    "# Observing rules built in our model i.e. first 10 model rules\n",
    "# \n",
    "inspect(rules[1:10])"
   ]
  },
  {
   "cell_type": "markdown",
   "metadata": {},
   "source": [
    "### Interpretation of the above results"
   ]
  },
  {
   "cell_type": "markdown",
   "metadata": {
    "ExecuteTime": {
     "end_time": "2020-03-27T00:09:34.134346Z",
     "start_time": "2020-03-27T00:09:34.086Z"
    }
   },
   "source": [
    "If a customer gets green.grapes, the possibility of picking vegetable mix is 84% A customer who picks green.grapes, energy drink is 83% more likely to pick vegetable mix"
   ]
  },
  {
   "cell_type": "code",
   "execution_count": 112,
   "metadata": {
    "ExecuteTime": {
     "end_time": "2020-03-27T00:09:53.139088Z",
     "start_time": "2020-03-27T00:09:52.171Z"
    }
   },
   "outputs": [
    {
     "name": "stdout",
     "output_type": "stream",
     "text": [
      "     lhs                  rhs                 support   confidence lift    \n",
      "[1]  {vegetables.mix=} => {green.grapes=}     0.5541333 1          1.508447\n",
      "[2]  {vegetables.mix=} => {whole.weat.flour=} 0.5541333 1          1.330495\n",
      "[3]  {vegetables.mix=} => {yams=}             0.5541333 1          1.223092\n",
      "[4]  {vegetables.mix=} => {cottage.cheese=}   0.5541333 1          1.150307\n",
      "[5]  {vegetables.mix=} => {energy.drink=}     0.5541333 1          1.095370\n",
      "[6]  {vegetables.mix=} => {tomato.juice=}     0.5541333 1          1.055446\n",
      "[7]  {vegetables.mix=} => {low.fat.yogurt=}   0.5541333 1          1.035197\n",
      "[8]  {vegetables.mix=} => {green.tea=}        0.5541333 1          1.020825\n",
      "[9]  {vegetables.mix=} => {honey=}            0.5541333 1          1.011600\n",
      "[10] {vegetables.mix=} => {salad=}            0.5541333 1          1.006171\n",
      "     count\n",
      "[1]  4156 \n",
      "[2]  4156 \n",
      "[3]  4156 \n",
      "[4]  4156 \n",
      "[5]  4156 \n",
      "[6]  4156 \n",
      "[7]  4156 \n",
      "[8]  4156 \n",
      "[9]  4156 \n",
      "[10] 4156 \n"
     ]
    }
   ],
   "source": [
    "# We can order the rules by either confidence or support then view top 10 rules again\n",
    "rules<-sort(rules, by=\"confidence\", decreasing=TRUE)\n",
    "inspect(rules[1:10])"
   ]
  },
  {
   "cell_type": "markdown",
   "metadata": {},
   "source": [
    "There’s is 100% confidence that if a customer get vegetable.mix, he is likely to get green.grapes"
   ]
  },
  {
   "cell_type": "markdown",
   "metadata": {},
   "source": [
    "# Anomaly Detection"
   ]
  },
  {
   "cell_type": "code",
   "execution_count": 118,
   "metadata": {
    "ExecuteTime": {
     "end_time": "2020-03-27T00:16:49.428691Z",
     "start_time": "2020-03-27T00:14:18.589Z"
    }
   },
   "outputs": [
    {
     "name": "stderr",
     "output_type": "stream",
     "text": [
      "Warning message:\n",
      "\"package 'anomalize' is in use and will not be installed\"also installing the dependencies 'zip', 'SparseM', 'MatrixModels', 'sp', 'openxlsx', 'minqa', 'nloptr', 'RcppEigen', 'carData', 'pbkrtest', 'quantreg', 'maptools', 'rio', 'lme4', 'viridis', 'car', 'ellipse', 'flashClust', 'leaps', 'scatterplot3d', 'ggsci', 'cowplot', 'ggsignif', 'gridExtra', 'polynom', 'abind', 'dendextend', 'FactoMineR', 'ggpubr', 'ggrepel'\n",
      "\n"
     ]
    },
    {
     "name": "stdout",
     "output_type": "stream",
     "text": [
      "package 'zip' successfully unpacked and MD5 sums checked\n",
      "package 'SparseM' successfully unpacked and MD5 sums checked\n",
      "package 'MatrixModels' successfully unpacked and MD5 sums checked\n",
      "package 'sp' successfully unpacked and MD5 sums checked\n",
      "package 'openxlsx' successfully unpacked and MD5 sums checked\n",
      "package 'minqa' successfully unpacked and MD5 sums checked\n",
      "package 'nloptr' successfully unpacked and MD5 sums checked\n",
      "package 'RcppEigen' successfully unpacked and MD5 sums checked\n",
      "package 'carData' successfully unpacked and MD5 sums checked\n",
      "package 'pbkrtest' successfully unpacked and MD5 sums checked\n",
      "package 'quantreg' successfully unpacked and MD5 sums checked\n",
      "package 'maptools' successfully unpacked and MD5 sums checked\n",
      "package 'rio' successfully unpacked and MD5 sums checked\n",
      "package 'lme4' successfully unpacked and MD5 sums checked\n",
      "package 'viridis' successfully unpacked and MD5 sums checked\n",
      "package 'car' successfully unpacked and MD5 sums checked\n",
      "package 'ellipse' successfully unpacked and MD5 sums checked\n",
      "package 'flashClust' successfully unpacked and MD5 sums checked\n",
      "package 'leaps' successfully unpacked and MD5 sums checked\n",
      "package 'scatterplot3d' successfully unpacked and MD5 sums checked\n",
      "package 'ggsci' successfully unpacked and MD5 sums checked\n",
      "package 'cowplot' successfully unpacked and MD5 sums checked\n",
      "package 'ggsignif' successfully unpacked and MD5 sums checked\n",
      "package 'gridExtra' successfully unpacked and MD5 sums checked\n",
      "package 'polynom' successfully unpacked and MD5 sums checked\n",
      "package 'abind' successfully unpacked and MD5 sums checked\n",
      "package 'dendextend' successfully unpacked and MD5 sums checked\n",
      "package 'FactoMineR' successfully unpacked and MD5 sums checked\n",
      "package 'ggpubr' successfully unpacked and MD5 sums checked\n",
      "package 'ggrepel' successfully unpacked and MD5 sums checked\n",
      "package 'factoextra' successfully unpacked and MD5 sums checked\n",
      "\n",
      "The downloaded binary packages are in\n",
      "\tC:\\Users\\I\\AppData\\Local\\Temp\\RtmpqYY6AQ\\downloaded_packages\n"
     ]
    },
    {
     "name": "stderr",
     "output_type": "stream",
     "text": [
      "Warning message:\n",
      "\"package 'factoextra' was built under R version 3.6.3\"Welcome! Want to learn more? See two factoextra-related books at https://goo.gl/ve3WBa\n"
     ]
    }
   ],
   "source": [
    "install.packages(\"anomalize\") \n",
    "library(anomalize)\n",
    "\n",
    "install.packages(\"factoextra\")\n",
    "library(factoextra)"
   ]
  },
  {
   "cell_type": "code",
   "execution_count": 126,
   "metadata": {
    "ExecuteTime": {
     "end_time": "2020-03-27T00:22:18.541967Z",
     "start_time": "2020-03-27T00:22:04.035Z"
    }
   },
   "outputs": [
    {
     "name": "stderr",
     "output_type": "stream",
     "text": [
      "also installing the dependencies 'dplyr', 'rlang', 'tibble'\n",
      "\n",
      "Warning message:\n",
      "\"packages 'dplyr', 'tibble' are in use and will not be installed\""
     ]
    },
    {
     "name": "stdout",
     "output_type": "stream",
     "text": [
      "package 'rlang' successfully unpacked and MD5 sums checked\n"
     ]
    },
    {
     "name": "stderr",
     "output_type": "stream",
     "text": [
      "Warning message:\n",
      "\"cannot remove prior installation of package 'rlang'\"Warning message in file.copy(savedcopy, lib, recursive = TRUE):\n",
      "\"problem copying C:\\Users\\I\\Anaconda3\\envs\\r\\Lib\\R\\library\\00LOCK\\rlang\\libs\\x64\\rlang.dll to C:\\Users\\I\\Anaconda3\\envs\\r\\Lib\\R\\library\\rlang\\libs\\x64\\rlang.dll: Permission denied\"Warning message:\n",
      "\"restored 'rlang'\""
     ]
    },
    {
     "name": "stdout",
     "output_type": "stream",
     "text": [
      "package 'tidyverse' successfully unpacked and MD5 sums checked\n",
      "\n",
      "The downloaded binary packages are in\n",
      "\tC:\\Users\\I\\AppData\\Local\\Temp\\RtmpqYY6AQ\\downloaded_packages\n"
     ]
    },
    {
     "name": "stderr",
     "output_type": "stream",
     "text": [
      "Warning message:\n",
      "\"package 'tidyverse' was built under R version 3.6.3\""
     ]
    },
    {
     "ename": "ERROR",
     "evalue": "Error: package or namespace load failed for 'tidyverse' in loadNamespace(i, c(lib.loc, .libPaths()), versionCheck = vI[[i]]):\n namespace 'rlang' 0.3.4 is already loaded, but >= 0.4.2 is required\n",
     "output_type": "error",
     "traceback": [
      "Error: package or namespace load failed for 'tidyverse' in loadNamespace(i, c(lib.loc, .libPaths()), versionCheck = vI[[i]]):\n namespace 'rlang' 0.3.4 is already loaded, but >= 0.4.2 is required\nTraceback:\n",
      "1. library(tidyverse)",
      "2. tryCatch({\n .     attr(package, \"LibPath\") <- which.lib.loc\n .     ns <- loadNamespace(package, lib.loc)\n .     env <- attachNamespace(ns, pos = pos, deps, exclude, include.only)\n . }, error = function(e) {\n .     P <- if (!is.null(cc <- conditionCall(e))) \n .         paste(\" in\", deparse(cc)[1L])\n .     else \"\"\n .     msg <- gettextf(\"package or namespace load failed for %s%s:\\n %s\", \n .         sQuote(package), P, conditionMessage(e))\n .     if (logical.return) \n .         message(paste(\"Error:\", msg), domain = NA)\n .     else stop(msg, call. = FALSE, domain = NA)\n . })",
      "3. tryCatchList(expr, classes, parentenv, handlers)",
      "4. tryCatchOne(expr, names, parentenv, handlers[[1L]])",
      "5. value[[3L]](cond)",
      "6. stop(msg, call. = FALSE, domain = NA)"
     ]
    }
   ],
   "source": [
    "install.packages(\"tidyverse\")\n",
    "library(tidyverse)"
   ]
  },
  {
   "cell_type": "code",
   "execution_count": 131,
   "metadata": {
    "ExecuteTime": {
     "end_time": "2020-03-27T00:23:57.602190Z",
     "start_time": "2020-03-27T00:23:57.379Z"
    }
   },
   "outputs": [
    {
     "data": {
      "text/html": [
       "<table>\n",
       "<thead><tr><th scope=col>date</th><th scope=col>count</th><th scope=col>package</th></tr></thead>\n",
       "<tbody>\n",
       "\t<tr><td>2017-01-01</td><td> 873      </td><td>tidyr     </td></tr>\n",
       "\t<tr><td>2017-01-02</td><td>1840      </td><td>tidyr     </td></tr>\n",
       "\t<tr><td>2017-01-03</td><td>2495      </td><td>tidyr     </td></tr>\n",
       "\t<tr><td>2017-01-04</td><td>2906      </td><td>tidyr     </td></tr>\n",
       "\t<tr><td>2017-01-05</td><td>2847      </td><td>tidyr     </td></tr>\n",
       "\t<tr><td>2017-01-06</td><td>2756      </td><td>tidyr     </td></tr>\n",
       "\t<tr><td>2017-01-07</td><td>1439      </td><td>tidyr     </td></tr>\n",
       "\t<tr><td>2017-01-08</td><td>1556      </td><td>tidyr     </td></tr>\n",
       "\t<tr><td>2017-01-09</td><td>3678      </td><td>tidyr     </td></tr>\n",
       "\t<tr><td>2017-01-10</td><td>7086      </td><td>tidyr     </td></tr>\n",
       "\t<tr><td>2017-01-11</td><td>7219      </td><td>tidyr     </td></tr>\n",
       "\t<tr><td>2017-01-12</td><td>   0      </td><td>tidyr     </td></tr>\n",
       "\t<tr><td>2017-01-13</td><td>5960      </td><td>tidyr     </td></tr>\n",
       "\t<tr><td>2017-01-14</td><td>2904      </td><td>tidyr     </td></tr>\n",
       "\t<tr><td>2017-01-15</td><td>2854      </td><td>tidyr     </td></tr>\n",
       "\t<tr><td>2017-01-16</td><td>5428      </td><td>tidyr     </td></tr>\n",
       "\t<tr><td>2017-01-17</td><td>6358      </td><td>tidyr     </td></tr>\n",
       "\t<tr><td>2017-01-18</td><td>6973      </td><td>tidyr     </td></tr>\n",
       "\t<tr><td>2017-01-19</td><td>6615      </td><td>tidyr     </td></tr>\n",
       "\t<tr><td>2017-01-20</td><td>5575      </td><td>tidyr     </td></tr>\n",
       "\t<tr><td>2017-01-21</td><td>2450      </td><td>tidyr     </td></tr>\n",
       "\t<tr><td>2017-01-22</td><td>2432      </td><td>tidyr     </td></tr>\n",
       "\t<tr><td>2017-01-23</td><td>5588      </td><td>tidyr     </td></tr>\n",
       "\t<tr><td>2017-01-24</td><td>6030      </td><td>tidyr     </td></tr>\n",
       "\t<tr><td>2017-01-25</td><td>6083      </td><td>tidyr     </td></tr>\n",
       "\t<tr><td>2017-01-26</td><td>6159      </td><td>tidyr     </td></tr>\n",
       "\t<tr><td>2017-01-27</td><td>5130      </td><td>tidyr     </td></tr>\n",
       "\t<tr><td>2017-01-28</td><td>2549      </td><td>tidyr     </td></tr>\n",
       "\t<tr><td>2017-01-29</td><td>2650      </td><td>tidyr     </td></tr>\n",
       "\t<tr><td>2017-01-30</td><td>5715      </td><td>tidyr     </td></tr>\n",
       "\t<tr><td>...</td><td>...</td><td>...</td></tr>\n",
       "\t<tr><td>2018-01-31</td><td>5320      </td><td>tidyverse </td></tr>\n",
       "\t<tr><td>2018-02-01</td><td>5375      </td><td>tidyverse </td></tr>\n",
       "\t<tr><td>2018-02-02</td><td>4169      </td><td>tidyverse </td></tr>\n",
       "\t<tr><td>2018-02-03</td><td>2130      </td><td>tidyverse </td></tr>\n",
       "\t<tr><td>2018-02-04</td><td>2212      </td><td>tidyverse </td></tr>\n",
       "\t<tr><td>2018-02-05</td><td>4919      </td><td>tidyverse </td></tr>\n",
       "\t<tr><td>2018-02-06</td><td>5438      </td><td>tidyverse </td></tr>\n",
       "\t<tr><td>2018-02-07</td><td>5134      </td><td>tidyverse </td></tr>\n",
       "\t<tr><td>2018-02-08</td><td>5033      </td><td>tidyverse </td></tr>\n",
       "\t<tr><td>2018-02-09</td><td>   0      </td><td>tidyverse </td></tr>\n",
       "\t<tr><td>2018-02-10</td><td>   0      </td><td>tidyverse </td></tr>\n",
       "\t<tr><td>2018-02-11</td><td>3031      </td><td>tidyverse </td></tr>\n",
       "\t<tr><td>2018-02-12</td><td>4987      </td><td>tidyverse </td></tr>\n",
       "\t<tr><td>2018-02-13</td><td>4617      </td><td>tidyverse </td></tr>\n",
       "\t<tr><td>2018-02-14</td><td>4919      </td><td>tidyverse </td></tr>\n",
       "\t<tr><td>2018-02-15</td><td>4570      </td><td>tidyverse </td></tr>\n",
       "\t<tr><td>2018-02-16</td><td>4394      </td><td>tidyverse </td></tr>\n",
       "\t<tr><td>2018-02-17</td><td>1777      </td><td>tidyverse </td></tr>\n",
       "\t<tr><td>2018-02-18</td><td>2687      </td><td>tidyverse </td></tr>\n",
       "\t<tr><td>2018-02-19</td><td>3990      </td><td>tidyverse </td></tr>\n",
       "\t<tr><td>2018-02-20</td><td>4540      </td><td>tidyverse </td></tr>\n",
       "\t<tr><td>2018-02-21</td><td>5282      </td><td>tidyverse </td></tr>\n",
       "\t<tr><td>2018-02-22</td><td>4672      </td><td>tidyverse </td></tr>\n",
       "\t<tr><td>2018-02-23</td><td>   0      </td><td>tidyverse </td></tr>\n",
       "\t<tr><td>2018-02-24</td><td>   0      </td><td>tidyverse </td></tr>\n",
       "\t<tr><td>2018-02-25</td><td>1950      </td><td>tidyverse </td></tr>\n",
       "\t<tr><td>2018-02-26</td><td>4961      </td><td>tidyverse </td></tr>\n",
       "\t<tr><td>2018-02-27</td><td>4634      </td><td>tidyverse </td></tr>\n",
       "\t<tr><td>2018-02-28</td><td>4887      </td><td>tidyverse </td></tr>\n",
       "\t<tr><td>2018-03-01</td><td>4975      </td><td>tidyverse </td></tr>\n",
       "</tbody>\n",
       "</table>\n"
      ],
      "text/latex": [
       "\\begin{tabular}{r|lll}\n",
       " date & count & package\\\\\n",
       "\\hline\n",
       "\t 2017-01-01 &  873       & tidyr     \\\\\n",
       "\t 2017-01-02 & 1840       & tidyr     \\\\\n",
       "\t 2017-01-03 & 2495       & tidyr     \\\\\n",
       "\t 2017-01-04 & 2906       & tidyr     \\\\\n",
       "\t 2017-01-05 & 2847       & tidyr     \\\\\n",
       "\t 2017-01-06 & 2756       & tidyr     \\\\\n",
       "\t 2017-01-07 & 1439       & tidyr     \\\\\n",
       "\t 2017-01-08 & 1556       & tidyr     \\\\\n",
       "\t 2017-01-09 & 3678       & tidyr     \\\\\n",
       "\t 2017-01-10 & 7086       & tidyr     \\\\\n",
       "\t 2017-01-11 & 7219       & tidyr     \\\\\n",
       "\t 2017-01-12 &    0       & tidyr     \\\\\n",
       "\t 2017-01-13 & 5960       & tidyr     \\\\\n",
       "\t 2017-01-14 & 2904       & tidyr     \\\\\n",
       "\t 2017-01-15 & 2854       & tidyr     \\\\\n",
       "\t 2017-01-16 & 5428       & tidyr     \\\\\n",
       "\t 2017-01-17 & 6358       & tidyr     \\\\\n",
       "\t 2017-01-18 & 6973       & tidyr     \\\\\n",
       "\t 2017-01-19 & 6615       & tidyr     \\\\\n",
       "\t 2017-01-20 & 5575       & tidyr     \\\\\n",
       "\t 2017-01-21 & 2450       & tidyr     \\\\\n",
       "\t 2017-01-22 & 2432       & tidyr     \\\\\n",
       "\t 2017-01-23 & 5588       & tidyr     \\\\\n",
       "\t 2017-01-24 & 6030       & tidyr     \\\\\n",
       "\t 2017-01-25 & 6083       & tidyr     \\\\\n",
       "\t 2017-01-26 & 6159       & tidyr     \\\\\n",
       "\t 2017-01-27 & 5130       & tidyr     \\\\\n",
       "\t 2017-01-28 & 2549       & tidyr     \\\\\n",
       "\t 2017-01-29 & 2650       & tidyr     \\\\\n",
       "\t 2017-01-30 & 5715       & tidyr     \\\\\n",
       "\t ... & ... & ...\\\\\n",
       "\t 2018-01-31 & 5320       & tidyverse \\\\\n",
       "\t 2018-02-01 & 5375       & tidyverse \\\\\n",
       "\t 2018-02-02 & 4169       & tidyverse \\\\\n",
       "\t 2018-02-03 & 2130       & tidyverse \\\\\n",
       "\t 2018-02-04 & 2212       & tidyverse \\\\\n",
       "\t 2018-02-05 & 4919       & tidyverse \\\\\n",
       "\t 2018-02-06 & 5438       & tidyverse \\\\\n",
       "\t 2018-02-07 & 5134       & tidyverse \\\\\n",
       "\t 2018-02-08 & 5033       & tidyverse \\\\\n",
       "\t 2018-02-09 &    0       & tidyverse \\\\\n",
       "\t 2018-02-10 &    0       & tidyverse \\\\\n",
       "\t 2018-02-11 & 3031       & tidyverse \\\\\n",
       "\t 2018-02-12 & 4987       & tidyverse \\\\\n",
       "\t 2018-02-13 & 4617       & tidyverse \\\\\n",
       "\t 2018-02-14 & 4919       & tidyverse \\\\\n",
       "\t 2018-02-15 & 4570       & tidyverse \\\\\n",
       "\t 2018-02-16 & 4394       & tidyverse \\\\\n",
       "\t 2018-02-17 & 1777       & tidyverse \\\\\n",
       "\t 2018-02-18 & 2687       & tidyverse \\\\\n",
       "\t 2018-02-19 & 3990       & tidyverse \\\\\n",
       "\t 2018-02-20 & 4540       & tidyverse \\\\\n",
       "\t 2018-02-21 & 5282       & tidyverse \\\\\n",
       "\t 2018-02-22 & 4672       & tidyverse \\\\\n",
       "\t 2018-02-23 &    0       & tidyverse \\\\\n",
       "\t 2018-02-24 &    0       & tidyverse \\\\\n",
       "\t 2018-02-25 & 1950       & tidyverse \\\\\n",
       "\t 2018-02-26 & 4961       & tidyverse \\\\\n",
       "\t 2018-02-27 & 4634       & tidyverse \\\\\n",
       "\t 2018-02-28 & 4887       & tidyverse \\\\\n",
       "\t 2018-03-01 & 4975       & tidyverse \\\\\n",
       "\\end{tabular}\n"
      ],
      "text/markdown": [
       "\n",
       "| date | count | package |\n",
       "|---|---|---|\n",
       "| 2017-01-01 |  873       | tidyr      |\n",
       "| 2017-01-02 | 1840       | tidyr      |\n",
       "| 2017-01-03 | 2495       | tidyr      |\n",
       "| 2017-01-04 | 2906       | tidyr      |\n",
       "| 2017-01-05 | 2847       | tidyr      |\n",
       "| 2017-01-06 | 2756       | tidyr      |\n",
       "| 2017-01-07 | 1439       | tidyr      |\n",
       "| 2017-01-08 | 1556       | tidyr      |\n",
       "| 2017-01-09 | 3678       | tidyr      |\n",
       "| 2017-01-10 | 7086       | tidyr      |\n",
       "| 2017-01-11 | 7219       | tidyr      |\n",
       "| 2017-01-12 |    0       | tidyr      |\n",
       "| 2017-01-13 | 5960       | tidyr      |\n",
       "| 2017-01-14 | 2904       | tidyr      |\n",
       "| 2017-01-15 | 2854       | tidyr      |\n",
       "| 2017-01-16 | 5428       | tidyr      |\n",
       "| 2017-01-17 | 6358       | tidyr      |\n",
       "| 2017-01-18 | 6973       | tidyr      |\n",
       "| 2017-01-19 | 6615       | tidyr      |\n",
       "| 2017-01-20 | 5575       | tidyr      |\n",
       "| 2017-01-21 | 2450       | tidyr      |\n",
       "| 2017-01-22 | 2432       | tidyr      |\n",
       "| 2017-01-23 | 5588       | tidyr      |\n",
       "| 2017-01-24 | 6030       | tidyr      |\n",
       "| 2017-01-25 | 6083       | tidyr      |\n",
       "| 2017-01-26 | 6159       | tidyr      |\n",
       "| 2017-01-27 | 5130       | tidyr      |\n",
       "| 2017-01-28 | 2549       | tidyr      |\n",
       "| 2017-01-29 | 2650       | tidyr      |\n",
       "| 2017-01-30 | 5715       | tidyr      |\n",
       "| ... | ... | ... |\n",
       "| 2018-01-31 | 5320       | tidyverse  |\n",
       "| 2018-02-01 | 5375       | tidyverse  |\n",
       "| 2018-02-02 | 4169       | tidyverse  |\n",
       "| 2018-02-03 | 2130       | tidyverse  |\n",
       "| 2018-02-04 | 2212       | tidyverse  |\n",
       "| 2018-02-05 | 4919       | tidyverse  |\n",
       "| 2018-02-06 | 5438       | tidyverse  |\n",
       "| 2018-02-07 | 5134       | tidyverse  |\n",
       "| 2018-02-08 | 5033       | tidyverse  |\n",
       "| 2018-02-09 |    0       | tidyverse  |\n",
       "| 2018-02-10 |    0       | tidyverse  |\n",
       "| 2018-02-11 | 3031       | tidyverse  |\n",
       "| 2018-02-12 | 4987       | tidyverse  |\n",
       "| 2018-02-13 | 4617       | tidyverse  |\n",
       "| 2018-02-14 | 4919       | tidyverse  |\n",
       "| 2018-02-15 | 4570       | tidyverse  |\n",
       "| 2018-02-16 | 4394       | tidyverse  |\n",
       "| 2018-02-17 | 1777       | tidyverse  |\n",
       "| 2018-02-18 | 2687       | tidyverse  |\n",
       "| 2018-02-19 | 3990       | tidyverse  |\n",
       "| 2018-02-20 | 4540       | tidyverse  |\n",
       "| 2018-02-21 | 5282       | tidyverse  |\n",
       "| 2018-02-22 | 4672       | tidyverse  |\n",
       "| 2018-02-23 |    0       | tidyverse  |\n",
       "| 2018-02-24 |    0       | tidyverse  |\n",
       "| 2018-02-25 | 1950       | tidyverse  |\n",
       "| 2018-02-26 | 4961       | tidyverse  |\n",
       "| 2018-02-27 | 4634       | tidyverse  |\n",
       "| 2018-02-28 | 4887       | tidyverse  |\n",
       "| 2018-03-01 | 4975       | tidyverse  |\n",
       "\n"
      ],
      "text/plain": [
       "     date       count package  \n",
       "1    2017-01-01  873  tidyr    \n",
       "2    2017-01-02 1840  tidyr    \n",
       "3    2017-01-03 2495  tidyr    \n",
       "4    2017-01-04 2906  tidyr    \n",
       "5    2017-01-05 2847  tidyr    \n",
       "6    2017-01-06 2756  tidyr    \n",
       "7    2017-01-07 1439  tidyr    \n",
       "8    2017-01-08 1556  tidyr    \n",
       "9    2017-01-09 3678  tidyr    \n",
       "10   2017-01-10 7086  tidyr    \n",
       "11   2017-01-11 7219  tidyr    \n",
       "12   2017-01-12    0  tidyr    \n",
       "13   2017-01-13 5960  tidyr    \n",
       "14   2017-01-14 2904  tidyr    \n",
       "15   2017-01-15 2854  tidyr    \n",
       "16   2017-01-16 5428  tidyr    \n",
       "17   2017-01-17 6358  tidyr    \n",
       "18   2017-01-18 6973  tidyr    \n",
       "19   2017-01-19 6615  tidyr    \n",
       "20   2017-01-20 5575  tidyr    \n",
       "21   2017-01-21 2450  tidyr    \n",
       "22   2017-01-22 2432  tidyr    \n",
       "23   2017-01-23 5588  tidyr    \n",
       "24   2017-01-24 6030  tidyr    \n",
       "25   2017-01-25 6083  tidyr    \n",
       "26   2017-01-26 6159  tidyr    \n",
       "27   2017-01-27 5130  tidyr    \n",
       "28   2017-01-28 2549  tidyr    \n",
       "29   2017-01-29 2650  tidyr    \n",
       "30   2017-01-30 5715  tidyr    \n",
       "...  ...        ...   ...      \n",
       "6346 2018-01-31 5320  tidyverse\n",
       "6347 2018-02-01 5375  tidyverse\n",
       "6348 2018-02-02 4169  tidyverse\n",
       "6349 2018-02-03 2130  tidyverse\n",
       "6350 2018-02-04 2212  tidyverse\n",
       "6351 2018-02-05 4919  tidyverse\n",
       "6352 2018-02-06 5438  tidyverse\n",
       "6353 2018-02-07 5134  tidyverse\n",
       "6354 2018-02-08 5033  tidyverse\n",
       "6355 2018-02-09    0  tidyverse\n",
       "6356 2018-02-10    0  tidyverse\n",
       "6357 2018-02-11 3031  tidyverse\n",
       "6358 2018-02-12 4987  tidyverse\n",
       "6359 2018-02-13 4617  tidyverse\n",
       "6360 2018-02-14 4919  tidyverse\n",
       "6361 2018-02-15 4570  tidyverse\n",
       "6362 2018-02-16 4394  tidyverse\n",
       "6363 2018-02-17 1777  tidyverse\n",
       "6364 2018-02-18 2687  tidyverse\n",
       "6365 2018-02-19 3990  tidyverse\n",
       "6366 2018-02-20 4540  tidyverse\n",
       "6367 2018-02-21 5282  tidyverse\n",
       "6368 2018-02-22 4672  tidyverse\n",
       "6369 2018-02-23    0  tidyverse\n",
       "6370 2018-02-24    0  tidyverse\n",
       "6371 2018-02-25 1950  tidyverse\n",
       "6372 2018-02-26 4961  tidyverse\n",
       "6373 2018-02-27 4634  tidyverse\n",
       "6374 2018-02-28 4887  tidyverse\n",
       "6375 2018-03-01 4975  tidyverse"
      ]
     },
     "metadata": {},
     "output_type": "display_data"
    }
   ],
   "source": [
    "# Collect our time series data\n",
    "# ---\n",
    "# \n",
    "tidyverse_cran_downloads"
   ]
  },
  {
   "cell_type": "code",
   "execution_count": 132,
   "metadata": {
    "ExecuteTime": {
     "end_time": "2020-03-27T00:24:08.558095Z",
     "start_time": "2020-03-27T00:24:08.494Z"
    }
   },
   "outputs": [
    {
     "data": {
      "text/html": [
       "<table>\n",
       "<thead><tr><th scope=col>Date</th><th scope=col>Sales</th></tr></thead>\n",
       "<tbody>\n",
       "\t<tr><td>1/5/2019 </td><td>548.9715 </td></tr>\n",
       "\t<tr><td>3/8/2019 </td><td> 80.2200 </td></tr>\n",
       "\t<tr><td>3/3/2019 </td><td>340.5255 </td></tr>\n",
       "\t<tr><td>1/27/2019</td><td>489.0480 </td></tr>\n",
       "\t<tr><td>2/8/2019 </td><td>634.3785 </td></tr>\n",
       "\t<tr><td>3/25/2019</td><td>627.6165 </td></tr>\n",
       "</tbody>\n",
       "</table>\n"
      ],
      "text/latex": [
       "\\begin{tabular}{r|ll}\n",
       " Date & Sales\\\\\n",
       "\\hline\n",
       "\t 1/5/2019  & 548.9715 \\\\\n",
       "\t 3/8/2019  &  80.2200 \\\\\n",
       "\t 3/3/2019  & 340.5255 \\\\\n",
       "\t 1/27/2019 & 489.0480 \\\\\n",
       "\t 2/8/2019  & 634.3785 \\\\\n",
       "\t 3/25/2019 & 627.6165 \\\\\n",
       "\\end{tabular}\n"
      ],
      "text/markdown": [
       "\n",
       "| Date | Sales |\n",
       "|---|---|\n",
       "| 1/5/2019  | 548.9715  |\n",
       "| 3/8/2019  |  80.2200  |\n",
       "| 3/3/2019  | 340.5255  |\n",
       "| 1/27/2019 | 489.0480  |\n",
       "| 2/8/2019  | 634.3785  |\n",
       "| 3/25/2019 | 627.6165  |\n",
       "\n"
      ],
      "text/plain": [
       "  Date      Sales   \n",
       "1 1/5/2019  548.9715\n",
       "2 3/8/2019   80.2200\n",
       "3 3/3/2019  340.5255\n",
       "4 1/27/2019 489.0480\n",
       "5 2/8/2019  634.3785\n",
       "6 3/25/2019 627.6165"
      ]
     },
     "metadata": {},
     "output_type": "display_data"
    }
   ],
   "source": [
    "#loading the dataset\n",
    "path <- \"C:/Users/I/Downloads/\"\n",
    "data <- file.path(path, \"Supermarket_Sales_Forecasting - Sales.csv\")\n",
    "Anoma_df <- read.csv(data)\n",
    "head(Anoma_df)"
   ]
  },
  {
   "cell_type": "code",
   "execution_count": 133,
   "metadata": {
    "ExecuteTime": {
     "end_time": "2020-03-27T00:24:12.909693Z",
     "start_time": "2020-03-27T00:24:12.870Z"
    }
   },
   "outputs": [
    {
     "data": {
      "text/html": [
       "<dl class=dl-horizontal>\n",
       "\t<dt>Date</dt>\n",
       "\t\t<dd>'factor'</dd>\n",
       "\t<dt>Sales</dt>\n",
       "\t\t<dd>'numeric'</dd>\n",
       "</dl>\n"
      ],
      "text/latex": [
       "\\begin{description*}\n",
       "\\item[Date] 'factor'\n",
       "\\item[Sales] 'numeric'\n",
       "\\end{description*}\n"
      ],
      "text/markdown": [
       "Date\n",
       ":   'factor'Sales\n",
       ":   'numeric'\n",
       "\n"
      ],
      "text/plain": [
       "     Date     Sales \n",
       " \"factor\" \"numeric\" "
      ]
     },
     "metadata": {},
     "output_type": "display_data"
    }
   ],
   "source": [
    "# Check the data types of the 2 columns\n",
    "sapply(Anoma_df, class)"
   ]
  },
  {
   "cell_type": "code",
   "execution_count": 134,
   "metadata": {
    "ExecuteTime": {
     "end_time": "2020-03-27T00:24:15.352472Z",
     "start_time": "2020-03-27T00:24:15.304Z"
    }
   },
   "outputs": [
    {
     "data": {
      "text/html": [
       "<dl class=dl-horizontal>\n",
       "\t<dt>Date</dt>\n",
       "\t\t<dd>'Date'</dd>\n",
       "\t<dt>Sales</dt>\n",
       "\t\t<dd>'numeric'</dd>\n",
       "</dl>\n"
      ],
      "text/latex": [
       "\\begin{description*}\n",
       "\\item[Date] 'Date'\n",
       "\\item[Sales] 'numeric'\n",
       "\\end{description*}\n"
      ],
      "text/markdown": [
       "Date\n",
       ":   'Date'Sales\n",
       ":   'numeric'\n",
       "\n"
      ],
      "text/plain": [
       "     Date     Sales \n",
       "   \"Date\" \"numeric\" "
      ]
     },
     "metadata": {},
     "output_type": "display_data"
    }
   ],
   "source": [
    "Anoma_df$Date <- as.Date(Anoma_df$Date )\n",
    "sapply(Anoma_df, class)"
   ]
  },
  {
   "cell_type": "code",
   "execution_count": 135,
   "metadata": {
    "ExecuteTime": {
     "end_time": "2020-03-27T00:24:24.504712Z",
     "start_time": "2020-03-27T00:24:24.454Z"
    }
   },
   "outputs": [
    {
     "data": {
      "text/html": [
       "<table>\n",
       "<thead><tr><th scope=col>Date</th><th scope=col>Sales</th></tr></thead>\n",
       "<tbody>\n",
       "\t<tr><td>0001-05-20</td><td>548.9715  </td></tr>\n",
       "\t<tr><td>0003-08-20</td><td> 80.2200  </td></tr>\n",
       "\t<tr><td>0003-03-20</td><td>340.5255  </td></tr>\n",
       "\t<tr><td>NA      </td><td>489.0480</td></tr>\n",
       "\t<tr><td>0002-08-20</td><td>634.3785  </td></tr>\n",
       "\t<tr><td>NA      </td><td>627.6165</td></tr>\n",
       "</tbody>\n",
       "</table>\n"
      ],
      "text/latex": [
       "\\begin{tabular}{r|ll}\n",
       " Date & Sales\\\\\n",
       "\\hline\n",
       "\t 0001-05-20 & 548.9715  \\\\\n",
       "\t 0003-08-20 &  80.2200  \\\\\n",
       "\t 0003-03-20 & 340.5255  \\\\\n",
       "\t NA       & 489.0480\\\\\n",
       "\t 0002-08-20 & 634.3785  \\\\\n",
       "\t NA       & 627.6165\\\\\n",
       "\\end{tabular}\n"
      ],
      "text/markdown": [
       "\n",
       "| Date | Sales |\n",
       "|---|---|\n",
       "| 0001-05-20 | 548.9715   |\n",
       "| 0003-08-20 |  80.2200   |\n",
       "| 0003-03-20 | 340.5255   |\n",
       "| NA       | 489.0480 |\n",
       "| 0002-08-20 | 634.3785   |\n",
       "| NA       | 627.6165 |\n",
       "\n"
      ],
      "text/plain": [
       "  Date       Sales   \n",
       "1 0001-05-20 548.9715\n",
       "2 0003-08-20  80.2200\n",
       "3 0003-03-20 340.5255\n",
       "4 <NA>       489.0480\n",
       "5 0002-08-20 634.3785\n",
       "6 <NA>       627.6165"
      ]
     },
     "metadata": {},
     "output_type": "display_data"
    }
   ],
   "source": [
    "#Convert the data frame to tibble\n",
    "#\n",
    "Anoma_tb <- as_tibble(Anoma_df)\n",
    "head(Anoma_tb)"
   ]
  },
  {
   "cell_type": "code",
   "execution_count": 137,
   "metadata": {
    "ExecuteTime": {
     "end_time": "2020-03-27T00:25:07.608265Z",
     "start_time": "2020-03-27T00:25:07.527Z"
    }
   },
   "outputs": [
    {
     "ename": "ERROR",
     "evalue": "Error in loadNamespace(i, c(lib.loc, .libPaths()), versionCheck = vI[[i]]): namespace 'rlang' 0.3.4 is already loaded, but >= 0.4.0 is required\n",
     "output_type": "error",
     "traceback": [
      "Error in loadNamespace(i, c(lib.loc, .libPaths()), versionCheck = vI[[i]]): namespace 'rlang' 0.3.4 is already loaded, but >= 0.4.0 is required\nTraceback:\n",
      "1. Anoma_tb %>% tibbletime::as_tbl_time(index = Date)",
      "2. withVisible(eval(quote(`_fseq`(`_lhs`)), env, env))",
      "3. eval(quote(`_fseq`(`_lhs`)), env, env)",
      "4. eval(quote(`_fseq`(`_lhs`)), env, env)",
      "5. `_fseq`(`_lhs`)",
      "6. freduce(value, `_function_list`)",
      "7. withVisible(function_list[[k]](value))",
      "8. function_list[[k]](value)",
      "9. tibbletime::as_tbl_time",
      "10. getExportedValue(pkg, name)",
      "11. asNamespace(ns)",
      "12. getNamespace(ns)",
      "13. loadNamespace(name)",
      "14. namespaceImportFrom(ns, loadNamespace(j <- i[[1L]], c(lib.loc, \n  .     .libPaths()), versionCheck = vI[[j]]), i[[2L]], from = package)",
      "15. asNamespace(ns)",
      "16. loadNamespace(j <- i[[1L]], c(lib.loc, .libPaths()), versionCheck = vI[[j]])",
      "17. namespaceImport(ns, loadNamespace(i, c(lib.loc, .libPaths()), \n  .     versionCheck = vI[[i]]), from = package)",
      "18. loadNamespace(i, c(lib.loc, .libPaths()), versionCheck = vI[[i]])",
      "19. stop(gettextf(\"namespace %s %s is already loaded, but %s %s is required\", \n  .     sQuote(package), current, zop, zversion), domain = NA)"
     ]
    }
   ],
   "source": [
    "Anoma_tb <- Anoma_tb %>%\n",
    "                    tibbletime::as_tbl_time(index = Date)"
   ]
  },
  {
   "cell_type": "code",
   "execution_count": 138,
   "metadata": {
    "ExecuteTime": {
     "end_time": "2020-03-27T00:25:36.197247Z",
     "start_time": "2020-03-27T00:25:35.781Z"
    }
   },
   "outputs": [
    {
     "name": "stderr",
     "output_type": "stream",
     "text": [
      "Registered S3 method overwritten by 'xts':\n",
      "  method     from\n",
      "  as.zoo.xts zoo \n"
     ]
    },
    {
     "ename": "ERROR",
     "evalue": "Error in loadNamespace(i, c(lib.loc, .libPaths()), versionCheck = vI[[i]]): namespace 'rlang' 0.3.4 is already loaded, but >= 0.4.0 is required\n",
     "output_type": "error",
     "traceback": [
      "Error in loadNamespace(i, c(lib.loc, .libPaths()), versionCheck = vI[[i]]): namespace 'rlang' 0.3.4 is already loaded, but >= 0.4.0 is required\nTraceback:\n",
      "1. Anoma_tb %>% time_decompose(Date) %>% anomalize(remainder) %>% \n .     time_recompose() %>% plot_anomalies(time_recomposed = TRUE, \n .     ncol = 3, alpha_dots = 0.5)",
      "2. withVisible(eval(quote(`_fseq`(`_lhs`)), env, env))",
      "3. eval(quote(`_fseq`(`_lhs`)), env, env)",
      "4. eval(quote(`_fseq`(`_lhs`)), env, env)",
      "5. `_fseq`(`_lhs`)",
      "6. freduce(value, `_function_list`)",
      "7. function_list[[i]](value)",
      "8. time_decompose(., Date)",
      "9. time_decompose.tbl_df(., Date)",
      "10. prep_tbl_time(data, message = message)",
      "11. prep_tbl_time.data.frame(data, message = message)",
      "12. data %>% tibbletime::as_tbl_time(index = !!rlang::sym(idx))",
      "13. withVisible(eval(quote(`_fseq`(`_lhs`)), env, env))",
      "14. eval(quote(`_fseq`(`_lhs`)), env, env)",
      "15. eval(quote(`_fseq`(`_lhs`)), env, env)",
      "16. `_fseq`(`_lhs`)",
      "17. freduce(value, `_function_list`)",
      "18. withVisible(function_list[[k]](value))",
      "19. function_list[[k]](value)",
      "20. tibbletime::as_tbl_time",
      "21. getExportedValue(pkg, name)",
      "22. asNamespace(ns)",
      "23. getNamespace(ns)",
      "24. loadNamespace(name)",
      "25. namespaceImportFrom(ns, loadNamespace(j <- i[[1L]], c(lib.loc, \n  .     .libPaths()), versionCheck = vI[[j]]), i[[2L]], from = package)",
      "26. asNamespace(ns)",
      "27. loadNamespace(j <- i[[1L]], c(lib.loc, .libPaths()), versionCheck = vI[[j]])",
      "28. namespaceImport(ns, loadNamespace(i, c(lib.loc, .libPaths()), \n  .     versionCheck = vI[[i]]), from = package)",
      "29. loadNamespace(i, c(lib.loc, .libPaths()), versionCheck = vI[[i]])",
      "30. stop(gettextf(\"namespace %s %s is already loaded, but %s %s is required\", \n  .     sQuote(package), current, zop, zversion), domain = NA)"
     ]
    }
   ],
   "source": [
    "Anoma_tb %>%\n",
    "    time_decompose(Date) %>%\n",
    "    anomalize(remainder) %>%\n",
    "    time_recompose() %>%\n",
    "    plot_anomalies(time_recomposed = TRUE, ncol = 3, alpha_dots = 0.5)\n"
   ]
  },
  {
   "cell_type": "code",
   "execution_count": null,
   "metadata": {},
   "outputs": [],
   "source": []
  }
 ],
 "metadata": {
  "hide_input": false,
  "kernelspec": {
   "display_name": "R",
   "language": "R",
   "name": "ir"
  },
  "language_info": {
   "codemirror_mode": "r",
   "file_extension": ".r",
   "mimetype": "text/x-r-source",
   "name": "R",
   "pygments_lexer": "r",
   "version": "3.6.1"
  },
  "latex_envs": {
   "LaTeX_envs_menu_present": true,
   "autoclose": false,
   "autocomplete": true,
   "bibliofile": "biblio.bib",
   "cite_by": "apalike",
   "current_citInitial": 1,
   "eqLabelWithNumbers": true,
   "eqNumInitial": 1,
   "hotkeys": {
    "equation": "Ctrl-E",
    "itemize": "Ctrl-I"
   },
   "labels_anchors": false,
   "latex_user_defs": false,
   "report_style_numbering": false,
   "user_envs_cfg": false
  },
  "nbTranslate": {
   "displayLangs": [
    "*"
   ],
   "hotkey": "alt-t",
   "langInMainMenu": true,
   "sourceLang": "en",
   "targetLang": "fr",
   "useGoogleTranslate": true
  },
  "toc": {
   "base_numbering": 1,
   "nav_menu": {},
   "number_sections": true,
   "sideBar": true,
   "skip_h1_title": false,
   "title_cell": "Table of Contents",
   "title_sidebar": "Contents",
   "toc_cell": false,
   "toc_position": {},
   "toc_section_display": true,
   "toc_window_display": false
  },
  "varInspector": {
   "cols": {
    "lenName": 16,
    "lenType": 16,
    "lenVar": 40
   },
   "kernels_config": {
    "python": {
     "delete_cmd_postfix": "",
     "delete_cmd_prefix": "del ",
     "library": "var_list.py",
     "varRefreshCmd": "print(var_dic_list())"
    },
    "r": {
     "delete_cmd_postfix": ") ",
     "delete_cmd_prefix": "rm(",
     "library": "var_list.r",
     "varRefreshCmd": "cat(var_dic_list()) "
    }
   },
   "types_to_exclude": [
    "module",
    "function",
    "builtin_function_or_method",
    "instance",
    "_Feature"
   ],
   "window_display": false
  }
 },
 "nbformat": 4,
 "nbformat_minor": 4
}
